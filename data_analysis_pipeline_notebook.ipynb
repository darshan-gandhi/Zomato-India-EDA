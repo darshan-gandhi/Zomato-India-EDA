{
 "cells": [
  {
   "cell_type": "markdown",
   "metadata": {},
   "source": [
    "# Zomato - Exploratory Data Analysis"
   ]
  },
  {
   "cell_type": "markdown",
   "metadata": {
    "colab_type": "text",
    "id": "XJpSC2QDCFAe"
   },
   "source": [
    "## Problem Statement\n",
    "\n",
    "The zomato exploratory data analysis is for the foodies to find the best restaurants, value for money restaurants in their locality. It also helps to find their required cuisines in their locality.  "
   ]
  },
  {
   "cell_type": "markdown",
   "metadata": {
    "colab_type": "text",
    "id": "a0NdrF5rCFAg"
   },
   "source": [
    "## Data Definition\n",
    "\n",
    "**res_id**: The code given to a restaurant (Categorical) \n",
    "\n",
    "**name**: Name of the restaurant (Categorical)\n",
    "\n",
    "**establishment**: Represents the type of establishment (Categorical)\n",
    "\n",
    "**url**: The website of the restaurant (Categorical)\n",
    "\n",
    "**address**: The address of the restaurant (Categorical)\n",
    "\n",
    "**city**: City in which the restaurant located (Categorical)\n",
    "\n",
    "**city_id**: The code given to a city (Categorical)\n",
    "\n",
    "**locality**: Locality of the restaurant (Categorical)\n",
    "\n",
    "**latitude**: Latitude of the restaurant (Categorical)\n",
    "\n",
    "**longitude**: Longitude of the restaurant (Categorical)\n",
    "\n",
    "**zipcode**: Zipcode of the city in which the restaurant located (Categorical)\n",
    "\n",
    "**country_id**: Country code in which the restaurant located (Categorical)\n",
    "\n",
    "**locality_verbose**: Locality along with the city in which the restaurant located (Categorical)\n",
    "\n",
    "**cuisines**: The cuisines a restaurant serves (Categorical)\n",
    "\n",
    "**timings**: The working hours of a restaurant (Categorical)\n",
    "\n",
    "**average_cost_for_two**: The average amount expected for 2 people (Numerical)\n",
    "\n",
    "**price_range**: The categories for average cost (Categories - 1,2,3,4) (Categorical)\n",
    "\n",
    "**currency**: The currency in which a customer pays (Categorical)\n",
    "\n",
    "**highlights**: The facilities of the restaurant (Categorical)\n",
    "\n",
    "**aggregate_rating**: The overall rating a restaurant has got (Numerical) \n",
    "\n",
    "**rating_text**: Categorized ratings (Categorical)\n",
    "\n",
    "**votes**: Number of votes received by the restaurant from customers (Numerical)\n",
    "\n",
    "**photo_count**: The number of photos of a restaurant (Numerical)\n",
    "\n",
    "**opentable_support**: Restaurant reservation from Opentable (Categorical)\n",
    "\n",
    "**delivery**: The restaurant deliver an order or not (Categorical)\n",
    "\n",
    "**takeaway**: The restaurant allows  a 'takeaway' of an order or not (Categorical)"
   ]
  },
  {
   "cell_type": "markdown",
   "metadata": {
    "colab_type": "text",
    "id": "81ICQhnGCFAh"
   },
   "source": [
    "## Table of Contents\n",
    "\n",
    "1. **[Import Libraries](#import_lib)** \n",
    "2. **[Read Data](#Read_Data)** \n",
    "3. **[Understand  and Prepare the Data](#Understand_Data)**\n",
    "4. **[Understand the variables](#Understanding_variables)**\n",
    "5. **[Check for Missing Values](#missing)**\n",
    "6. **[Study Correlation](#correlation)**\n",
    "7. **[Detect Outliers](#outliers)**\n",
    "8. **[Create a new variable 'region'](#region)**\n",
    "9. **[Some more analysis](#more)** \n"
   ]
  },
  {
   "cell_type": "markdown",
   "metadata": {
    "colab_type": "text",
    "id": "wBd82phICFAj"
   },
   "source": [
    "<a id='import_lib'></a>\n",
    "## 1. Import Libraries"
   ]
  },
  {
   "cell_type": "code",
   "execution_count": 1,
   "metadata": {
    "colab": {},
    "colab_type": "code",
    "id": "cscSfwIOCFAl"
   },
   "outputs": [],
   "source": [
    "import pandas as pd\n",
    "import numpy as np \n",
    "import geopandas \n",
    "import matplotlib.pyplot as plt\n",
    "import seaborn as sns"
   ]
  },
  {
   "cell_type": "markdown",
   "metadata": {
    "colab_type": "text",
    "id": "Akro9n-zCFAr"
   },
   "source": [
    "Inference- \n",
    "Importing the needed libraries namely numpy,pandas,geopandas, matplotlib"
   ]
  },
  {
   "cell_type": "markdown",
   "metadata": {
    "colab_type": "text",
    "id": "xkPk2qTRCFA2"
   },
   "source": [
    "<a id='Read_Data'></a>\n",
    "## 2. Read Data"
   ]
  },
  {
   "cell_type": "code",
   "execution_count": 2,
   "metadata": {
    "colab": {
     "base_uri": "https://localhost:8080/",
     "height": 1000
    },
    "colab_type": "code",
    "id": "nYUz-t9cCFA3",
    "outputId": "7718fba7-1c35-4d6f-cf43-09f757089ae7"
   },
   "outputs": [],
   "source": [
    "#reaeding the data from the csv file\n",
    "data=pd.read_csv(\"ZomatoRestaurantsIndia.csv\")"
   ]
  },
  {
   "cell_type": "code",
   "execution_count": 3,
   "metadata": {},
   "outputs": [
    {
     "data": {
      "text/html": [
       "<div>\n",
       "<style scoped>\n",
       "    .dataframe tbody tr th:only-of-type {\n",
       "        vertical-align: middle;\n",
       "    }\n",
       "\n",
       "    .dataframe tbody tr th {\n",
       "        vertical-align: top;\n",
       "    }\n",
       "\n",
       "    .dataframe thead th {\n",
       "        text-align: right;\n",
       "    }\n",
       "</style>\n",
       "<table border=\"1\" class=\"dataframe\">\n",
       "  <thead>\n",
       "    <tr style=\"text-align: right;\">\n",
       "      <th></th>\n",
       "      <th>res_id</th>\n",
       "      <th>name</th>\n",
       "      <th>establishment</th>\n",
       "      <th>url</th>\n",
       "      <th>address</th>\n",
       "      <th>city</th>\n",
       "      <th>city_id</th>\n",
       "      <th>locality</th>\n",
       "      <th>latitude</th>\n",
       "      <th>longitude</th>\n",
       "      <th>...</th>\n",
       "      <th>price_range</th>\n",
       "      <th>currency</th>\n",
       "      <th>highlights</th>\n",
       "      <th>aggregate_rating</th>\n",
       "      <th>rating_text</th>\n",
       "      <th>votes</th>\n",
       "      <th>photo_count</th>\n",
       "      <th>opentable_support</th>\n",
       "      <th>delivery</th>\n",
       "      <th>takeaway</th>\n",
       "    </tr>\n",
       "  </thead>\n",
       "  <tbody>\n",
       "    <tr>\n",
       "      <th>0</th>\n",
       "      <td>3400299</td>\n",
       "      <td>Bikanervala</td>\n",
       "      <td>Quick Bites</td>\n",
       "      <td>https://www.zomato.com/agra/bikanervala-khanda...</td>\n",
       "      <td>Kalyani Point, Near Tulsi Cinema, Bypass Road,...</td>\n",
       "      <td>Agra</td>\n",
       "      <td>34</td>\n",
       "      <td>Khandari</td>\n",
       "      <td>27.211450</td>\n",
       "      <td>78.002381</td>\n",
       "      <td>...</td>\n",
       "      <td>2</td>\n",
       "      <td>Rs.</td>\n",
       "      <td>Lunch, Takeaway Available, Credit Card, Dinner...</td>\n",
       "      <td>4.4</td>\n",
       "      <td>Very Good</td>\n",
       "      <td>814</td>\n",
       "      <td>154</td>\n",
       "      <td>0.0</td>\n",
       "      <td>-1</td>\n",
       "      <td>-1</td>\n",
       "    </tr>\n",
       "    <tr>\n",
       "      <th>1</th>\n",
       "      <td>3400005</td>\n",
       "      <td>Mama Chicken Mama Franky House</td>\n",
       "      <td>Quick Bites</td>\n",
       "      <td>https://www.zomato.com/agra/mama-chicken-mama-...</td>\n",
       "      <td>Main Market, Sadar Bazaar, Agra Cantt, Agra</td>\n",
       "      <td>Agra</td>\n",
       "      <td>34</td>\n",
       "      <td>Agra Cantt</td>\n",
       "      <td>27.160569</td>\n",
       "      <td>78.011583</td>\n",
       "      <td>...</td>\n",
       "      <td>2</td>\n",
       "      <td>Rs.</td>\n",
       "      <td>Delivery, No Alcohol Available, Dinner, Takeaw...</td>\n",
       "      <td>4.4</td>\n",
       "      <td>Very Good</td>\n",
       "      <td>1203</td>\n",
       "      <td>161</td>\n",
       "      <td>0.0</td>\n",
       "      <td>-1</td>\n",
       "      <td>-1</td>\n",
       "    </tr>\n",
       "    <tr>\n",
       "      <th>2</th>\n",
       "      <td>3401013</td>\n",
       "      <td>Bhagat Halwai</td>\n",
       "      <td>Quick Bites</td>\n",
       "      <td>https://www.zomato.com/agra/bhagat-halwai-2-sh...</td>\n",
       "      <td>62/1, Near Easy Day, West Shivaji Nagar, Goalp...</td>\n",
       "      <td>Agra</td>\n",
       "      <td>34</td>\n",
       "      <td>Shahganj</td>\n",
       "      <td>27.182938</td>\n",
       "      <td>77.979684</td>\n",
       "      <td>...</td>\n",
       "      <td>1</td>\n",
       "      <td>Rs.</td>\n",
       "      <td>No Alcohol Available, Dinner, Takeaway Availab...</td>\n",
       "      <td>4.2</td>\n",
       "      <td>Very Good</td>\n",
       "      <td>801</td>\n",
       "      <td>107</td>\n",
       "      <td>0.0</td>\n",
       "      <td>1</td>\n",
       "      <td>-1</td>\n",
       "    </tr>\n",
       "    <tr>\n",
       "      <th>3</th>\n",
       "      <td>3400290</td>\n",
       "      <td>Bhagat Halwai</td>\n",
       "      <td>Quick Bites</td>\n",
       "      <td>https://www.zomato.com/agra/bhagat-halwai-civi...</td>\n",
       "      <td>Near Anjana Cinema, Nehru Nagar, Civil Lines, ...</td>\n",
       "      <td>Agra</td>\n",
       "      <td>34</td>\n",
       "      <td>Civil Lines</td>\n",
       "      <td>27.205668</td>\n",
       "      <td>78.004799</td>\n",
       "      <td>...</td>\n",
       "      <td>1</td>\n",
       "      <td>Rs.</td>\n",
       "      <td>Takeaway Available, Credit Card, Lunch, Delive...</td>\n",
       "      <td>4.3</td>\n",
       "      <td>Very Good</td>\n",
       "      <td>693</td>\n",
       "      <td>157</td>\n",
       "      <td>0.0</td>\n",
       "      <td>1</td>\n",
       "      <td>-1</td>\n",
       "    </tr>\n",
       "    <tr>\n",
       "      <th>4</th>\n",
       "      <td>3401744</td>\n",
       "      <td>The Salt Cafe Kitchen &amp; Bar</td>\n",
       "      <td>Casual Dining</td>\n",
       "      <td>https://www.zomato.com/agra/the-salt-cafe-kitc...</td>\n",
       "      <td>1C,3rd Floor, Fatehabad Road, Tajganj, Agra</td>\n",
       "      <td>Agra</td>\n",
       "      <td>34</td>\n",
       "      <td>Tajganj</td>\n",
       "      <td>27.157709</td>\n",
       "      <td>78.052421</td>\n",
       "      <td>...</td>\n",
       "      <td>3</td>\n",
       "      <td>Rs.</td>\n",
       "      <td>Lunch, Serves Alcohol, Cash, Credit Card, Dinn...</td>\n",
       "      <td>4.9</td>\n",
       "      <td>Excellent</td>\n",
       "      <td>470</td>\n",
       "      <td>291</td>\n",
       "      <td>0.0</td>\n",
       "      <td>1</td>\n",
       "      <td>-1</td>\n",
       "    </tr>\n",
       "  </tbody>\n",
       "</table>\n",
       "<p>5 rows × 26 columns</p>\n",
       "</div>"
      ],
      "text/plain": [
       "    res_id                            name  establishment  \\\n",
       "0  3400299                     Bikanervala    Quick Bites   \n",
       "1  3400005  Mama Chicken Mama Franky House    Quick Bites   \n",
       "2  3401013                   Bhagat Halwai    Quick Bites   \n",
       "3  3400290                   Bhagat Halwai    Quick Bites   \n",
       "4  3401744     The Salt Cafe Kitchen & Bar  Casual Dining   \n",
       "\n",
       "                                                 url  \\\n",
       "0  https://www.zomato.com/agra/bikanervala-khanda...   \n",
       "1  https://www.zomato.com/agra/mama-chicken-mama-...   \n",
       "2  https://www.zomato.com/agra/bhagat-halwai-2-sh...   \n",
       "3  https://www.zomato.com/agra/bhagat-halwai-civi...   \n",
       "4  https://www.zomato.com/agra/the-salt-cafe-kitc...   \n",
       "\n",
       "                                             address  city  city_id  \\\n",
       "0  Kalyani Point, Near Tulsi Cinema, Bypass Road,...  Agra       34   \n",
       "1        Main Market, Sadar Bazaar, Agra Cantt, Agra  Agra       34   \n",
       "2  62/1, Near Easy Day, West Shivaji Nagar, Goalp...  Agra       34   \n",
       "3  Near Anjana Cinema, Nehru Nagar, Civil Lines, ...  Agra       34   \n",
       "4        1C,3rd Floor, Fatehabad Road, Tajganj, Agra  Agra       34   \n",
       "\n",
       "      locality   latitude  longitude  ... price_range  currency  \\\n",
       "0     Khandari  27.211450  78.002381  ...           2       Rs.   \n",
       "1   Agra Cantt  27.160569  78.011583  ...           2       Rs.   \n",
       "2     Shahganj  27.182938  77.979684  ...           1       Rs.   \n",
       "3  Civil Lines  27.205668  78.004799  ...           1       Rs.   \n",
       "4      Tajganj  27.157709  78.052421  ...           3       Rs.   \n",
       "\n",
       "                                          highlights aggregate_rating  \\\n",
       "0  Lunch, Takeaway Available, Credit Card, Dinner...              4.4   \n",
       "1  Delivery, No Alcohol Available, Dinner, Takeaw...              4.4   \n",
       "2  No Alcohol Available, Dinner, Takeaway Availab...              4.2   \n",
       "3  Takeaway Available, Credit Card, Lunch, Delive...              4.3   \n",
       "4  Lunch, Serves Alcohol, Cash, Credit Card, Dinn...              4.9   \n",
       "\n",
       "  rating_text  votes  photo_count opentable_support delivery  takeaway  \n",
       "0   Very Good    814          154               0.0       -1        -1  \n",
       "1   Very Good   1203          161               0.0       -1        -1  \n",
       "2   Very Good    801          107               0.0        1        -1  \n",
       "3   Very Good    693          157               0.0        1        -1  \n",
       "4   Excellent    470          291               0.0        1        -1  \n",
       "\n",
       "[5 rows x 26 columns]"
      ]
     },
     "execution_count": 3,
     "metadata": {},
     "output_type": "execute_result"
    }
   ],
   "source": [
    "#displaying the first 5 rows of the dataframe \n",
    "data.head(5)"
   ]
  },
  {
   "cell_type": "markdown",
   "metadata": {
    "colab_type": "text",
    "id": "hukz3msGCFA8"
   },
   "source": [
    "Inference- \n",
    "\n",
    "Reading the data and displaying the first few rows of the frame for understanding the data"
   ]
  },
  {
   "cell_type": "markdown",
   "metadata": {
    "colab_type": "text",
    "id": "baI-EEWPCFBx"
   },
   "source": [
    "<a id = 'Understanding_variables'> </a>\n",
    "## 3. Understanding the variables"
   ]
  },
  {
   "cell_type": "markdown",
   "metadata": {
    "colab_type": "text",
    "id": "sq261si6CFBy"
   },
   "source": [
    "**1. Variable 'name'**"
   ]
  },
  {
   "cell_type": "code",
   "execution_count": 4,
   "metadata": {
    "colab": {
     "base_uri": "https://localhost:8080/",
     "height": 255
    },
    "colab_type": "code",
    "id": "WL9DMusYCFBz",
    "outputId": "f48184b9-019c-47c8-974b-86452985612d"
   },
   "outputs": [
    {
     "data": {
      "text/plain": [
       "0                            Bikanervala\n",
       "1         Mama Chicken Mama Franky House\n",
       "2                          Bhagat Halwai\n",
       "3                          Bhagat Halwai\n",
       "4            The Salt Cafe Kitchen & Bar\n",
       "                       ...              \n",
       "211939    Kali Mirch Cafe And Restaurant\n",
       "211940                        Raju Omlet\n",
       "211941                  The Grand Thakar\n",
       "211942                            Subway\n",
       "211943        Freshcos - The Health Cafe\n",
       "Name: name, Length: 211944, dtype: object"
      ]
     },
     "execution_count": 4,
     "metadata": {},
     "output_type": "execute_result"
    }
   ],
   "source": [
    "data.name"
   ]
  },
  {
   "cell_type": "markdown",
   "metadata": {
    "colab_type": "text",
    "id": "vQr_deHlCFB2"
   },
   "source": [
    "Inference- \n",
    "    \n",
    "    This column states the names of all the restaurants registered with zomato in india "
   ]
  },
  {
   "cell_type": "markdown",
   "metadata": {
    "colab_type": "text",
    "id": "Po7XeMPkCFB3"
   },
   "source": [
    "**2. Variable 'establishment'**"
   ]
  },
  {
   "cell_type": "code",
   "execution_count": 5,
   "metadata": {
    "colab": {
     "base_uri": "https://localhost:8080/",
     "height": 255
    },
    "colab_type": "code",
    "id": "U65znnqZCFB4",
    "outputId": "e65c6ad6-1cd9-42e1-dc4c-50c0a4238700"
   },
   "outputs": [
    {
     "data": {
      "text/plain": [
       "0           Quick Bites\n",
       "1           Quick Bites\n",
       "2           Quick Bites\n",
       "3           Quick Bites\n",
       "4         Casual Dining\n",
       "              ...      \n",
       "211939    Casual Dining\n",
       "211940      Quick Bites\n",
       "211941    Casual Dining\n",
       "211942      Quick Bites\n",
       "211943             Café\n",
       "Name: establishment, Length: 211944, dtype: object"
      ]
     },
     "execution_count": 5,
     "metadata": {},
     "output_type": "execute_result"
    }
   ],
   "source": [
    "data.establishment"
   ]
  },
  {
   "cell_type": "code",
   "execution_count": 6,
   "metadata": {},
   "outputs": [
    {
     "data": {
      "text/plain": [
       "array(['Quick Bites', 'Casual Dining', 'Bakery', 'Café', 'Dhaba',\n",
       "       'Bhojanalya', 'Bar', 'Sweet Shop', 'Fine Dining', 'Food Truck',\n",
       "       'Dessert Parlour', 'Lounge', 'Pub', 'Beverage Shop', 'Kiosk',\n",
       "       'Paan Shop', 'Confectionery', nan, 'Shack', 'Club', 'Food Court',\n",
       "       'Mess', 'Butcher Shop', 'Microbrewery', 'Cocktail Bar', 'Pop up',\n",
       "       'Irani Cafe'], dtype=object)"
      ]
     },
     "execution_count": 6,
     "metadata": {},
     "output_type": "execute_result"
    }
   ],
   "source": [
    "#finding out the unique values in the column\n",
    "data.establishment.unique()"
   ]
  },
  {
   "cell_type": "markdown",
   "metadata": {
    "colab_type": "text",
    "id": "QHTKVfKQCFB7"
   },
   "source": [
    "Inference- \n",
    "    \n",
    "    This columns indicates the type of offerings restaurant are offering : quick biting, casual dining, cafe and so on"
   ]
  },
  {
   "cell_type": "markdown",
   "metadata": {
    "colab_type": "text",
    "id": "t-jnkQYZCFB8"
   },
   "source": [
    "**3. Variable 'city'**"
   ]
  },
  {
   "cell_type": "code",
   "execution_count": 7,
   "metadata": {
    "colab": {
     "base_uri": "https://localhost:8080/",
     "height": 255
    },
    "colab_type": "code",
    "id": "sbQiVMz2CFB9",
    "outputId": "a91ff873-b01a-4d22-dd2c-9ef6de8fcd65"
   },
   "outputs": [
    {
     "data": {
      "text/plain": [
       "0             Agra\n",
       "1             Agra\n",
       "2             Agra\n",
       "3             Agra\n",
       "4             Agra\n",
       "            ...   \n",
       "211939    Vadodara\n",
       "211940    Vadodara\n",
       "211941    Vadodara\n",
       "211942    Vadodara\n",
       "211943    Vadodara\n",
       "Name: city, Length: 211944, dtype: object"
      ]
     },
     "execution_count": 7,
     "metadata": {},
     "output_type": "execute_result"
    }
   ],
   "source": [
    "data.city"
   ]
  },
  {
   "cell_type": "markdown",
   "metadata": {
    "colab_type": "text",
    "id": "1yWuwx7qCFCA"
   },
   "source": [
    "Inference-\n",
    "        \n",
    "    The cities in the dataset across India\n",
    "        "
   ]
  },
  {
   "cell_type": "markdown",
   "metadata": {
    "colab_type": "text",
    "id": "9viJKAiuCFCB"
   },
   "source": [
    "**Let us find the count of restaurants in each city**"
   ]
  },
  {
   "cell_type": "code",
   "execution_count": 8,
   "metadata": {
    "colab": {
     "base_uri": "https://localhost:8080/",
     "height": 221
    },
    "colab_type": "code",
    "id": "J5t2HgvmCFCC",
    "outputId": "1a3b10ec-e574-4e0d-95bc-25540b5acb91"
   },
   "outputs": [
    {
     "data": {
      "text/plain": [
       "Chennai          11630\n",
       "Mumbai            6497\n",
       "Bangalore         4971\n",
       "Pune              4217\n",
       "Lucknow           4121\n",
       "                 ...  \n",
       "Ghaziabad          132\n",
       "Faridabad          124\n",
       "Howrah              66\n",
       "Greater Noida       33\n",
       "Nayagaon            17\n",
       "Name: city, Length: 98, dtype: int64"
      ]
     },
     "execution_count": 8,
     "metadata": {},
     "output_type": "execute_result"
    }
   ],
   "source": [
    "data.city.value_counts()"
   ]
  },
  {
   "cell_type": "markdown",
   "metadata": {
    "colab_type": "text",
    "id": "hvOMjPiACFCF"
   },
   "source": [
    "Inference-\n",
    "\n",
    "      Counting the no.of restaurants in a specific city in india with the help of value_counts() function of pandas"
   ]
  },
  {
   "cell_type": "markdown",
   "metadata": {
    "colab_type": "text",
    "id": "OfgT6nX2CFCG"
   },
   "source": [
    "**4. Variable 'locality'**"
   ]
  },
  {
   "cell_type": "code",
   "execution_count": 9,
   "metadata": {
    "colab": {
     "base_uri": "https://localhost:8080/",
     "height": 289
    },
    "colab_type": "code",
    "id": "fxM5c-1OCFCH",
    "outputId": "242477e4-ff13-4801-978a-f7ec2e6f238a"
   },
   "outputs": [
    {
     "data": {
      "text/plain": [
       "0            Khandari\n",
       "1          Agra Cantt\n",
       "2            Shahganj\n",
       "3         Civil Lines\n",
       "4             Tajganj\n",
       "             ...     \n",
       "211939      Fatehgunj\n",
       "211940     Karelibaug\n",
       "211941       Alkapuri\n",
       "211942          Akota\n",
       "211943       Vadiwadi\n",
       "Name: locality, Length: 211944, dtype: object"
      ]
     },
     "execution_count": 9,
     "metadata": {},
     "output_type": "execute_result"
    }
   ],
   "source": [
    "data.locality"
   ]
  },
  {
   "cell_type": "markdown",
   "metadata": {
    "colab_type": "text",
    "id": "v6lwhPg0CFCK"
   },
   "source": [
    "Inference-\n",
    "\n",
    "        Understanding the locality where the restaurant is situated"
   ]
  },
  {
   "cell_type": "markdown",
   "metadata": {
    "colab_type": "text",
    "id": "WOOdATYxCFCK"
   },
   "source": [
    "**4. Variable 'latitude'**\n",
    "\n",
    "From the variable 'latitude', we know the latitudinal location of the restaurant\n",
    "\n",
    "The Latitudinal extent of India 8º4‛N to 37º6‛ N. \n",
    "\n",
    "We must check whether we have any points beyond this extent."
   ]
  },
  {
   "cell_type": "markdown",
   "metadata": {
    "colab_type": "text",
    "id": "YijSrjwzCFCL"
   },
   "source": [
    "- We need to replace all these values with NaN's."
   ]
  },
  {
   "cell_type": "markdown",
   "metadata": {
    "colab_type": "text",
    "id": "J5fa44LwCFCM"
   },
   "source": [
    "- check if the values are replace by NaN's"
   ]
  },
  {
   "cell_type": "markdown",
   "metadata": {
    "colab_type": "text",
    "id": "OHHzMAcSCFCN"
   },
   "source": [
    "- We see all the values are replaced by NaN's"
   ]
  },
  {
   "cell_type": "code",
   "execution_count": 10,
   "metadata": {
    "colab": {
     "base_uri": "https://localhost:8080/",
     "height": 255
    },
    "colab_type": "code",
    "id": "5Ast038jCFCO",
    "outputId": "e0efa512-0ec0-490c-f429-af6dadece513"
   },
   "outputs": [
    {
     "data": {
      "text/plain": [
       "0         27.211450\n",
       "1         27.160569\n",
       "2         27.182938\n",
       "3         27.205668\n",
       "4         27.157709\n",
       "            ...    \n",
       "211939    22.336931\n",
       "211940    22.322455\n",
       "211941    22.310563\n",
       "211942    22.270027\n",
       "211943    22.309935\n",
       "Name: latitude, Length: 211944, dtype: float64"
      ]
     },
     "execution_count": 10,
     "metadata": {},
     "output_type": "execute_result"
    }
   ],
   "source": [
    "data.latitude"
   ]
  },
  {
   "cell_type": "markdown",
   "metadata": {
    "colab_type": "text",
    "id": "s9Exq7h9CFCR"
   },
   "source": [
    "Inference-\n",
    "\n",
    "        reading the latitudes"
   ]
  },
  {
   "cell_type": "code",
   "execution_count": 11,
   "metadata": {
    "colab": {
     "base_uri": "https://localhost:8080/",
     "height": 34
    },
    "colab_type": "code",
    "id": "YY9HQqgJCFCS",
    "outputId": "517f0930-e42b-4dde-f09d-e473488ab0dc"
   },
   "outputs": [
    {
     "data": {
      "text/plain": [
       "0"
      ]
     },
     "execution_count": 11,
     "metadata": {},
     "output_type": "execute_result"
    }
   ],
   "source": [
    "#checking for total null values in the column\n",
    "data.latitude.isna().sum()"
   ]
  },
  {
   "cell_type": "code",
   "execution_count": 17,
   "metadata": {
    "colab": {},
    "colab_type": "code",
    "id": "cdQR895LCFCV"
   },
   "outputs": [],
   "source": [
    "#filtering out the values outside of India\n",
    "data.latitude=data.latitude.astype('float64')\n",
    "data.loc[(data.latitude<8.4)| (data.latitude >37.6),['latitude']]=None"
   ]
  },
  {
   "cell_type": "markdown",
   "metadata": {
    "colab_type": "text",
    "id": "CrMc_ez0CFCZ"
   },
   "source": [
    "Inference-\n",
    "\n",
    "        This shows that if a latitude is not within the given paramaters we can say that it does not lie in the indian subcontinent and hence we can replace those values by null values since they are not benificial for us"
   ]
  },
  {
   "cell_type": "code",
   "execution_count": 18,
   "metadata": {
    "colab": {
     "base_uri": "https://localhost:8080/",
     "height": 34
    },
    "colab_type": "code",
    "id": "5WcLvOJ6CFCa",
    "outputId": "02232dac-2059-474f-d9ac-d6a54f86d5ef"
   },
   "outputs": [
    {
     "data": {
      "text/plain": [
       "1339"
      ]
     },
     "execution_count": 18,
     "metadata": {},
     "output_type": "execute_result"
    }
   ],
   "source": [
    "#post the filtering, we can say out 1339 are outliers\n",
    "data.latitude.isna().sum()"
   ]
  },
  {
   "cell_type": "markdown",
   "metadata": {
    "colab_type": "text",
    "id": "2HfvFZZ8CFCe"
   },
   "source": [
    "**5. Variable 'longitude'**\n",
    "\n",
    "From the variable 'longitude', we know the longitudinal location of the restaurant\n",
    "\n",
    "The Longitudinal extent of India is from 68°7'E to 97°25'E\n",
    "\n",
    "We must check whether we have any points beyond this extent."
   ]
  },
  {
   "cell_type": "markdown",
   "metadata": {
    "colab_type": "text",
    "id": "rr1DLEshCFCf"
   },
   "source": [
    "- We need to replace all these values with NaN's."
   ]
  },
  {
   "cell_type": "markdown",
   "metadata": {
    "colab_type": "text",
    "id": "wjVuVLzJCFCg"
   },
   "source": [
    "- Check if the values are replace by NaN's"
   ]
  },
  {
   "cell_type": "markdown",
   "metadata": {
    "colab_type": "text",
    "id": "8jovVs1CCFCh"
   },
   "source": [
    "- From variable 'latitude' and 'longitude', plot the location of restaurants."
   ]
  },
  {
   "cell_type": "code",
   "execution_count": 19,
   "metadata": {
    "colab": {
     "base_uri": "https://localhost:8080/",
     "height": 255
    },
    "colab_type": "code",
    "id": "Xv0_q7W2CFCi",
    "outputId": "21f74689-535f-4f35-a099-d6e1d8f25e24",
    "scrolled": true
   },
   "outputs": [
    {
     "data": {
      "text/plain": [
       "0         78.002381\n",
       "1         78.011583\n",
       "2         77.979684\n",
       "3         78.004799\n",
       "4         78.052421\n",
       "            ...    \n",
       "211939    73.192356\n",
       "211940    73.197203\n",
       "211941    73.171164\n",
       "211942    73.143068\n",
       "211943    73.158768\n",
       "Name: longitude, Length: 211944, dtype: float64"
      ]
     },
     "execution_count": 19,
     "metadata": {},
     "output_type": "execute_result"
    }
   ],
   "source": [
    "data.longitude"
   ]
  },
  {
   "cell_type": "markdown",
   "metadata": {
    "colab_type": "text",
    "id": "qMXDwhfwCFCr"
   },
   "source": [
    "Inference-\n",
    "\n",
    "        reading the longtitude"
   ]
  },
  {
   "cell_type": "code",
   "execution_count": 20,
   "metadata": {
    "colab": {
     "base_uri": "https://localhost:8080/",
     "height": 34
    },
    "colab_type": "code",
    "id": "TVYqdp1XCFCs",
    "outputId": "38ff92f6-7541-483e-fc9d-05b2d19b0a24"
   },
   "outputs": [
    {
     "data": {
      "text/plain": [
       "0"
      ]
     },
     "execution_count": 20,
     "metadata": {},
     "output_type": "execute_result"
    }
   ],
   "source": [
    "#checking for total null values in the column\n",
    "data.longitude.isna().sum()"
   ]
  },
  {
   "cell_type": "code",
   "execution_count": 21,
   "metadata": {
    "colab": {},
    "colab_type": "code",
    "id": "H6Wgtl3XCFCv"
   },
   "outputs": [],
   "source": [
    "#filtering out the values outside of India\n",
    "data.longitude=data.longitude.astype('float64')\n",
    "data.loc[(data.longitude<68.7)| (data.longitude >97.25),['longitude']]=None"
   ]
  },
  {
   "cell_type": "markdown",
   "metadata": {
    "colab_type": "text",
    "id": "VEbgZZBGCFCy"
   },
   "source": [
    "Inference-\n",
    "\n",
    "        This shows that if a longitude is not within the given paramaters we can say that it does not lie in the indian subcontinent and hence we can replace those values by null values since they are not benificial for us"
   ]
  },
  {
   "cell_type": "code",
   "execution_count": 22,
   "metadata": {
    "colab": {
     "base_uri": "https://localhost:8080/",
     "height": 34
    },
    "colab_type": "code",
    "id": "v3U2UKNLCFCz",
    "outputId": "59bc8142-60cb-4104-a3f6-f0763de7a89d"
   },
   "outputs": [
    {
     "data": {
      "text/plain": [
       "1329"
      ]
     },
     "execution_count": 22,
     "metadata": {},
     "output_type": "execute_result"
    }
   ],
   "source": [
    "#post the filtering, we can say out 1329 are outliers\n",
    "data.longitude.isna().sum()"
   ]
  },
  {
   "cell_type": "markdown",
   "metadata": {},
   "source": [
    "## GeoPlotting the Co-ordinates of the Restaurants"
   ]
  },
  {
   "cell_type": "code",
   "execution_count": 162,
   "metadata": {
    "colab": {
     "base_uri": "https://localhost:8080/",
     "height": 282
    },
    "colab_type": "code",
    "id": "tgcF0TzqCFC7",
    "outputId": "1cb35aa8-34ae-4a76-c19c-fe87e214fecc"
   },
   "outputs": [
    {
     "data": {
      "text/plain": [
       "<AxesSubplot:>"
      ]
     },
     "execution_count": 162,
     "metadata": {},
     "output_type": "execute_result"
    },
    {
     "data": {
      "image/png": "[encoded data removed]",
      "text/plain": [
       "<Figure size 2160x720 with 1 Axes>"
      ]
     },
     "metadata": {},
     "output_type": "display_data"
    }
   ],
   "source": [
    "#creating a geopandas dataframe using the lat, long co-ordinates \n",
    "gdf = geopandas.GeoDataFrame(data, geometry=geopandas.points_from_xy(data.longitude, data.latitude))\n",
    "\n",
    "#reading the world geo-map datafile from geopandas library\n",
    "world = geopandas.read_file(geopandas.datasets.get_path('naturalearth_lowres'))\n",
    "\n",
    "#filtering out the values from the world where the country is -> India \n",
    "ax_val = world[world.name == 'India'].plot(color='skyblue', edgecolor='black', linewidth=1)\n",
    "\n",
    "#plotting the dataframe as geo-map\n",
    "gdf.plot(ax=ax_val,color ='white',markersize=50, edgecolor= 'black')"
   ]
  },
  {
   "cell_type": "markdown",
   "metadata": {
    "colab_type": "text",
    "id": "q0FgzwOZCFDA"
   },
   "source": [
    "Inference- \n",
    "\n",
    "        Plotting the various coordinates of the restaurants across India \n",
    "        \n",
    "        The dots indicate the various locations where the restaurants are situated"
   ]
  },
  {
   "cell_type": "markdown",
   "metadata": {
    "colab_type": "text",
    "id": "t1cTUQDmCFDA"
   },
   "source": [
    "**6. Variable 'cuisines'**"
   ]
  },
  {
   "cell_type": "code",
   "execution_count": 25,
   "metadata": {
    "colab": {
     "base_uri": "https://localhost:8080/",
     "height": 289
    },
    "colab_type": "code",
    "id": "wERqzKBcCFDG",
    "outputId": "d8325129-3402-4324-f46e-110e1ce9f78c"
   },
   "outputs": [
    {
     "data": {
      "text/plain": [
       "0         North Indian, South Indian, Mithai, Street Foo...\n",
       "1         North Indian, Mughlai, Rolls, Chinese, Fast Fo...\n",
       "2                                         Fast Food, Mithai\n",
       "3                 Desserts, Bakery, Fast Food, South Indian\n",
       "4                        North Indian, Continental, Italian\n",
       "                                ...                        \n",
       "211939                                         North Indian\n",
       "211940                                            Fast Food\n",
       "211941                      Gujarati, North Indian, Chinese\n",
       "211942                           Fast Food, Sandwich, Salad\n",
       "211943                           Cafe, Healthy Food, Coffee\n",
       "Name: cuisines, Length: 211944, dtype: object"
      ]
     },
     "execution_count": 25,
     "metadata": {},
     "output_type": "execute_result"
    }
   ],
   "source": [
    "data.cuisines"
   ]
  },
  {
   "cell_type": "markdown",
   "metadata": {
    "colab_type": "text",
    "id": "H2hVtcK1CFDJ"
   },
   "source": [
    "Inference- \n",
    "\n",
    "        Cuisines are the various types of foods offered by the various restaurants"
   ]
  },
  {
   "cell_type": "markdown",
   "metadata": {
    "colab_type": "text",
    "id": "c4xx1cYcCFDJ"
   },
   "source": [
    "- To find the unique cusines we write a small user defined function.\n",
    "\n"
   ]
  },
  {
   "cell_type": "code",
   "execution_count": 36,
   "metadata": {
    "colab": {},
    "colab_type": "code",
    "id": "OqJJ5rU0CFDK"
   },
   "outputs": [],
   "source": [
    "def frequency_calculator(x):\n",
    "    'takes input of data of various cuisines, returns unique cuisines present in the respective dataframe provided'\n",
    "    save_cuisines=(list(map(str,(x))))\n",
    "    result_cuisines=set()\n",
    "    for row_of_cuisine in save_cuisines:\n",
    "        distributed_cuisines=(row_of_cuisine.split(\", \"))\n",
    "        for each_cuisine in distributed_cuisines:\n",
    "            result_cuisines.add(each_cuisine)\n",
    "    return (result_cuisines)"
   ]
  },
  {
   "cell_type": "markdown",
   "metadata": {
    "colab_type": "text",
    "id": "ezKrd9vMCFDO"
   },
   "source": [
    "Inference- \n",
    "\n",
    "        Function for finding out unique cuisines"
   ]
  },
  {
   "cell_type": "markdown",
   "metadata": {
    "colab_type": "text",
    "id": "rxZkFbdCCFDO"
   },
   "source": [
    "- find out the frequency of each cuisine"
   ]
  },
  {
   "cell_type": "code",
   "execution_count": 37,
   "metadata": {
    "colab": {
     "base_uri": "https://localhost:8080/",
     "height": 54
    },
    "colab_type": "code",
    "id": "LhLPX6ZECFDP",
    "outputId": "c672fc2d-45a1-4081-93f5-41e8aa577c23"
   },
   "outputs": [],
   "source": [
    "#splitting the cuisines for finding individuals cuisines\n",
    "result_cuisines=frequency_calculator(data.cuisines)"
   ]
  },
  {
   "cell_type": "code",
   "execution_count": 38,
   "metadata": {
    "colab": {
     "base_uri": "https://localhost:8080/",
     "height": 419
    },
    "colab_type": "code",
    "id": "H29Ew3HjCFDT",
    "outputId": "b059c657-06cb-452d-974c-4efb93f381b7"
   },
   "outputs": [],
   "source": [
    "#declaring an array\n",
    "count_of_each_cusine=[]\n",
    "\n",
    "#creating an empty dataframe \n",
    "df_cuisine=pd.DataFrame(result_cuisines,columns=['Cuisines'])\n",
    "\n",
    "#caluclating count of each \n",
    "for each_cuisine in result_cuisines:\n",
    "    count_of_each_cusine.append(data['cuisines'].str.count(each_cuisine).sum())\n",
    "\n",
    "#creating a data frame with the freq of each cuisine\n",
    "df_cuisine['Frequency']=count_of_each_cusine"
   ]
  },
  {
   "cell_type": "code",
   "execution_count": 39,
   "metadata": {},
   "outputs": [
    {
     "data": {
      "text/html": [
       "<div>\n",
       "<style scoped>\n",
       "    .dataframe tbody tr th:only-of-type {\n",
       "        vertical-align: middle;\n",
       "    }\n",
       "\n",
       "    .dataframe tbody tr th {\n",
       "        vertical-align: top;\n",
       "    }\n",
       "\n",
       "    .dataframe thead th {\n",
       "        text-align: right;\n",
       "    }\n",
       "</style>\n",
       "<table border=\"1\" class=\"dataframe\">\n",
       "  <thead>\n",
       "    <tr style=\"text-align: right;\">\n",
       "      <th></th>\n",
       "      <th>Cuisines</th>\n",
       "      <th>Frequency</th>\n",
       "    </tr>\n",
       "  </thead>\n",
       "  <tbody>\n",
       "    <tr>\n",
       "      <th>0</th>\n",
       "      <td>Raw Meats</td>\n",
       "      <td>163.0</td>\n",
       "    </tr>\n",
       "    <tr>\n",
       "      <th>1</th>\n",
       "      <td>Chettinad</td>\n",
       "      <td>1279.0</td>\n",
       "    </tr>\n",
       "    <tr>\n",
       "      <th>2</th>\n",
       "      <td>African</td>\n",
       "      <td>16.0</td>\n",
       "    </tr>\n",
       "    <tr>\n",
       "      <th>3</th>\n",
       "      <td>South Indian</td>\n",
       "      <td>28895.0</td>\n",
       "    </tr>\n",
       "    <tr>\n",
       "      <th>4</th>\n",
       "      <td>Ice Cream</td>\n",
       "      <td>7193.0</td>\n",
       "    </tr>\n",
       "    <tr>\n",
       "      <th>...</th>\n",
       "      <td>...</td>\n",
       "      <td>...</td>\n",
       "    </tr>\n",
       "    <tr>\n",
       "      <th>129</th>\n",
       "      <td>Grill</td>\n",
       "      <td>29.0</td>\n",
       "    </tr>\n",
       "    <tr>\n",
       "      <th>130</th>\n",
       "      <td>Singaporean</td>\n",
       "      <td>127.0</td>\n",
       "    </tr>\n",
       "    <tr>\n",
       "      <th>131</th>\n",
       "      <td>Brazilian</td>\n",
       "      <td>11.0</td>\n",
       "    </tr>\n",
       "    <tr>\n",
       "      <th>132</th>\n",
       "      <td>International</td>\n",
       "      <td>3.0</td>\n",
       "    </tr>\n",
       "    <tr>\n",
       "      <th>133</th>\n",
       "      <td>American</td>\n",
       "      <td>3758.0</td>\n",
       "    </tr>\n",
       "  </tbody>\n",
       "</table>\n",
       "<p>134 rows × 2 columns</p>\n",
       "</div>"
      ],
      "text/plain": [
       "          Cuisines  Frequency\n",
       "0        Raw Meats      163.0\n",
       "1        Chettinad     1279.0\n",
       "2          African       16.0\n",
       "3     South Indian    28895.0\n",
       "4        Ice Cream     7193.0\n",
       "..             ...        ...\n",
       "129          Grill       29.0\n",
       "130    Singaporean      127.0\n",
       "131      Brazilian       11.0\n",
       "132  International        3.0\n",
       "133       American     3758.0\n",
       "\n",
       "[134 rows x 2 columns]"
      ]
     },
     "execution_count": 39,
     "metadata": {},
     "output_type": "execute_result"
    }
   ],
   "source": [
    "df_cuisine"
   ]
  },
  {
   "cell_type": "markdown",
   "metadata": {
    "colab_type": "text",
    "id": "PmbH8tIQCFDZ"
   },
   "source": [
    "Inference- \n",
    "\n",
    "        Finding the top cuisines over india \n",
    "        Showing the top cuisines based on the no.of restaurants that offer them (i.e their frequency)"
   ]
  },
  {
   "cell_type": "markdown",
   "metadata": {
    "colab_type": "text",
    "id": "Hu8kBNYNCFDa"
   },
   "source": [
    "**8. Variable 'average_cost_for_two'**"
   ]
  },
  {
   "cell_type": "code",
   "execution_count": 40,
   "metadata": {
    "colab": {
     "base_uri": "https://localhost:8080/",
     "height": 221
    },
    "colab_type": "code",
    "id": "gCSimqbtCFDb",
    "outputId": "aab1da04-4c98-44fd-f65c-b693c96f0b42"
   },
   "outputs": [
    {
     "data": {
      "text/plain": [
       "0          700\n",
       "1          600\n",
       "2          300\n",
       "3          300\n",
       "4         1000\n",
       "          ... \n",
       "211939     600\n",
       "211940     300\n",
       "211941     700\n",
       "211942     500\n",
       "211943     600\n",
       "Name: average_cost_for_two, Length: 211944, dtype: int64"
      ]
     },
     "execution_count": 40,
     "metadata": {},
     "output_type": "execute_result"
    }
   ],
   "source": [
    "data.average_cost_for_two"
   ]
  },
  {
   "cell_type": "markdown",
   "metadata": {
    "colab_type": "text",
    "id": "vigJKhgUCFDg"
   },
   "source": [
    "Inference- \n",
    "\n",
    "        Getting the idea how much would it cost for two people to have food at that restaurant"
   ]
  },
  {
   "cell_type": "markdown",
   "metadata": {
    "colab_type": "text",
    "id": "Fwxlc7DQCFDh"
   },
   "source": [
    "**9. Variable 'price_range'**"
   ]
  },
  {
   "cell_type": "code",
   "execution_count": 41,
   "metadata": {
    "colab": {
     "base_uri": "https://localhost:8080/",
     "height": 238
    },
    "colab_type": "code",
    "id": "AJlh5WVHCFDi",
    "outputId": "1ed2c287-1bcf-4124-ace6-9904e023cffe"
   },
   "outputs": [
    {
     "data": {
      "text/plain": [
       "0         2\n",
       "1         2\n",
       "2         1\n",
       "3         1\n",
       "4         3\n",
       "         ..\n",
       "211939    2\n",
       "211940    1\n",
       "211941    2\n",
       "211942    2\n",
       "211943    2\n",
       "Name: price_range, Length: 211944, dtype: int64"
      ]
     },
     "execution_count": 41,
     "metadata": {},
     "output_type": "execute_result"
    }
   ],
   "source": [
    "data.price_range"
   ]
  },
  {
   "cell_type": "markdown",
   "metadata": {
    "colab_type": "text",
    "id": "NWJ7g-qjCFDl"
   },
   "source": [
    "Inference- \n",
    "\n",
    "        Understanding the price range and trying to make an better understanding of how costly is the restaurant"
   ]
  },
  {
   "cell_type": "markdown",
   "metadata": {
    "colab_type": "text",
    "id": "gNVcYoCMCFDm"
   },
   "source": [
    "- visualize a exploded pie chart."
   ]
  },
  {
   "cell_type": "code",
   "execution_count": 42,
   "metadata": {
    "colab": {
     "base_uri": "https://localhost:8080/",
     "height": 265
    },
    "colab_type": "code",
    "id": "WywOLJeOCFDm",
    "outputId": "e3de2114-fd4e-4aa5-cb4c-d2e21b206568"
   },
   "outputs": [
    {
     "data": {
      "text/plain": [
       "<AxesSubplot:ylabel='price_range'>"
      ]
     },
     "execution_count": 42,
     "metadata": {},
     "output_type": "execute_result"
    },
    {
     "data": {
      "image/png": "[encoded data removed]",
      "text/plain": [
       "<Figure size 432x288 with 1 Axes>"
      ]
     },
     "metadata": {},
     "output_type": "display_data"
    }
   ],
   "source": [
    "data.price_range.value_counts().plot.pie()"
   ]
  },
  {
   "cell_type": "markdown",
   "metadata": {
    "colab_type": "text",
    "id": "nXFDdh_XCFDp"
   },
   "source": [
    "Inference- \n",
    "\n",
    "        Understanding the price range of the restaurants and analysing the no.of restaurants in a particular price range"
   ]
  },
  {
   "cell_type": "markdown",
   "metadata": {
    "colab_type": "text",
    "id": "ZpvO-6rHCFDr"
   },
   "source": [
    "**10. Variable 'highlights'**"
   ]
  },
  {
   "cell_type": "code",
   "execution_count": 43,
   "metadata": {
    "colab": {
     "base_uri": "https://localhost:8080/",
     "height": 289
    },
    "colab_type": "code",
    "id": "vK4CZxFiCFDs",
    "outputId": "96857a81-83fc-432a-ee41-ff02cca3aba1"
   },
   "outputs": [
    {
     "data": {
      "text/plain": [
       "0         Lunch, Takeaway Available, Credit Card, Dinner...\n",
       "1         Delivery, No Alcohol Available, Dinner, Takeaw...\n",
       "2         No Alcohol Available, Dinner, Takeaway Availab...\n",
       "3         Takeaway Available, Credit Card, Lunch, Delive...\n",
       "4         Lunch, Serves Alcohol, Cash, Credit Card, Dinn...\n",
       "                                ...                        \n",
       "211939    Dinner, Cash, Lunch, Delivery, Indoor Seating,...\n",
       "211940    Dinner, Cash, Takeaway Available, Debit Card, ...\n",
       "211941    Dinner, Cash, Debit Card, Lunch, Takeaway Avai...\n",
       "211942    Dinner, Delivery, Credit Card, Lunch, Cash, Ta...\n",
       "211943    Dinner, Cash, Takeaway Available, Debit Card, ...\n",
       "Name: highlights, Length: 211944, dtype: object"
      ]
     },
     "execution_count": 43,
     "metadata": {},
     "output_type": "execute_result"
    }
   ],
   "source": [
    "data.highlights"
   ]
  },
  {
   "cell_type": "markdown",
   "metadata": {
    "colab_type": "text",
    "id": "oevSutDfCFDv"
   },
   "source": [
    "Inference- \n",
    "\n",
    "        Understanding the various important aspects of the restaurant"
   ]
  },
  {
   "cell_type": "markdown",
   "metadata": {
    "colab_type": "text",
    "id": "b_TI5uRSCFDw"
   },
   "source": [
    "\n",
    "\n",
    "- write a small function to know the number of times a facility has appeared in the 'Highlights'."
   ]
  },
  {
   "cell_type": "markdown",
   "metadata": {
    "colab_type": "text",
    "id": "KrFJsFtQCFDz"
   },
   "source": [
    "Inference- \n",
    "\n",
    "        Function for getting the unique cuisines all over India"
   ]
  },
  {
   "cell_type": "code",
   "execution_count": 44,
   "metadata": {},
   "outputs": [],
   "source": [
    "result_highlights=frequency_calculator(data.highlights)"
   ]
  },
  {
   "cell_type": "code",
   "execution_count": 45,
   "metadata": {
    "colab": {
     "base_uri": "https://localhost:8080/",
     "height": 419
    },
    "colab_type": "code",
    "id": "9vjuqVAECFDz",
    "outputId": "e504e977-af49-4235-d6e8-f4c287857fb8"
   },
   "outputs": [],
   "source": [
    "#declaring an array\n",
    "count_of_each_highlight=[]\n",
    "\n",
    "#creating an empty dataframe \n",
    "df_highlights=pd.DataFrame(result_highlights,columns=['Facility_Provided'])\n",
    "\n",
    "#caluclating count of each \n",
    "for each_highlight in result_highlights:\n",
    "    count_of_each_highlight.append(data['highlights'].str.count(each_highlight).sum())\n",
    "\n",
    "#creating a data frame with the freq of each cuisine\n",
    "df_highlights['Frequency']=count_of_each_highlight"
   ]
  },
  {
   "cell_type": "code",
   "execution_count": 46,
   "metadata": {},
   "outputs": [
    {
     "data": {
      "text/html": [
       "<div>\n",
       "<style scoped>\n",
       "    .dataframe tbody tr th:only-of-type {\n",
       "        vertical-align: middle;\n",
       "    }\n",
       "\n",
       "    .dataframe tbody tr th {\n",
       "        vertical-align: top;\n",
       "    }\n",
       "\n",
       "    .dataframe thead th {\n",
       "        text-align: right;\n",
       "    }\n",
       "</style>\n",
       "<table border=\"1\" class=\"dataframe\">\n",
       "  <thead>\n",
       "    <tr style=\"text-align: right;\">\n",
       "      <th></th>\n",
       "      <th>Facility_Provided</th>\n",
       "      <th>Frequency</th>\n",
       "    </tr>\n",
       "  </thead>\n",
       "  <tbody>\n",
       "    <tr>\n",
       "      <th>0</th>\n",
       "      <td>Dark Kitchen</td>\n",
       "      <td>48.0</td>\n",
       "    </tr>\n",
       "    <tr>\n",
       "      <th>1</th>\n",
       "      <td>Axis Bank - Dining Delights</td>\n",
       "      <td>5550.0</td>\n",
       "    </tr>\n",
       "    <tr>\n",
       "      <th>2</th>\n",
       "      <td>Lunch Menu</td>\n",
       "      <td>769.0</td>\n",
       "    </tr>\n",
       "    <tr>\n",
       "      <th>3</th>\n",
       "      <td>Pool Table</td>\n",
       "      <td>379.0</td>\n",
       "    </tr>\n",
       "    <tr>\n",
       "      <th>4</th>\n",
       "      <td>Credit Card</td>\n",
       "      <td>121873.0</td>\n",
       "    </tr>\n",
       "    <tr>\n",
       "      <th>...</th>\n",
       "      <td>...</td>\n",
       "      <td>...</td>\n",
       "    </tr>\n",
       "    <tr>\n",
       "      <th>99</th>\n",
       "      <td>Smoking Area</td>\n",
       "      <td>20530.0</td>\n",
       "    </tr>\n",
       "    <tr>\n",
       "      <th>100</th>\n",
       "      <td>Cash</td>\n",
       "      <td>203036.0</td>\n",
       "    </tr>\n",
       "    <tr>\n",
       "      <th>101</th>\n",
       "      <td>Gastro Pub</td>\n",
       "      <td>469.0</td>\n",
       "    </tr>\n",
       "    <tr>\n",
       "      <th>102</th>\n",
       "      <td>Indoor Seating</td>\n",
       "      <td>175396.0</td>\n",
       "    </tr>\n",
       "    <tr>\n",
       "      <th>103</th>\n",
       "      <td>Sneakpeek</td>\n",
       "      <td>1972.0</td>\n",
       "    </tr>\n",
       "  </tbody>\n",
       "</table>\n",
       "<p>104 rows × 2 columns</p>\n",
       "</div>"
      ],
      "text/plain": [
       "               Facility_Provided  Frequency\n",
       "0                   Dark Kitchen       48.0\n",
       "1    Axis Bank - Dining Delights     5550.0\n",
       "2                     Lunch Menu      769.0\n",
       "3                     Pool Table      379.0\n",
       "4                    Credit Card   121873.0\n",
       "..                           ...        ...\n",
       "99                  Smoking Area    20530.0\n",
       "100                         Cash   203036.0\n",
       "101                   Gastro Pub      469.0\n",
       "102               Indoor Seating   175396.0\n",
       "103                    Sneakpeek     1972.0\n",
       "\n",
       "[104 rows x 2 columns]"
      ]
     },
     "execution_count": 46,
     "metadata": {},
     "output_type": "execute_result"
    }
   ],
   "source": [
    "df_highlights"
   ]
  },
  {
   "cell_type": "markdown",
   "metadata": {
    "colab_type": "text",
    "id": "y3ALL997CFD5"
   },
   "source": [
    "Inference- \n",
    "\n",
    "        Finding the frequency of the various facilities offered by the restaurants over India"
   ]
  },
  {
   "cell_type": "markdown",
   "metadata": {
    "colab_type": "text",
    "id": "LMwKMVp7CFD5"
   },
   "source": [
    "- Now we find out which facility occurs most number of in the data."
   ]
  },
  {
   "cell_type": "code",
   "execution_count": 47,
   "metadata": {
    "colab": {
     "base_uri": "https://localhost:8080/",
     "height": 51
    },
    "colab_type": "code",
    "id": "-67zWWq8CFD6",
    "outputId": "ee798e1f-b3c0-46b8-cc65-46966dcb83ca"
   },
   "outputs": [
    {
     "data": {
      "text/html": [
       "<div>\n",
       "<style scoped>\n",
       "    .dataframe tbody tr th:only-of-type {\n",
       "        vertical-align: middle;\n",
       "    }\n",
       "\n",
       "    .dataframe tbody tr th {\n",
       "        vertical-align: top;\n",
       "    }\n",
       "\n",
       "    .dataframe thead th {\n",
       "        text-align: right;\n",
       "    }\n",
       "</style>\n",
       "<table border=\"1\" class=\"dataframe\">\n",
       "  <thead>\n",
       "    <tr style=\"text-align: right;\">\n",
       "      <th></th>\n",
       "      <th>Facility_Provided</th>\n",
       "      <th>Frequency</th>\n",
       "    </tr>\n",
       "  </thead>\n",
       "  <tbody>\n",
       "    <tr>\n",
       "      <th>0</th>\n",
       "      <td>Cash</td>\n",
       "      <td>203036.0</td>\n",
       "    </tr>\n",
       "  </tbody>\n",
       "</table>\n",
       "</div>"
      ],
      "text/plain": [
       "  Facility_Provided  Frequency\n",
       "0              Cash   203036.0"
      ]
     },
     "execution_count": 47,
     "metadata": {},
     "output_type": "execute_result"
    }
   ],
   "source": [
    "df_highlights.sort_values(by=['Frequency'],ascending=False).reset_index(drop=True).head(1)"
   ]
  },
  {
   "cell_type": "markdown",
   "metadata": {
    "colab_type": "text",
    "id": "COJkY6uGCFD9"
   },
   "source": [
    "Inference- \n",
    "\n",
    "        we understand that cash is the most frequent facility offered by the restaurants"
   ]
  },
  {
   "cell_type": "markdown",
   "metadata": {
    "colab_type": "text",
    "id": "2Ti6O52UCFD-"
   },
   "source": [
    "**11. Variable 'aggregate_rating'** \n",
    "\n"
   ]
  },
  {
   "cell_type": "code",
   "execution_count": 52,
   "metadata": {
    "colab": {
     "base_uri": "https://localhost:8080/",
     "height": 221
    },
    "colab_type": "code",
    "id": "KJVInXbRCFD-",
    "outputId": "e418d1ea-ba23-4406-b051-95fdbf0ff033"
   },
   "outputs": [
    {
     "data": {
      "text/plain": [
       "0         4.4\n",
       "1         4.4\n",
       "2         4.2\n",
       "3         4.3\n",
       "4         4.9\n",
       "         ... \n",
       "211939    4.1\n",
       "211940    4.1\n",
       "211941    4.0\n",
       "211942    3.7\n",
       "211943    4.0\n",
       "Name: aggregate_rating, Length: 211944, dtype: float64"
      ]
     },
     "execution_count": 52,
     "metadata": {},
     "output_type": "execute_result"
    }
   ],
   "source": [
    "data.aggregate_rating"
   ]
  },
  {
   "cell_type": "markdown",
   "metadata": {
    "colab_type": "text",
    "id": "DaIr5T7GCFEE"
   },
   "source": [
    "Inference- \n",
    "\n",
    "        Understanding the rating of the restaurants on a scale of 1-5 "
   ]
  },
  {
   "cell_type": "markdown",
   "metadata": {
    "colab_type": "text",
    "id": "G03RnXZPCFEE"
   },
   "source": [
    "**12. Variable 'rating_text'**\n",
    "\n"
   ]
  },
  {
   "cell_type": "code",
   "execution_count": 53,
   "metadata": {
    "colab": {
     "base_uri": "https://localhost:8080/",
     "height": 238
    },
    "colab_type": "code",
    "id": "m4rvv6PmCFEF",
    "outputId": "34a8d186-f937-4707-dee1-b8a5f5a6f761"
   },
   "outputs": [
    {
     "data": {
      "text/plain": [
       "0         Very Good\n",
       "1         Very Good\n",
       "2         Very Good\n",
       "3         Very Good\n",
       "4         Excellent\n",
       "            ...    \n",
       "211939    Very Good\n",
       "211940    Very Good\n",
       "211941    Very Good\n",
       "211942         Good\n",
       "211943    Very Good\n",
       "Name: rating_text, Length: 211944, dtype: object"
      ]
     },
     "execution_count": 53,
     "metadata": {},
     "output_type": "execute_result"
    }
   ],
   "source": [
    "data.rating_text"
   ]
  },
  {
   "cell_type": "markdown",
   "metadata": {
    "colab_type": "text",
    "id": "YgBSPtuvCFEH"
   },
   "source": [
    "Inference- \n",
    "\n",
    "        understanding the rating of the restaurant in descriptive format"
   ]
  },
  {
   "cell_type": "markdown",
   "metadata": {
    "colab_type": "text",
    "id": "DJ87zKu2CFEJ"
   },
   "source": [
    "Creating a New feature for better understanding of ratings\n"
   ]
  },
  {
   "cell_type": "code",
   "execution_count": 54,
   "metadata": {
    "colab": {
     "base_uri": "https://localhost:8080/",
     "height": 34
    },
    "colab_type": "code",
    "id": "z62YJegnCFEL",
    "outputId": "e15c4532-9fd2-4eb6-e083-586d8b0d897e"
   },
   "outputs": [],
   "source": [
    "#creating a new column rating_text_new using the aggregate_rating column data\n",
    "data.loc[((data.aggregate_rating>=0) & (data.aggregate_rating<=1)),'rating_text_new']='poor'\n",
    "data.loc[((data.aggregate_rating>=1) & (data.aggregate_rating<=2)),'rating_text_new']='average'\n",
    "data.loc[((data.aggregate_rating>=2) & (data.aggregate_rating<=3)),'rating_text_new']='good'\n",
    "data.loc[((data.aggregate_rating>=3) & (data.aggregate_rating<=4)),'rating_text_new']='very good'\n",
    "data.loc[((data.aggregate_rating>=4) & (data.aggregate_rating<=5)),'rating_text_new']='excellent'"
   ]
  },
  {
   "cell_type": "code",
   "execution_count": 55,
   "metadata": {},
   "outputs": [
    {
     "data": {
      "text/plain": [
       "array(['excellent', 'very good', 'poor', 'good', 'average'], dtype=object)"
      ]
     },
     "execution_count": 55,
     "metadata": {},
     "output_type": "execute_result"
    }
   ],
   "source": [
    "#finding out the unique ratings for the newly created column\n",
    "data['rating_text_new'].unique()"
   ]
  },
  {
   "cell_type": "markdown",
   "metadata": {
    "colab_type": "text",
    "id": "vqPmydt5CFEO"
   },
   "source": [
    "Inference- \n",
    "        \n",
    "        Creating a new column with range defined from 0 to 5 in five parts and assining each range an ordinal value"
   ]
  },
  {
   "cell_type": "markdown",
   "metadata": {
    "colab_type": "text",
    "id": "durHixh7CFEO"
   },
   "source": [
    "**13. Variable 'votes'**"
   ]
  },
  {
   "cell_type": "code",
   "execution_count": 56,
   "metadata": {
    "colab": {
     "base_uri": "https://localhost:8080/",
     "height": 221
    },
    "colab_type": "code",
    "id": "JKaSnvZECFEP",
    "outputId": "13e4288b-7359-4205-9e8d-1231f29f2c35"
   },
   "outputs": [
    {
     "data": {
      "text/plain": [
       "0          814\n",
       "1         1203\n",
       "2          801\n",
       "3          693\n",
       "4          470\n",
       "          ... \n",
       "211939     243\n",
       "211940     187\n",
       "211941     111\n",
       "211942     128\n",
       "211943      93\n",
       "Name: votes, Length: 211944, dtype: int64"
      ]
     },
     "execution_count": 56,
     "metadata": {},
     "output_type": "execute_result"
    }
   ],
   "source": [
    "data.votes"
   ]
  },
  {
   "cell_type": "markdown",
   "metadata": {
    "colab_type": "text",
    "id": "BJc-SxwWCFES"
   },
   "source": [
    "Inference- \n",
    "    \n",
    "    This shows the votes that are given to the restaurants by the customers visiting it"
   ]
  },
  {
   "cell_type": "markdown",
   "metadata": {
    "colab_type": "text",
    "id": "FTvjfc5sCFEZ"
   },
   "source": [
    "**14. Variable 'photo_count'**"
   ]
  },
  {
   "cell_type": "code",
   "execution_count": 57,
   "metadata": {
    "colab": {
     "base_uri": "https://localhost:8080/",
     "height": 221
    },
    "colab_type": "code",
    "id": "dE5Kj6T1CFEa",
    "outputId": "509d0170-d11c-4d8e-a9ef-3d3d8db94c6b"
   },
   "outputs": [
    {
     "data": {
      "text/plain": [
       "0         154\n",
       "1         161\n",
       "2         107\n",
       "3         157\n",
       "4         291\n",
       "         ... \n",
       "211939     40\n",
       "211940     40\n",
       "211941     38\n",
       "211942     34\n",
       "211943     53\n",
       "Name: photo_count, Length: 211944, dtype: int64"
      ]
     },
     "execution_count": 57,
     "metadata": {},
     "output_type": "execute_result"
    }
   ],
   "source": [
    "data.photo_count"
   ]
  },
  {
   "cell_type": "markdown",
   "metadata": {
    "colab_type": "text",
    "id": "n8rn19rDCFEi"
   },
   "source": [
    "Inference- \n",
    "    \n",
    "    This shows what are the no.of photos that uploaded by the customers visting the restaurant"
   ]
  },
  {
   "cell_type": "markdown",
   "metadata": {
    "colab_type": "text",
    "id": "Hrg-2JTDCFEj"
   },
   "source": [
    "**15. Variable 'delivery'**"
   ]
  },
  {
   "cell_type": "code",
   "execution_count": 58,
   "metadata": {
    "colab": {
     "base_uri": "https://localhost:8080/",
     "height": 238
    },
    "colab_type": "code",
    "id": "_r2XQSQRCFEk",
    "outputId": "f33bdc55-50f7-493f-ec1e-7e1319596374"
   },
   "outputs": [
    {
     "data": {
      "text/plain": [
       "0        -1\n",
       "1        -1\n",
       "2         1\n",
       "3         1\n",
       "4         1\n",
       "         ..\n",
       "211939   -1\n",
       "211940    1\n",
       "211941   -1\n",
       "211942    1\n",
       "211943    1\n",
       "Name: delivery, Length: 211944, dtype: int64"
      ]
     },
     "execution_count": 58,
     "metadata": {},
     "output_type": "execute_result"
    }
   ],
   "source": [
    "data.delivery"
   ]
  },
  {
   "cell_type": "markdown",
   "metadata": {
    "colab_type": "text",
    "id": "AnVt6J3KCFEl"
   },
   "source": [
    "Inference- \n",
    "    \n",
    "    This shows what type of restaurant is it namely does it delivery (1) or it does not deliver (-1)"
   ]
  },
  {
   "cell_type": "markdown",
   "metadata": {
    "colab_type": "text",
    "id": "TOcRVejDCFEm"
   },
   "source": [
    "<a id ='missing'></a>\n",
    "## 4. Check for missing values"
   ]
  },
  {
   "cell_type": "code",
   "execution_count": 59,
   "metadata": {
    "colab": {
     "base_uri": "https://localhost:8080/",
     "height": 442
    },
    "colab_type": "code",
    "id": "qgwOIQhyCFEm",
    "outputId": "1fb19a37-fbb9-46fb-9f75-7d1fbff26c8f"
   },
   "outputs": [
    {
     "data": {
      "text/plain": [
       "res_id                       0\n",
       "name                         0\n",
       "establishment             4827\n",
       "url                          0\n",
       "address                    134\n",
       "city                         0\n",
       "city_id                      0\n",
       "locality                     0\n",
       "latitude                  1339\n",
       "longitude                 1329\n",
       "zipcode                 163187\n",
       "country_id                   0\n",
       "locality_verbose             0\n",
       "cuisines                  1391\n",
       "timings                   3874\n",
       "average_cost_for_two         0\n",
       "price_range                  0\n",
       "currency                     0\n",
       "highlights                2069\n",
       "aggregate_rating             0\n",
       "rating_text                  0\n",
       "votes                        0\n",
       "photo_count                  0\n",
       "opentable_support           48\n",
       "delivery                     0\n",
       "takeaway                     0\n",
       "geometry                     0\n",
       "rating_text_new              0\n",
       "dtype: int64"
      ]
     },
     "execution_count": 59,
     "metadata": {},
     "output_type": "execute_result"
    }
   ],
   "source": [
    "data.isna().sum()"
   ]
  },
  {
   "cell_type": "markdown",
   "metadata": {
    "colab_type": "text",
    "id": "vvBYfZlRCFEo"
   },
   "source": [
    "Inference- \n",
    "    \n",
    "    This shows what are the various values in the dataset having null values\n",
    "    \n",
    "    one can observe the zipcode column has 163187 null values which is about 2/3rd of the dataset \n",
    "    \n",
    "    highlights, estabhlishment can be replaced with the help of mode value \n",
    "    \n",
    "    latitude & longtitude have null val showing out of India range\n",
    "    \n",
    "    some of the addresses are also not there"
   ]
  },
  {
   "cell_type": "markdown",
   "metadata": {
    "colab_type": "text",
    "id": "FLD6pEBiCFEp"
   },
   "source": [
    "**6. Study summary statistics**"
   ]
  },
  {
   "cell_type": "markdown",
   "metadata": {
    "colab_type": "text",
    "id": "le10dI5mCFEq"
   },
   "source": [
    "Let us check the summary statistics for numerical variables."
   ]
  },
  {
   "cell_type": "code",
   "execution_count": 60,
   "metadata": {
    "colab": {
     "base_uri": "https://localhost:8080/",
     "height": 297
    },
    "colab_type": "code",
    "id": "96zXK6kCCFEr",
    "outputId": "afa28598-0f73-4a67-9f9a-4a6877df4046",
    "scrolled": true
   },
   "outputs": [
    {
     "data": {
      "text/html": [
       "<div>\n",
       "<style scoped>\n",
       "    .dataframe tbody tr th:only-of-type {\n",
       "        vertical-align: middle;\n",
       "    }\n",
       "\n",
       "    .dataframe tbody tr th {\n",
       "        vertical-align: top;\n",
       "    }\n",
       "\n",
       "    .dataframe thead th {\n",
       "        text-align: right;\n",
       "    }\n",
       "</style>\n",
       "<table border=\"1\" class=\"dataframe\">\n",
       "  <thead>\n",
       "    <tr style=\"text-align: right;\">\n",
       "      <th></th>\n",
       "      <th>res_id</th>\n",
       "      <th>city_id</th>\n",
       "      <th>latitude</th>\n",
       "      <th>longitude</th>\n",
       "      <th>country_id</th>\n",
       "      <th>average_cost_for_two</th>\n",
       "      <th>price_range</th>\n",
       "      <th>aggregate_rating</th>\n",
       "      <th>votes</th>\n",
       "      <th>photo_count</th>\n",
       "      <th>opentable_support</th>\n",
       "      <th>delivery</th>\n",
       "      <th>takeaway</th>\n",
       "    </tr>\n",
       "  </thead>\n",
       "  <tbody>\n",
       "    <tr>\n",
       "      <th>count</th>\n",
       "      <td>2.119440e+05</td>\n",
       "      <td>211944.000000</td>\n",
       "      <td>210605.000000</td>\n",
       "      <td>210615.000000</td>\n",
       "      <td>211944.0</td>\n",
       "      <td>211944.000000</td>\n",
       "      <td>211944.000000</td>\n",
       "      <td>211944.000000</td>\n",
       "      <td>211944.000000</td>\n",
       "      <td>211944.000000</td>\n",
       "      <td>211896.0</td>\n",
       "      <td>211944.000000</td>\n",
       "      <td>211944.0</td>\n",
       "    </tr>\n",
       "    <tr>\n",
       "      <th>mean</th>\n",
       "      <td>1.349411e+07</td>\n",
       "      <td>4746.785434</td>\n",
       "      <td>21.586832</td>\n",
       "      <td>78.104827</td>\n",
       "      <td>1.0</td>\n",
       "      <td>595.812229</td>\n",
       "      <td>1.882535</td>\n",
       "      <td>3.395937</td>\n",
       "      <td>378.002571</td>\n",
       "      <td>256.971224</td>\n",
       "      <td>0.0</td>\n",
       "      <td>-0.255907</td>\n",
       "      <td>-1.0</td>\n",
       "    </tr>\n",
       "    <tr>\n",
       "      <th>std</th>\n",
       "      <td>7.883722e+06</td>\n",
       "      <td>5568.766386</td>\n",
       "      <td>6.823595</td>\n",
       "      <td>4.286852</td>\n",
       "      <td>0.0</td>\n",
       "      <td>606.239363</td>\n",
       "      <td>0.892989</td>\n",
       "      <td>1.283642</td>\n",
       "      <td>925.333106</td>\n",
       "      <td>867.668940</td>\n",
       "      <td>0.0</td>\n",
       "      <td>0.964172</td>\n",
       "      <td>0.0</td>\n",
       "    </tr>\n",
       "    <tr>\n",
       "      <th>min</th>\n",
       "      <td>5.000000e+01</td>\n",
       "      <td>1.000000</td>\n",
       "      <td>8.400144</td>\n",
       "      <td>69.014446</td>\n",
       "      <td>1.0</td>\n",
       "      <td>0.000000</td>\n",
       "      <td>1.000000</td>\n",
       "      <td>0.000000</td>\n",
       "      <td>0.000000</td>\n",
       "      <td>0.000000</td>\n",
       "      <td>0.0</td>\n",
       "      <td>-1.000000</td>\n",
       "      <td>-1.0</td>\n",
       "    </tr>\n",
       "    <tr>\n",
       "      <th>25%</th>\n",
       "      <td>3.301027e+06</td>\n",
       "      <td>11.000000</td>\n",
       "      <td>15.545368</td>\n",
       "      <td>74.892431</td>\n",
       "      <td>1.0</td>\n",
       "      <td>250.000000</td>\n",
       "      <td>1.000000</td>\n",
       "      <td>3.300000</td>\n",
       "      <td>16.000000</td>\n",
       "      <td>3.000000</td>\n",
       "      <td>0.0</td>\n",
       "      <td>-1.000000</td>\n",
       "      <td>-1.0</td>\n",
       "    </tr>\n",
       "    <tr>\n",
       "      <th>50%</th>\n",
       "      <td>1.869573e+07</td>\n",
       "      <td>34.000000</td>\n",
       "      <td>22.541707</td>\n",
       "      <td>77.434536</td>\n",
       "      <td>1.0</td>\n",
       "      <td>400.000000</td>\n",
       "      <td>2.000000</td>\n",
       "      <td>3.800000</td>\n",
       "      <td>100.000000</td>\n",
       "      <td>18.000000</td>\n",
       "      <td>0.0</td>\n",
       "      <td>-1.000000</td>\n",
       "      <td>-1.0</td>\n",
       "    </tr>\n",
       "    <tr>\n",
       "      <th>75%</th>\n",
       "      <td>1.881297e+07</td>\n",
       "      <td>11306.000000</td>\n",
       "      <td>26.847055</td>\n",
       "      <td>80.221799</td>\n",
       "      <td>1.0</td>\n",
       "      <td>700.000000</td>\n",
       "      <td>2.000000</td>\n",
       "      <td>4.100000</td>\n",
       "      <td>362.000000</td>\n",
       "      <td>128.000000</td>\n",
       "      <td>0.0</td>\n",
       "      <td>1.000000</td>\n",
       "      <td>-1.0</td>\n",
       "    </tr>\n",
       "    <tr>\n",
       "      <th>max</th>\n",
       "      <td>1.915979e+07</td>\n",
       "      <td>11354.000000</td>\n",
       "      <td>34.214702</td>\n",
       "      <td>91.832769</td>\n",
       "      <td>1.0</td>\n",
       "      <td>30000.000000</td>\n",
       "      <td>4.000000</td>\n",
       "      <td>4.900000</td>\n",
       "      <td>42539.000000</td>\n",
       "      <td>17702.000000</td>\n",
       "      <td>0.0</td>\n",
       "      <td>1.000000</td>\n",
       "      <td>-1.0</td>\n",
       "    </tr>\n",
       "  </tbody>\n",
       "</table>\n",
       "</div>"
      ],
      "text/plain": [
       "             res_id        city_id       latitude      longitude  country_id  \\\n",
       "count  2.119440e+05  211944.000000  210605.000000  210615.000000    211944.0   \n",
       "mean   1.349411e+07    4746.785434      21.586832      78.104827         1.0   \n",
       "std    7.883722e+06    5568.766386       6.823595       4.286852         0.0   \n",
       "min    5.000000e+01       1.000000       8.400144      69.014446         1.0   \n",
       "25%    3.301027e+06      11.000000      15.545368      74.892431         1.0   \n",
       "50%    1.869573e+07      34.000000      22.541707      77.434536         1.0   \n",
       "75%    1.881297e+07   11306.000000      26.847055      80.221799         1.0   \n",
       "max    1.915979e+07   11354.000000      34.214702      91.832769         1.0   \n",
       "\n",
       "       average_cost_for_two    price_range  aggregate_rating          votes  \\\n",
       "count         211944.000000  211944.000000     211944.000000  211944.000000   \n",
       "mean             595.812229       1.882535          3.395937     378.002571   \n",
       "std              606.239363       0.892989          1.283642     925.333106   \n",
       "min                0.000000       1.000000          0.000000       0.000000   \n",
       "25%              250.000000       1.000000          3.300000      16.000000   \n",
       "50%              400.000000       2.000000          3.800000     100.000000   \n",
       "75%              700.000000       2.000000          4.100000     362.000000   \n",
       "max            30000.000000       4.000000          4.900000   42539.000000   \n",
       "\n",
       "         photo_count  opentable_support       delivery  takeaway  \n",
       "count  211944.000000           211896.0  211944.000000  211944.0  \n",
       "mean      256.971224                0.0      -0.255907      -1.0  \n",
       "std       867.668940                0.0       0.964172       0.0  \n",
       "min         0.000000                0.0      -1.000000      -1.0  \n",
       "25%         3.000000                0.0      -1.000000      -1.0  \n",
       "50%        18.000000                0.0      -1.000000      -1.0  \n",
       "75%       128.000000                0.0       1.000000      -1.0  \n",
       "max     17702.000000                0.0       1.000000      -1.0  "
      ]
     },
     "execution_count": 60,
     "metadata": {},
     "output_type": "execute_result"
    }
   ],
   "source": [
    "data.describe()"
   ]
  },
  {
   "cell_type": "markdown",
   "metadata": {
    "colab_type": "text",
    "id": "FdFLhpKNCFEt"
   },
   "source": [
    "Inference- \n",
    "    \n",
    "    This shows what are the the most extreme values in the data set (the maximum and minimum values), the lower and upper quartiles, and the median"
   ]
  },
  {
   "cell_type": "markdown",
   "metadata": {
    "colab_type": "text",
    "id": "3yLMTF0ACFA9"
   },
   "source": [
    "<a id='Understand_Data'></a>\n",
    "## 5. Understand  and Prepare the Data"
   ]
  },
  {
   "cell_type": "markdown",
   "metadata": {
    "colab_type": "text",
    "id": "l_jpObioCFA-"
   },
   "source": [
    "Brief Context : \n",
    "\n",
    "→ A well-prepared data proves beneficial for analysis as it limits errors and inaccuracies that can occur during analysis. The processed data is easily accessible to use and also for manipulations moving ahead. \n",
    "\n",
    "→ Data preparation is often a lengthy process, but it is essential as a prerequisite to put data in context to get insights and eliminate bias resulting from poor data quality."
   ]
  },
  {
   "cell_type": "markdown",
   "metadata": {},
   "source": [
    "Tasks Performed : \n",
    "\n",
    "1. **Check dimensions of the dataframe**\n",
    "2. **Analysing the head of the data**\n",
    "3. **Note the redundant variables and drop them** \n",
    "4. **Check the data types. Refer to data definition to ensure your data types are correct. If data types are not as per business context, change the data types as per requirement** \n",
    "5. **Check for duplicates**"
   ]
  },
  {
   "cell_type": "markdown",
   "metadata": {
    "colab_type": "text",
    "id": "X4vrEGQSCFBC"
   },
   "source": [
    "#### Check dimensions of the dataframe in terms of rows and columns"
   ]
  },
  {
   "cell_type": "code",
   "execution_count": 61,
   "metadata": {
    "colab": {
     "base_uri": "https://localhost:8080/",
     "height": 34
    },
    "colab_type": "code",
    "id": "u0yaggJOCFBD",
    "outputId": "9e99682b-bddb-4e4b-a9ed-75f2cb63eae2"
   },
   "outputs": [
    {
     "data": {
      "text/plain": [
       "(211944, 28)"
      ]
     },
     "execution_count": 61,
     "metadata": {},
     "output_type": "execute_result"
    }
   ],
   "source": [
    "data.shape"
   ]
  },
  {
   "cell_type": "markdown",
   "metadata": {
    "colab_type": "text",
    "id": "kEMtUUGRCFBG"
   },
   "source": [
    "Inference drawn: \n",
    "    \n",
    "    The no.of rows are 211944\n",
    "    \n",
    "    The no.of columns are 26"
   ]
  },
  {
   "cell_type": "markdown",
   "metadata": {
    "colab_type": "text",
    "id": "OAJpxlJCCFBH"
   },
   "source": [
    "##### Analysing the head of the data"
   ]
  },
  {
   "cell_type": "code",
   "execution_count": 62,
   "metadata": {
    "colab": {
     "base_uri": "https://localhost:8080/",
     "height": 700
    },
    "colab_type": "code",
    "id": "JDHnCA1yCFBJ",
    "outputId": "55e50eb6-d981-4ae6-dfad-92e0f74b40b9"
   },
   "outputs": [
    {
     "data": {
      "text/html": [
       "<div>\n",
       "<style scoped>\n",
       "    .dataframe tbody tr th:only-of-type {\n",
       "        vertical-align: middle;\n",
       "    }\n",
       "\n",
       "    .dataframe tbody tr th {\n",
       "        vertical-align: top;\n",
       "    }\n",
       "\n",
       "    .dataframe thead th {\n",
       "        text-align: right;\n",
       "    }\n",
       "</style>\n",
       "<table border=\"1\" class=\"dataframe\">\n",
       "  <thead>\n",
       "    <tr style=\"text-align: right;\">\n",
       "      <th></th>\n",
       "      <th>res_id</th>\n",
       "      <th>name</th>\n",
       "      <th>establishment</th>\n",
       "      <th>url</th>\n",
       "      <th>address</th>\n",
       "      <th>city</th>\n",
       "      <th>city_id</th>\n",
       "      <th>locality</th>\n",
       "      <th>latitude</th>\n",
       "      <th>longitude</th>\n",
       "      <th>...</th>\n",
       "      <th>highlights</th>\n",
       "      <th>aggregate_rating</th>\n",
       "      <th>rating_text</th>\n",
       "      <th>votes</th>\n",
       "      <th>photo_count</th>\n",
       "      <th>opentable_support</th>\n",
       "      <th>delivery</th>\n",
       "      <th>takeaway</th>\n",
       "      <th>geometry</th>\n",
       "      <th>rating_text_new</th>\n",
       "    </tr>\n",
       "  </thead>\n",
       "  <tbody>\n",
       "    <tr>\n",
       "      <th>0</th>\n",
       "      <td>3400299</td>\n",
       "      <td>Bikanervala</td>\n",
       "      <td>Quick Bites</td>\n",
       "      <td>https://www.zomato.com/agra/bikanervala-khanda...</td>\n",
       "      <td>Kalyani Point, Near Tulsi Cinema, Bypass Road,...</td>\n",
       "      <td>Agra</td>\n",
       "      <td>34</td>\n",
       "      <td>Khandari</td>\n",
       "      <td>27.211450</td>\n",
       "      <td>78.002381</td>\n",
       "      <td>...</td>\n",
       "      <td>Lunch, Takeaway Available, Credit Card, Dinner...</td>\n",
       "      <td>4.4</td>\n",
       "      <td>Very Good</td>\n",
       "      <td>814</td>\n",
       "      <td>154</td>\n",
       "      <td>0.0</td>\n",
       "      <td>-1</td>\n",
       "      <td>-1</td>\n",
       "      <td>POINT (78.00238 27.21145)</td>\n",
       "      <td>excellent</td>\n",
       "    </tr>\n",
       "    <tr>\n",
       "      <th>1</th>\n",
       "      <td>3400005</td>\n",
       "      <td>Mama Chicken Mama Franky House</td>\n",
       "      <td>Quick Bites</td>\n",
       "      <td>https://www.zomato.com/agra/mama-chicken-mama-...</td>\n",
       "      <td>Main Market, Sadar Bazaar, Agra Cantt, Agra</td>\n",
       "      <td>Agra</td>\n",
       "      <td>34</td>\n",
       "      <td>Agra Cantt</td>\n",
       "      <td>27.160569</td>\n",
       "      <td>78.011583</td>\n",
       "      <td>...</td>\n",
       "      <td>Delivery, No Alcohol Available, Dinner, Takeaw...</td>\n",
       "      <td>4.4</td>\n",
       "      <td>Very Good</td>\n",
       "      <td>1203</td>\n",
       "      <td>161</td>\n",
       "      <td>0.0</td>\n",
       "      <td>-1</td>\n",
       "      <td>-1</td>\n",
       "      <td>POINT (78.01158 27.16057)</td>\n",
       "      <td>excellent</td>\n",
       "    </tr>\n",
       "    <tr>\n",
       "      <th>2</th>\n",
       "      <td>3401013</td>\n",
       "      <td>Bhagat Halwai</td>\n",
       "      <td>Quick Bites</td>\n",
       "      <td>https://www.zomato.com/agra/bhagat-halwai-2-sh...</td>\n",
       "      <td>62/1, Near Easy Day, West Shivaji Nagar, Goalp...</td>\n",
       "      <td>Agra</td>\n",
       "      <td>34</td>\n",
       "      <td>Shahganj</td>\n",
       "      <td>27.182938</td>\n",
       "      <td>77.979684</td>\n",
       "      <td>...</td>\n",
       "      <td>No Alcohol Available, Dinner, Takeaway Availab...</td>\n",
       "      <td>4.2</td>\n",
       "      <td>Very Good</td>\n",
       "      <td>801</td>\n",
       "      <td>107</td>\n",
       "      <td>0.0</td>\n",
       "      <td>1</td>\n",
       "      <td>-1</td>\n",
       "      <td>POINT (77.97968 27.18294)</td>\n",
       "      <td>excellent</td>\n",
       "    </tr>\n",
       "    <tr>\n",
       "      <th>3</th>\n",
       "      <td>3400290</td>\n",
       "      <td>Bhagat Halwai</td>\n",
       "      <td>Quick Bites</td>\n",
       "      <td>https://www.zomato.com/agra/bhagat-halwai-civi...</td>\n",
       "      <td>Near Anjana Cinema, Nehru Nagar, Civil Lines, ...</td>\n",
       "      <td>Agra</td>\n",
       "      <td>34</td>\n",
       "      <td>Civil Lines</td>\n",
       "      <td>27.205668</td>\n",
       "      <td>78.004799</td>\n",
       "      <td>...</td>\n",
       "      <td>Takeaway Available, Credit Card, Lunch, Delive...</td>\n",
       "      <td>4.3</td>\n",
       "      <td>Very Good</td>\n",
       "      <td>693</td>\n",
       "      <td>157</td>\n",
       "      <td>0.0</td>\n",
       "      <td>1</td>\n",
       "      <td>-1</td>\n",
       "      <td>POINT (78.00480 27.20567)</td>\n",
       "      <td>excellent</td>\n",
       "    </tr>\n",
       "    <tr>\n",
       "      <th>4</th>\n",
       "      <td>3401744</td>\n",
       "      <td>The Salt Cafe Kitchen &amp; Bar</td>\n",
       "      <td>Casual Dining</td>\n",
       "      <td>https://www.zomato.com/agra/the-salt-cafe-kitc...</td>\n",
       "      <td>1C,3rd Floor, Fatehabad Road, Tajganj, Agra</td>\n",
       "      <td>Agra</td>\n",
       "      <td>34</td>\n",
       "      <td>Tajganj</td>\n",
       "      <td>27.157709</td>\n",
       "      <td>78.052421</td>\n",
       "      <td>...</td>\n",
       "      <td>Lunch, Serves Alcohol, Cash, Credit Card, Dinn...</td>\n",
       "      <td>4.9</td>\n",
       "      <td>Excellent</td>\n",
       "      <td>470</td>\n",
       "      <td>291</td>\n",
       "      <td>0.0</td>\n",
       "      <td>1</td>\n",
       "      <td>-1</td>\n",
       "      <td>POINT (78.05242 27.15771)</td>\n",
       "      <td>excellent</td>\n",
       "    </tr>\n",
       "  </tbody>\n",
       "</table>\n",
       "<p>5 rows × 28 columns</p>\n",
       "</div>"
      ],
      "text/plain": [
       "    res_id                            name  establishment  \\\n",
       "0  3400299                     Bikanervala    Quick Bites   \n",
       "1  3400005  Mama Chicken Mama Franky House    Quick Bites   \n",
       "2  3401013                   Bhagat Halwai    Quick Bites   \n",
       "3  3400290                   Bhagat Halwai    Quick Bites   \n",
       "4  3401744     The Salt Cafe Kitchen & Bar  Casual Dining   \n",
       "\n",
       "                                                 url  \\\n",
       "0  https://www.zomato.com/agra/bikanervala-khanda...   \n",
       "1  https://www.zomato.com/agra/mama-chicken-mama-...   \n",
       "2  https://www.zomato.com/agra/bhagat-halwai-2-sh...   \n",
       "3  https://www.zomato.com/agra/bhagat-halwai-civi...   \n",
       "4  https://www.zomato.com/agra/the-salt-cafe-kitc...   \n",
       "\n",
       "                                             address  city  city_id  \\\n",
       "0  Kalyani Point, Near Tulsi Cinema, Bypass Road,...  Agra       34   \n",
       "1        Main Market, Sadar Bazaar, Agra Cantt, Agra  Agra       34   \n",
       "2  62/1, Near Easy Day, West Shivaji Nagar, Goalp...  Agra       34   \n",
       "3  Near Anjana Cinema, Nehru Nagar, Civil Lines, ...  Agra       34   \n",
       "4        1C,3rd Floor, Fatehabad Road, Tajganj, Agra  Agra       34   \n",
       "\n",
       "      locality   latitude  longitude  ...  \\\n",
       "0     Khandari  27.211450  78.002381  ...   \n",
       "1   Agra Cantt  27.160569  78.011583  ...   \n",
       "2     Shahganj  27.182938  77.979684  ...   \n",
       "3  Civil Lines  27.205668  78.004799  ...   \n",
       "4      Tajganj  27.157709  78.052421  ...   \n",
       "\n",
       "                                          highlights  aggregate_rating  \\\n",
       "0  Lunch, Takeaway Available, Credit Card, Dinner...               4.4   \n",
       "1  Delivery, No Alcohol Available, Dinner, Takeaw...               4.4   \n",
       "2  No Alcohol Available, Dinner, Takeaway Availab...               4.2   \n",
       "3  Takeaway Available, Credit Card, Lunch, Delive...               4.3   \n",
       "4  Lunch, Serves Alcohol, Cash, Credit Card, Dinn...               4.9   \n",
       "\n",
       "  rating_text votes photo_count  opentable_support  delivery takeaway  \\\n",
       "0   Very Good   814         154                0.0        -1       -1   \n",
       "1   Very Good  1203         161                0.0        -1       -1   \n",
       "2   Very Good   801         107                0.0         1       -1   \n",
       "3   Very Good   693         157                0.0         1       -1   \n",
       "4   Excellent   470         291                0.0         1       -1   \n",
       "\n",
       "                    geometry  rating_text_new  \n",
       "0  POINT (78.00238 27.21145)        excellent  \n",
       "1  POINT (78.01158 27.16057)        excellent  \n",
       "2  POINT (77.97968 27.18294)        excellent  \n",
       "3  POINT (78.00480 27.20567)        excellent  \n",
       "4  POINT (78.05242 27.15771)        excellent  \n",
       "\n",
       "[5 rows x 28 columns]"
      ]
     },
     "execution_count": 62,
     "metadata": {},
     "output_type": "execute_result"
    }
   ],
   "source": [
    "data.head(5)"
   ]
  },
  {
   "cell_type": "markdown",
   "metadata": {
    "colab_type": "text",
    "id": "7z2l49QeCFBO"
   },
   "source": [
    "Inference -\n",
    "\n",
    "    There are 26 columns in the dataset, which help one to understand more about how Sales of Zomato is influenced and affected with respect to these"
   ]
  },
  {
   "cell_type": "markdown",
   "metadata": {
    "colab_type": "text",
    "id": "Hno55tbbCFBP"
   },
   "source": [
    "**3. Note the redundant variables and drop them**"
   ]
  },
  {
   "cell_type": "markdown",
   "metadata": {},
   "source": [
    "The variables are \n",
    "\n",
    "1) country_id - since focus is only for the country India and hence country_id is same everywhere\n",
    "\n",
    "2) locality_verbose - address parameter is already given \n",
    "\n",
    "3) currency - since it is only for India, the currency is constant\n",
    "\n",
    "4) Opentable_support - all various are 0 hence can be dropped"
   ]
  },
  {
   "cell_type": "code",
   "execution_count": 63,
   "metadata": {
    "colab": {},
    "colab_type": "code",
    "id": "nGmPkpQvCFBQ",
    "scrolled": true
   },
   "outputs": [],
   "source": [
    "data=data.drop(['country_id','locality_verbose','currency','opentable_support'],axis=1)"
   ]
  },
  {
   "cell_type": "code",
   "execution_count": 64,
   "metadata": {
    "colab": {
     "base_uri": "https://localhost:8080/",
     "height": 34
    },
    "colab_type": "code",
    "id": "ipqwoZAiCFBU",
    "outputId": "f1d940a5-6f7f-490e-82f6-87e35435aa87"
   },
   "outputs": [
    {
     "data": {
      "text/plain": [
       "(211944, 24)"
      ]
     },
     "execution_count": 64,
     "metadata": {},
     "output_type": "execute_result"
    }
   ],
   "source": [
    "data.shape"
   ]
  },
  {
   "cell_type": "markdown",
   "metadata": {
    "colab_type": "text",
    "id": "eqcDT1W_CFBX"
   },
   "source": [
    "Inference- \n",
    "\n",
    "checking to undersand if the columns were droppped or not\n",
    "We can see that the columns reduced to 22 from 26"
   ]
  },
  {
   "cell_type": "markdown",
   "metadata": {
    "colab_type": "text",
    "id": "iVDc2oN5CFBY"
   },
   "source": [
    "**4. Check the data types. Refer to data definition to ensure your data types are correct. If data types are not as per business context, change the data types as per requirement**\n"
   ]
  },
  {
   "cell_type": "code",
   "execution_count": 65,
   "metadata": {
    "colab": {
     "base_uri": "https://localhost:8080/",
     "height": 408
    },
    "colab_type": "code",
    "id": "Z8h90-WOCFBZ",
    "outputId": "7c170a05-b1b4-4a2a-ae67-5fe7bfb9fd62"
   },
   "outputs": [
    {
     "data": {
      "text/plain": [
       "res_id                     int64\n",
       "name                      object\n",
       "establishment             object\n",
       "url                       object\n",
       "address                   object\n",
       "city                      object\n",
       "city_id                    int64\n",
       "locality                  object\n",
       "latitude                 float64\n",
       "longitude                float64\n",
       "zipcode                   object\n",
       "cuisines                  object\n",
       "timings                   object\n",
       "average_cost_for_two       int64\n",
       "price_range                int64\n",
       "highlights                object\n",
       "aggregate_rating         float64\n",
       "rating_text               object\n",
       "votes                      int64\n",
       "photo_count                int64\n",
       "delivery                   int64\n",
       "takeaway                   int64\n",
       "geometry                geometry\n",
       "rating_text_new           object\n",
       "dtype: object"
      ]
     },
     "execution_count": 65,
     "metadata": {},
     "output_type": "execute_result"
    }
   ],
   "source": [
    "data.dtypes"
   ]
  },
  {
   "cell_type": "markdown",
   "metadata": {
    "colab_type": "text",
    "id": "jJh5RN2uCFBd"
   },
   "source": [
    "Inference- \n",
    "\n",
    "checking the datatype of the dataset"
   ]
  },
  {
   "cell_type": "markdown",
   "metadata": {
    "colab_type": "text",
    "id": "yk46joIRCFBe"
   },
   "source": [
    "#### Change the incorrect data type"
   ]
  },
  {
   "cell_type": "code",
   "execution_count": 66,
   "metadata": {
    "colab": {
     "base_uri": "https://localhost:8080/",
     "height": 0
    },
    "colab_type": "code",
    "id": "L617v7FmCFBf",
    "outputId": "2b0ec082-5317-4e1b-ab89-471fe4c4a883"
   },
   "outputs": [
    {
     "data": {
      "text/plain": [
       "res_id                     int64\n",
       "name                    category\n",
       "establishment           category\n",
       "url                     category\n",
       "address                 category\n",
       "city                    category\n",
       "city_id                    int64\n",
       "locality                category\n",
       "latitude                 float64\n",
       "longitude                float64\n",
       "zipcode                 category\n",
       "cuisines                category\n",
       "timings                 category\n",
       "average_cost_for_two       int64\n",
       "price_range                int64\n",
       "highlights              category\n",
       "aggregate_rating         float64\n",
       "rating_text             category\n",
       "votes                      int64\n",
       "photo_count                int64\n",
       "delivery                   int64\n",
       "takeaway                   int64\n",
       "geometry                geometry\n",
       "rating_text_new         category\n",
       "dtype: object"
      ]
     },
     "execution_count": 66,
     "metadata": {},
     "output_type": "execute_result"
    }
   ],
   "source": [
    "#TO CATEGORICAL FORMAT\n",
    "cols=data.select_dtypes(include='object').columns.to_list()\n",
    "data[cols]=data[cols].astype('category')\n",
    "\n",
    "#TO NUMERICAL FORMAT\n",
    "data.average_cost_for_two=data.average_cost_for_two.astype('int64')\n",
    "data.aggregate_rating=data.aggregate_rating.astype('float64')\n",
    "data.photo_count=data.photo_count.astype('int64')\n",
    "data.votes=data.votes.astype('int64')\n",
    "\n",
    "#printing the refined data types\n",
    "data.dtypes"
   ]
  },
  {
   "cell_type": "markdown",
   "metadata": {
    "colab_type": "text",
    "id": "kfRoEg2wCFBj"
   },
   "source": [
    "Inference- \n",
    "\n",
    "* the datatypes were changed according to the business requirements into the two types- categorial/numerical"
   ]
  },
  {
   "cell_type": "markdown",
   "metadata": {
    "colab_type": "text",
    "id": "j-mgC1TRCFBk"
   },
   "source": [
    "**5. Check for Duplicates**"
   ]
  },
  {
   "cell_type": "code",
   "execution_count": 67,
   "metadata": {
    "colab": {
     "base_uri": "https://localhost:8080/",
     "height": 0
    },
    "colab_type": "code",
    "id": "rQSAzhamCFBl",
    "outputId": "86d12365-074e-41ee-a16c-d6a9d1831a3c"
   },
   "outputs": [
    {
     "data": {
      "text/html": [
       "<div>\n",
       "<style scoped>\n",
       "    .dataframe tbody tr th:only-of-type {\n",
       "        vertical-align: middle;\n",
       "    }\n",
       "\n",
       "    .dataframe tbody tr th {\n",
       "        vertical-align: top;\n",
       "    }\n",
       "\n",
       "    .dataframe thead th {\n",
       "        text-align: right;\n",
       "    }\n",
       "</style>\n",
       "<table border=\"1\" class=\"dataframe\">\n",
       "  <thead>\n",
       "    <tr style=\"text-align: right;\">\n",
       "      <th></th>\n",
       "      <th>res_id</th>\n",
       "      <th>name</th>\n",
       "      <th>establishment</th>\n",
       "      <th>url</th>\n",
       "      <th>address</th>\n",
       "      <th>city</th>\n",
       "      <th>city_id</th>\n",
       "      <th>locality</th>\n",
       "      <th>latitude</th>\n",
       "      <th>longitude</th>\n",
       "      <th>...</th>\n",
       "      <th>price_range</th>\n",
       "      <th>highlights</th>\n",
       "      <th>aggregate_rating</th>\n",
       "      <th>rating_text</th>\n",
       "      <th>votes</th>\n",
       "      <th>photo_count</th>\n",
       "      <th>delivery</th>\n",
       "      <th>takeaway</th>\n",
       "      <th>geometry</th>\n",
       "      <th>rating_text_new</th>\n",
       "    </tr>\n",
       "  </thead>\n",
       "  <tbody>\n",
       "    <tr>\n",
       "      <th>101</th>\n",
       "      <td>3400059</td>\n",
       "      <td>Peshawri - ITC Mughal</td>\n",
       "      <td>Fine Dining</td>\n",
       "      <td>https://www.zomato.com/agra/peshawri-itc-mugha...</td>\n",
       "      <td>ITC Mughal, Fatehabad Road, Tajganj, Agra</td>\n",
       "      <td>Agra</td>\n",
       "      <td>34</td>\n",
       "      <td>ITC Mughal, Tajganj</td>\n",
       "      <td>27.161150</td>\n",
       "      <td>78.043993</td>\n",
       "      <td>...</td>\n",
       "      <td>4</td>\n",
       "      <td>Lunch, Cash, Credit Card, Dinner, Debit Card, ...</td>\n",
       "      <td>4.4</td>\n",
       "      <td>Very Good</td>\n",
       "      <td>353</td>\n",
       "      <td>154</td>\n",
       "      <td>-1</td>\n",
       "      <td>-1</td>\n",
       "      <td>POINT (78.04399 27.16115)</td>\n",
       "      <td>excellent</td>\n",
       "    </tr>\n",
       "    <tr>\n",
       "      <th>116</th>\n",
       "      <td>3400060</td>\n",
       "      <td>Taj Bano - ITC Mughal</td>\n",
       "      <td>Fine Dining</td>\n",
       "      <td>https://www.zomato.com/agra/taj-bano-itc-mugha...</td>\n",
       "      <td>ITC Mughal, Fatehabad Road, Tajganj, Agra</td>\n",
       "      <td>Agra</td>\n",
       "      <td>34</td>\n",
       "      <td>ITC Mughal, Tajganj</td>\n",
       "      <td>27.161132</td>\n",
       "      <td>78.044022</td>\n",
       "      <td>...</td>\n",
       "      <td>4</td>\n",
       "      <td>Credit Card, Lunch, Cash, Debit Card, Dinner, ...</td>\n",
       "      <td>4.3</td>\n",
       "      <td>Very Good</td>\n",
       "      <td>96</td>\n",
       "      <td>205</td>\n",
       "      <td>-1</td>\n",
       "      <td>-1</td>\n",
       "      <td>POINT (78.04402 27.16113)</td>\n",
       "      <td>excellent</td>\n",
       "    </tr>\n",
       "    <tr>\n",
       "      <th>140</th>\n",
       "      <td>3400017</td>\n",
       "      <td>Pinch Of Spice</td>\n",
       "      <td>Casual Dining</td>\n",
       "      <td>https://www.zomato.com/agra/pinch-of-spice-civ...</td>\n",
       "      <td>23/453, Opposite Sanjay Cinema, Wazipura Road,...</td>\n",
       "      <td>Agra</td>\n",
       "      <td>34</td>\n",
       "      <td>Civil Lines</td>\n",
       "      <td>27.201735</td>\n",
       "      <td>78.007625</td>\n",
       "      <td>...</td>\n",
       "      <td>4</td>\n",
       "      <td>Lunch, Delivery, Credit Card, Dinner, Cash, Ta...</td>\n",
       "      <td>4.6</td>\n",
       "      <td>Excellent</td>\n",
       "      <td>915</td>\n",
       "      <td>105</td>\n",
       "      <td>1</td>\n",
       "      <td>-1</td>\n",
       "      <td>POINT (78.00762 27.20173)</td>\n",
       "      <td>excellent</td>\n",
       "    </tr>\n",
       "    <tr>\n",
       "      <th>141</th>\n",
       "      <td>3400018</td>\n",
       "      <td>Pinch Of Spice</td>\n",
       "      <td>Casual Dining</td>\n",
       "      <td>https://www.zomato.com/agra/pinch-of-spice-taj...</td>\n",
       "      <td>1076/2, Fatehabad Road, Tajganj, Agra</td>\n",
       "      <td>Agra</td>\n",
       "      <td>34</td>\n",
       "      <td>Tajganj</td>\n",
       "      <td>27.159649</td>\n",
       "      <td>78.043304</td>\n",
       "      <td>...</td>\n",
       "      <td>4</td>\n",
       "      <td>Delivery, Dinner, Cash, Credit Card, Debit Car...</td>\n",
       "      <td>4.6</td>\n",
       "      <td>Excellent</td>\n",
       "      <td>965</td>\n",
       "      <td>690</td>\n",
       "      <td>1</td>\n",
       "      <td>-1</td>\n",
       "      <td>POINT (78.04330 27.15965)</td>\n",
       "      <td>excellent</td>\n",
       "    </tr>\n",
       "    <tr>\n",
       "      <th>142</th>\n",
       "      <td>3400850</td>\n",
       "      <td>Urban Deck</td>\n",
       "      <td>Casual Dining</td>\n",
       "      <td>https://www.zomato.com/agra/urban-deck-2-civil...</td>\n",
       "      <td>5th Floor, The P L Palace Hotel, MG Road, Sanj...</td>\n",
       "      <td>Agra</td>\n",
       "      <td>34</td>\n",
       "      <td>Civil Lines</td>\n",
       "      <td>27.199573</td>\n",
       "      <td>78.003699</td>\n",
       "      <td>...</td>\n",
       "      <td>4</td>\n",
       "      <td>Dinner, Cash, Debit Card, Takeaway Available, ...</td>\n",
       "      <td>4.3</td>\n",
       "      <td>Very Good</td>\n",
       "      <td>672</td>\n",
       "      <td>192</td>\n",
       "      <td>1</td>\n",
       "      <td>-1</td>\n",
       "      <td>POINT (78.00370 27.19957)</td>\n",
       "      <td>excellent</td>\n",
       "    </tr>\n",
       "    <tr>\n",
       "      <th>...</th>\n",
       "      <td>...</td>\n",
       "      <td>...</td>\n",
       "      <td>...</td>\n",
       "      <td>...</td>\n",
       "      <td>...</td>\n",
       "      <td>...</td>\n",
       "      <td>...</td>\n",
       "      <td>...</td>\n",
       "      <td>...</td>\n",
       "      <td>...</td>\n",
       "      <td>...</td>\n",
       "      <td>...</td>\n",
       "      <td>...</td>\n",
       "      <td>...</td>\n",
       "      <td>...</td>\n",
       "      <td>...</td>\n",
       "      <td>...</td>\n",
       "      <td>...</td>\n",
       "      <td>...</td>\n",
       "      <td>...</td>\n",
       "      <td>...</td>\n",
       "    </tr>\n",
       "    <tr>\n",
       "      <th>211937</th>\n",
       "      <td>18855810</td>\n",
       "      <td>Biryani aur Baatein</td>\n",
       "      <td>Casual Dining</td>\n",
       "      <td>https://www.zomato.com/vadodara/biryani-aur-ba...</td>\n",
       "      <td>Shop 14, Atlantis K-10, A Wing, Genda Circle R...</td>\n",
       "      <td>Vadodara</td>\n",
       "      <td>32</td>\n",
       "      <td>Alkapuri</td>\n",
       "      <td>22.317746</td>\n",
       "      <td>73.168043</td>\n",
       "      <td>...</td>\n",
       "      <td>2</td>\n",
       "      <td>Dinner, Cash, Takeaway Available, Debit Card, ...</td>\n",
       "      <td>4.1</td>\n",
       "      <td>Very Good</td>\n",
       "      <td>154</td>\n",
       "      <td>96</td>\n",
       "      <td>-1</td>\n",
       "      <td>-1</td>\n",
       "      <td>POINT (73.16804 22.31775)</td>\n",
       "      <td>excellent</td>\n",
       "    </tr>\n",
       "    <tr>\n",
       "      <th>211938</th>\n",
       "      <td>18662583</td>\n",
       "      <td>Wok On Fire</td>\n",
       "      <td>Casual Dining</td>\n",
       "      <td>https://www.zomato.com/vadodara/wok-on-fire-fa...</td>\n",
       "      <td>Ground Floor 1, Rossette Building, Opposite Se...</td>\n",
       "      <td>Vadodara</td>\n",
       "      <td>32</td>\n",
       "      <td>Fatehgunj</td>\n",
       "      <td>22.323357</td>\n",
       "      <td>73.187461</td>\n",
       "      <td>...</td>\n",
       "      <td>3</td>\n",
       "      <td>Dinner, Cash, Debit Card, Lunch, Takeaway Avai...</td>\n",
       "      <td>4.0</td>\n",
       "      <td>Very Good</td>\n",
       "      <td>301</td>\n",
       "      <td>126</td>\n",
       "      <td>1</td>\n",
       "      <td>-1</td>\n",
       "      <td>POINT (73.18746 22.32336)</td>\n",
       "      <td>excellent</td>\n",
       "    </tr>\n",
       "    <tr>\n",
       "      <th>211939</th>\n",
       "      <td>3202251</td>\n",
       "      <td>Kali Mirch Cafe And Restaurant</td>\n",
       "      <td>Casual Dining</td>\n",
       "      <td>https://www.zomato.com/vadodara/kali-mirch-caf...</td>\n",
       "      <td>Manu Smriti Complex, Near Navrachna School, GI...</td>\n",
       "      <td>Vadodara</td>\n",
       "      <td>32</td>\n",
       "      <td>Fatehgunj</td>\n",
       "      <td>22.336931</td>\n",
       "      <td>73.192356</td>\n",
       "      <td>...</td>\n",
       "      <td>2</td>\n",
       "      <td>Dinner, Cash, Lunch, Delivery, Indoor Seating,...</td>\n",
       "      <td>4.1</td>\n",
       "      <td>Very Good</td>\n",
       "      <td>243</td>\n",
       "      <td>40</td>\n",
       "      <td>-1</td>\n",
       "      <td>-1</td>\n",
       "      <td>POINT (73.19236 22.33693)</td>\n",
       "      <td>excellent</td>\n",
       "    </tr>\n",
       "    <tr>\n",
       "      <th>211941</th>\n",
       "      <td>18984164</td>\n",
       "      <td>The Grand Thakar</td>\n",
       "      <td>Casual Dining</td>\n",
       "      <td>https://www.zomato.com/vadodara/the-grand-thak...</td>\n",
       "      <td>3rd Floor, Shreem Shalini Mall, Opposite Conqu...</td>\n",
       "      <td>Vadodara</td>\n",
       "      <td>32</td>\n",
       "      <td>Alkapuri</td>\n",
       "      <td>22.310563</td>\n",
       "      <td>73.171164</td>\n",
       "      <td>...</td>\n",
       "      <td>2</td>\n",
       "      <td>Dinner, Cash, Debit Card, Lunch, Takeaway Avai...</td>\n",
       "      <td>4.0</td>\n",
       "      <td>Very Good</td>\n",
       "      <td>111</td>\n",
       "      <td>38</td>\n",
       "      <td>-1</td>\n",
       "      <td>-1</td>\n",
       "      <td>POINT (73.17116 22.31056)</td>\n",
       "      <td>excellent</td>\n",
       "    </tr>\n",
       "    <tr>\n",
       "      <th>211943</th>\n",
       "      <td>18879846</td>\n",
       "      <td>Freshcos - The Health Cafe</td>\n",
       "      <td>Café</td>\n",
       "      <td>https://www.zomato.com/vadodara/freshcos-the-h...</td>\n",
       "      <td>Shop 7, Ground Floor, Opposite Natubhai Circle...</td>\n",
       "      <td>Vadodara</td>\n",
       "      <td>32</td>\n",
       "      <td>Vadiwadi</td>\n",
       "      <td>22.309935</td>\n",
       "      <td>73.158768</td>\n",
       "      <td>...</td>\n",
       "      <td>2</td>\n",
       "      <td>Dinner, Cash, Takeaway Available, Debit Card, ...</td>\n",
       "      <td>4.0</td>\n",
       "      <td>Very Good</td>\n",
       "      <td>93</td>\n",
       "      <td>53</td>\n",
       "      <td>1</td>\n",
       "      <td>-1</td>\n",
       "      <td>POINT (73.15877 22.30994)</td>\n",
       "      <td>excellent</td>\n",
       "    </tr>\n",
       "  </tbody>\n",
       "</table>\n",
       "<p>151533 rows × 24 columns</p>\n",
       "</div>"
      ],
      "text/plain": [
       "          res_id                            name  establishment  \\\n",
       "101      3400059           Peshawri - ITC Mughal    Fine Dining   \n",
       "116      3400060           Taj Bano - ITC Mughal    Fine Dining   \n",
       "140      3400017                  Pinch Of Spice  Casual Dining   \n",
       "141      3400018                  Pinch Of Spice  Casual Dining   \n",
       "142      3400850                      Urban Deck  Casual Dining   \n",
       "...          ...                             ...            ...   \n",
       "211937  18855810             Biryani aur Baatein  Casual Dining   \n",
       "211938  18662583                     Wok On Fire  Casual Dining   \n",
       "211939   3202251  Kali Mirch Cafe And Restaurant  Casual Dining   \n",
       "211941  18984164                The Grand Thakar  Casual Dining   \n",
       "211943  18879846      Freshcos - The Health Cafe           Café   \n",
       "\n",
       "                                                      url  \\\n",
       "101     https://www.zomato.com/agra/peshawri-itc-mugha...   \n",
       "116     https://www.zomato.com/agra/taj-bano-itc-mugha...   \n",
       "140     https://www.zomato.com/agra/pinch-of-spice-civ...   \n",
       "141     https://www.zomato.com/agra/pinch-of-spice-taj...   \n",
       "142     https://www.zomato.com/agra/urban-deck-2-civil...   \n",
       "...                                                   ...   \n",
       "211937  https://www.zomato.com/vadodara/biryani-aur-ba...   \n",
       "211938  https://www.zomato.com/vadodara/wok-on-fire-fa...   \n",
       "211939  https://www.zomato.com/vadodara/kali-mirch-caf...   \n",
       "211941  https://www.zomato.com/vadodara/the-grand-thak...   \n",
       "211943  https://www.zomato.com/vadodara/freshcos-the-h...   \n",
       "\n",
       "                                                  address      city  city_id  \\\n",
       "101             ITC Mughal, Fatehabad Road, Tajganj, Agra      Agra       34   \n",
       "116             ITC Mughal, Fatehabad Road, Tajganj, Agra      Agra       34   \n",
       "140     23/453, Opposite Sanjay Cinema, Wazipura Road,...      Agra       34   \n",
       "141                 1076/2, Fatehabad Road, Tajganj, Agra      Agra       34   \n",
       "142     5th Floor, The P L Palace Hotel, MG Road, Sanj...      Agra       34   \n",
       "...                                                   ...       ...      ...   \n",
       "211937  Shop 14, Atlantis K-10, A Wing, Genda Circle R...  Vadodara       32   \n",
       "211938  Ground Floor 1, Rossette Building, Opposite Se...  Vadodara       32   \n",
       "211939  Manu Smriti Complex, Near Navrachna School, GI...  Vadodara       32   \n",
       "211941  3rd Floor, Shreem Shalini Mall, Opposite Conqu...  Vadodara       32   \n",
       "211943  Shop 7, Ground Floor, Opposite Natubhai Circle...  Vadodara       32   \n",
       "\n",
       "                   locality   latitude  longitude  ... price_range  \\\n",
       "101     ITC Mughal, Tajganj  27.161150  78.043993  ...           4   \n",
       "116     ITC Mughal, Tajganj  27.161132  78.044022  ...           4   \n",
       "140             Civil Lines  27.201735  78.007625  ...           4   \n",
       "141                 Tajganj  27.159649  78.043304  ...           4   \n",
       "142             Civil Lines  27.199573  78.003699  ...           4   \n",
       "...                     ...        ...        ...  ...         ...   \n",
       "211937             Alkapuri  22.317746  73.168043  ...           2   \n",
       "211938            Fatehgunj  22.323357  73.187461  ...           3   \n",
       "211939            Fatehgunj  22.336931  73.192356  ...           2   \n",
       "211941             Alkapuri  22.310563  73.171164  ...           2   \n",
       "211943             Vadiwadi  22.309935  73.158768  ...           2   \n",
       "\n",
       "                                               highlights aggregate_rating  \\\n",
       "101     Lunch, Cash, Credit Card, Dinner, Debit Card, ...              4.4   \n",
       "116     Credit Card, Lunch, Cash, Debit Card, Dinner, ...              4.3   \n",
       "140     Lunch, Delivery, Credit Card, Dinner, Cash, Ta...              4.6   \n",
       "141     Delivery, Dinner, Cash, Credit Card, Debit Car...              4.6   \n",
       "142     Dinner, Cash, Debit Card, Takeaway Available, ...              4.3   \n",
       "...                                                   ...              ...   \n",
       "211937  Dinner, Cash, Takeaway Available, Debit Card, ...              4.1   \n",
       "211938  Dinner, Cash, Debit Card, Lunch, Takeaway Avai...              4.0   \n",
       "211939  Dinner, Cash, Lunch, Delivery, Indoor Seating,...              4.1   \n",
       "211941  Dinner, Cash, Debit Card, Lunch, Takeaway Avai...              4.0   \n",
       "211943  Dinner, Cash, Takeaway Available, Debit Card, ...              4.0   \n",
       "\n",
       "        rating_text  votes photo_count  delivery takeaway  \\\n",
       "101       Very Good    353         154        -1       -1   \n",
       "116       Very Good     96         205        -1       -1   \n",
       "140       Excellent    915         105         1       -1   \n",
       "141       Excellent    965         690         1       -1   \n",
       "142       Very Good    672         192         1       -1   \n",
       "...             ...    ...         ...       ...      ...   \n",
       "211937    Very Good    154          96        -1       -1   \n",
       "211938    Very Good    301         126         1       -1   \n",
       "211939    Very Good    243          40        -1       -1   \n",
       "211941    Very Good    111          38        -1       -1   \n",
       "211943    Very Good     93          53         1       -1   \n",
       "\n",
       "                         geometry  rating_text_new  \n",
       "101     POINT (78.04399 27.16115)        excellent  \n",
       "116     POINT (78.04402 27.16113)        excellent  \n",
       "140     POINT (78.00762 27.20173)        excellent  \n",
       "141     POINT (78.04330 27.15965)        excellent  \n",
       "142     POINT (78.00370 27.19957)        excellent  \n",
       "...                           ...              ...  \n",
       "211937  POINT (73.16804 22.31775)        excellent  \n",
       "211938  POINT (73.18746 22.32336)        excellent  \n",
       "211939  POINT (73.19236 22.33693)        excellent  \n",
       "211941  POINT (73.17116 22.31056)        excellent  \n",
       "211943  POINT (73.15877 22.30994)        excellent  \n",
       "\n",
       "[151533 rows x 24 columns]"
      ]
     },
     "execution_count": 67,
     "metadata": {},
     "output_type": "execute_result"
    }
   ],
   "source": [
    "#this is done based on all columns in the data\n",
    "data_duplicated=data[data.duplicated()]\n",
    "data_duplicated"
   ]
  },
  {
   "cell_type": "markdown",
   "metadata": {
    "colab_type": "text",
    "id": "7aZB6aVJCFBo"
   },
   "source": [
    "Inference-\n",
    "    \n",
    "    We can understand that there are about 151533 rows in the dataset having some/all values as repeated values "
   ]
  },
  {
   "cell_type": "markdown",
   "metadata": {
    "colab_type": "text",
    "id": "AXfGqVgGCFEu"
   },
   "source": [
    "<a id = 'correlation'> </a>\n",
    "## 7. Study correlation"
   ]
  },
  {
   "cell_type": "code",
   "execution_count": 68,
   "metadata": {
    "colab": {
     "base_uri": "https://localhost:8080/",
     "height": 0
    },
    "colab_type": "code",
    "id": "1kcdPjFWCFEv",
    "outputId": "801cec1a-c077-4157-d318-69845432edfe"
   },
   "outputs": [
    {
     "data": {
      "text/plain": [
       "<AxesSubplot:>"
      ]
     },
     "execution_count": 68,
     "metadata": {},
     "output_type": "execute_result"
    },
    {
     "data": {
      "image/png": "[encoded data removed]",
      "text/plain": [
       "<Figure size 1152x864 with 2 Axes>"
      ]
     },
     "metadata": {
      "needs_background": "light"
     },
     "output_type": "display_data"
    }
   ],
   "source": [
    "import seaborn as sns\n",
    "corr=data.corr()\n",
    "f, ax = plt.subplots(figsize=(16, 12))\n",
    "sns.heatmap(corr,annot=True)"
   ]
  },
  {
   "cell_type": "markdown",
   "metadata": {
    "colab_type": "text",
    "id": "Ci8Yd37ZCFEx"
   },
   "source": [
    "Inference- \n",
    "    \n",
    "    This shows what is the correlation between the various columns in the dataset \n",
    "    for example -\n",
    "    \n",
    "    *photo counts and votes are highly correlated\n",
    "    \n",
    "    *votes and latitude are negative correlated\n",
    "    \n",
    "    *votes and average cost for two people have a low correlation"
   ]
  },
  {
   "cell_type": "markdown",
   "metadata": {
    "colab_type": "text",
    "id": "RuBKi2m0CFEz"
   },
   "source": [
    "\n",
    "## 8. Detect outliers"
   ]
  },
  {
   "cell_type": "code",
   "execution_count": 69,
   "metadata": {
    "colab": {
     "base_uri": "https://localhost:8080/",
     "height": 0
    },
    "colab_type": "code",
    "id": "dt8ygDbRCFE8",
    "outputId": "3c3f724d-60fd-4a5b-d9be-94e17edfc718"
   },
   "outputs": [
    {
     "data": {
      "text/plain": [
       "<AxesSubplot:>"
      ]
     },
     "execution_count": 69,
     "metadata": {},
     "output_type": "execute_result"
    },
    {
     "data": {
      "image/png": "[encoded data removed]",
      "text/plain": [
       "<Figure size 432x288 with 1 Axes>"
      ]
     },
     "metadata": {
      "needs_background": "light"
     },
     "output_type": "display_data"
    }
   ],
   "source": [
    "data.res_id=data.res_id.astype('int64')\n",
    "data['res_id'].plot.box()"
   ]
  },
  {
   "cell_type": "markdown",
   "metadata": {
    "colab_type": "text",
    "id": "ECrXmaaVCFE_"
   },
   "source": [
    "Inference- \n",
    "    \n",
    "    This shows res_id does not have outliers"
   ]
  },
  {
   "cell_type": "code",
   "execution_count": 70,
   "metadata": {
    "colab": {
     "base_uri": "https://localhost:8080/",
     "height": 0
    },
    "colab_type": "code",
    "id": "jjo1Y-sbCFFF",
    "outputId": "302baa97-03bf-42df-d8a9-e80acd650d25"
   },
   "outputs": [
    {
     "data": {
      "text/plain": [
       "<AxesSubplot:>"
      ]
     },
     "execution_count": 70,
     "metadata": {},
     "output_type": "execute_result"
    },
    {
     "data": {
      "image/png": "[encoded data removed]",
      "text/plain": [
       "<Figure size 432x288 with 1 Axes>"
      ]
     },
     "metadata": {
      "needs_background": "light"
     },
     "output_type": "display_data"
    }
   ],
   "source": [
    "data['aggregate_rating'].plot.box()"
   ]
  },
  {
   "cell_type": "markdown",
   "metadata": {
    "colab_type": "text",
    "id": "GC8vibiUCFFI"
   },
   "source": [
    "Inference- \n",
    "    \n",
    "    This shows aggregate rating has a few outliers rest of the data is in the interquantile range"
   ]
  },
  {
   "cell_type": "markdown",
   "metadata": {
    "colab_type": "text",
    "id": "TssDYssqCFFJ"
   },
   "source": [
    "<a id='region'> </a>\n",
    "## 9. Create a new variable 'region'\n"
   ]
  },
  {
   "cell_type": "code",
   "execution_count": 76,
   "metadata": {
    "colab": {},
    "colab_type": "code",
    "id": "IMhUksUICFFK"
   },
   "outputs": [],
   "source": [
    "east_zone=['Arunachal Pradesh', 'Assam', 'Manipur', 'Meghalaya', 'Mizoram', 'Nagaland', 'Sikkim' , 'Tripura','Bihar', 'Orissa', 'Jharkhand', 'West Bengal ']\n",
    "\n",
    "west_zone=['Rajasthan' , 'Gujarat', 'Goa', 'Maharashtra', 'Daman and Diu',\n",
    "'Dadra and Nagar Haveli','Madhya Pradesh','Chhattisgarh']\n",
    "\n",
    "north_zone=['Jammu and Kashmir', 'Himachal Pradesh','Chandigarh','Delhi', 'Punjab', 'Uttarakhand' , 'Uttar Pradesh','Haryana']\n",
    "\n",
    "south_zone=['Andhra Pradesh', 'Karnataka', 'Kerala','Tamil Nadu','Telangana','puducherry']\n"
   ]
  },
  {
   "cell_type": "markdown",
   "metadata": {
    "colab_type": "text",
    "id": "sgjmB4OcCFFM"
   },
   "source": [
    "Inference- \n",
    "    \n",
    "    Understanding the various states in each zone"
   ]
  },
  {
   "cell_type": "markdown",
   "metadata": {
    "colab_type": "text",
    "id": "sJIAWuruCFFM"
   },
   "source": [
    "Create a variable 'region' with four categories 'northern','eastern', 'southern', 'western' and 'central'. To do so, use the 'city' column, group all cities belonging to the same region. "
   ]
  },
  {
   "cell_type": "code",
   "execution_count": 77,
   "metadata": {
    "colab": {},
    "colab_type": "code",
    "id": "cntBuHvvCFFN"
   },
   "outputs": [],
   "source": [
    "dict_region={'Agra':\"north\", 'Ahmedabad':'west', 'Ajmer':'west', 'Alappuzha':'south', 'Allahabad':'north', 'Amravati':\"west\",\n",
    "       'Amritsar':'north', 'Aurangabad':'west', 'Bangalore':'south', 'Bhopal':'west', 'Bhubaneshwar':'east',\n",
    "       'Chandigarh':'north', 'Chennai':'south', 'Coimbatore':'south', 'Cuttack':'east', 'Darjeeling':'east',\n",
    "       'Dehradun':'north', 'Dharamshala':'north', 'Faridabad':\"north\", 'Gandhinagar':\"west\", 'Gangtok':'east',\n",
    "       'Ghaziabad':\"north\", 'Goa':\"west\", 'Gorakhpur':\"north\", 'Greater Noida':\"north\", 'Guntur':\"south\",\n",
    "       'Gurgaon':\"north\", 'Guwahati':\"east\", 'Gwalior':\"east\", 'Haridwar':\"north\", 'Howrah':\"east\",\n",
    "       'Hyderabad':\"south\", 'Indore':\"west\", 'Jabalpur':\"west\", 'Jaipur':\"west\", 'Jalandhar':\"north\", 'Jammu':\"north\",\n",
    "       'Jamnagar':\"west\", 'Jamshedpur':\"east\", 'Jhansi':\"north\", 'Jodhpur':\"west\", 'Junagadh':\"west\",\n",
    "       'Kanpur':\"north\", 'Kharagpur':\"east\", 'Kochi':\"south\", 'Kolhapur':\"west\", 'Kolkata':\"east\", 'Kota':\"west\",\n",
    "       'Lucknow':\"north\", 'Ludhiana':\"north\", 'Madurai':\"south\", 'Manali':\"north\", 'Mangalore':\"south\", 'Manipal':\"south\",\n",
    "       'Meerut':\"north\", 'Mohali':\"north\", 'Mumbai':\"west\", 'Mussoorie':\"north\", 'Mysore':\"south\", 'Nagpur':\"west\",\n",
    "       'Nainital':\"north\", 'Nashik':\"west\", 'Navi Mumbai':\"west\", 'Nayagaon':\"north\", 'Neemrana':\"west\",\n",
    "       'New Delhi':\"north\", 'Noida':\"north\", 'Ooty':\"south\", 'Palakkad':\"south\", 'Panchkula':\"north\", 'Patiala':\"north\",\n",
    "       'Patna':\"north\", 'Puducherry':\"south\", 'Pune':\"west\", 'Pushkar':\"west\", 'Raipur':\"west\", 'Rajkot':\"west\",\n",
    "       'Ranchi':\"east\", 'Rishikesh':\"north\", 'Salem':\"south\", 'Secunderabad':\"south\", 'Shimla':\"north\",\n",
    "       'Siliguri':\"east\", 'Srinagar':\"north\", 'Surat':\"west\", 'Thane':\"west\", 'Thrissur':\"south\", 'Tirupati':\"south\",\n",
    "       'Trichy':'south', 'Trivandrum':'south', 'Udaipur':'west', 'Udupi':\"south\", 'Vadodara':\"west\", 'Varanasi':\"north\",\n",
    "       'Vellore':\"south\", 'Vijayawada':\"south\", 'Vizag':\"south\", 'Zirakpur':\"north\"}"
   ]
  },
  {
   "cell_type": "markdown",
   "metadata": {
    "colab_type": "text",
    "id": "uhfpaHJ-CFFP"
   },
   "source": [
    "Inference- \n",
    "    \n",
    "    creating a mapping of city -> region "
   ]
  },
  {
   "cell_type": "code",
   "execution_count": 78,
   "metadata": {},
   "outputs": [],
   "source": [
    "data.drop(data[data.city=='north'].index,inplace=True)\n",
    "\n",
    "for each_region in dict_region : \n",
    "    data.loc[data['city']==each_region,'region'] = dict_region[each_region]"
   ]
  },
  {
   "cell_type": "code",
   "execution_count": 79,
   "metadata": {},
   "outputs": [
    {
     "data": {
      "text/plain": [
       "0         north\n",
       "1         north\n",
       "2         north\n",
       "3         north\n",
       "4         north\n",
       "          ...  \n",
       "211939     west\n",
       "211940     west\n",
       "211941     west\n",
       "211942     west\n",
       "211943     west\n",
       "Name: region, Length: 211944, dtype: object"
      ]
     },
     "execution_count": 79,
     "metadata": {},
     "output_type": "execute_result"
    }
   ],
   "source": [
    "data.region"
   ]
  },
  {
   "cell_type": "markdown",
   "metadata": {
    "colab_type": "text",
    "id": "-XFk1KvzCFFT"
   },
   "source": [
    "Inference- \n",
    "    \n",
    "    This shows creating a new column named as REGION depecting the region in which the city is situated"
   ]
  },
  {
   "cell_type": "code",
   "execution_count": 80,
   "metadata": {
    "colab": {
     "base_uri": "https://localhost:8080/",
     "height": 0
    },
    "colab_type": "code",
    "id": "K7CVtNjmCFFT",
    "outputId": "465e56ed-f3fb-4261-9fdb-5e17d4a39322"
   },
   "outputs": [
    {
     "data": {
      "text/plain": [
       "region\n",
       "east     ['Bhubaneshwar', 'Cuttack', 'Darjeeling', 'Gan...\n",
       "north    ['Agra', 'Allahabad', 'Amritsar', 'Chandigarh'...\n",
       "south    ['Alappuzha', 'Bangalore', 'Chennai', 'Coimbat...\n",
       "west     ['Ahmedabad', 'Gandhinagar', 'Ajmer', 'Amravat...\n",
       "Name: city, dtype: object"
      ]
     },
     "execution_count": 80,
     "metadata": {},
     "output_type": "execute_result"
    }
   ],
   "source": [
    "region_wise_city_distribution =data.groupby('region')['city'].unique()\n",
    "\n",
    "region_wise_city_distribution"
   ]
  },
  {
   "cell_type": "markdown",
   "metadata": {
    "colab_type": "text",
    "id": "Pv-WWg2MCFFX"
   },
   "source": [
    "Inference- \n",
    "    \n",
    "    This groups the cities lying in the same region together"
   ]
  },
  {
   "cell_type": "markdown",
   "metadata": {
    "colab_type": "text",
    "id": "t4nhlvrGCFFY"
   },
   "source": [
    "<a id='more'> </a>\n",
    "## 10. Some more Analysis"
   ]
  },
  {
   "cell_type": "markdown",
   "metadata": {
    "colab_type": "text",
    "id": "sQHCPF0jCFFY"
   },
   "source": [
    "<b>Lets us explore the data some more now that we have extrapolated and removed the missing values <br>\n",
    "We now conduct analysis to compare the regions.</b>"
   ]
  },
  {
   "cell_type": "markdown",
   "metadata": {
    "colab_type": "text",
    "id": "5kZbNNJ8CFFZ"
   },
   "source": [
    "### 1. To find which cities have expensive restaurants \n",
    "\n",
    "-  plot the cities which have costliest restaurants. "
   ]
  },
  {
   "cell_type": "code",
   "execution_count": 81,
   "metadata": {
    "colab": {
     "base_uri": "https://localhost:8080/",
     "height": 0
    },
    "colab_type": "code",
    "id": "U59txrv8CFFa",
    "outputId": "375301ed-2861-4f08-83b3-86cbfad27df5"
   },
   "outputs": [
    {
     "data": {
      "text/html": [
       "<div>\n",
       "<style scoped>\n",
       "    .dataframe tbody tr th:only-of-type {\n",
       "        vertical-align: middle;\n",
       "    }\n",
       "\n",
       "    .dataframe tbody tr th {\n",
       "        vertical-align: top;\n",
       "    }\n",
       "\n",
       "    .dataframe thead th {\n",
       "        text-align: right;\n",
       "    }\n",
       "</style>\n",
       "<table border=\"1\" class=\"dataframe\">\n",
       "  <thead>\n",
       "    <tr style=\"text-align: right;\">\n",
       "      <th></th>\n",
       "      <th>name</th>\n",
       "      <th>city</th>\n",
       "      <th>average_cost_for_two</th>\n",
       "      <th>price_range</th>\n",
       "    </tr>\n",
       "  </thead>\n",
       "  <tbody>\n",
       "    <tr>\n",
       "      <th>0</th>\n",
       "      <td>Bikanervala</td>\n",
       "      <td>Agra</td>\n",
       "      <td>700</td>\n",
       "      <td>2</td>\n",
       "    </tr>\n",
       "    <tr>\n",
       "      <th>1</th>\n",
       "      <td>Mama Chicken Mama Franky House</td>\n",
       "      <td>Agra</td>\n",
       "      <td>600</td>\n",
       "      <td>2</td>\n",
       "    </tr>\n",
       "    <tr>\n",
       "      <th>2</th>\n",
       "      <td>Bhagat Halwai</td>\n",
       "      <td>Agra</td>\n",
       "      <td>300</td>\n",
       "      <td>1</td>\n",
       "    </tr>\n",
       "    <tr>\n",
       "      <th>3</th>\n",
       "      <td>Bhagat Halwai</td>\n",
       "      <td>Agra</td>\n",
       "      <td>300</td>\n",
       "      <td>1</td>\n",
       "    </tr>\n",
       "    <tr>\n",
       "      <th>4</th>\n",
       "      <td>The Salt Cafe Kitchen &amp; Bar</td>\n",
       "      <td>Agra</td>\n",
       "      <td>1000</td>\n",
       "      <td>3</td>\n",
       "    </tr>\n",
       "    <tr>\n",
       "      <th>...</th>\n",
       "      <td>...</td>\n",
       "      <td>...</td>\n",
       "      <td>...</td>\n",
       "      <td>...</td>\n",
       "    </tr>\n",
       "    <tr>\n",
       "      <th>95</th>\n",
       "      <td>Culinary Junction By Udupi</td>\n",
       "      <td>Agra</td>\n",
       "      <td>800</td>\n",
       "      <td>3</td>\n",
       "    </tr>\n",
       "    <tr>\n",
       "      <th>96</th>\n",
       "      <td>Chopstix</td>\n",
       "      <td>Agra</td>\n",
       "      <td>600</td>\n",
       "      <td>2</td>\n",
       "    </tr>\n",
       "    <tr>\n",
       "      <th>97</th>\n",
       "      <td>Bhagwati Dhaba</td>\n",
       "      <td>Agra</td>\n",
       "      <td>200</td>\n",
       "      <td>1</td>\n",
       "    </tr>\n",
       "    <tr>\n",
       "      <th>98</th>\n",
       "      <td>Chainess</td>\n",
       "      <td>Agra</td>\n",
       "      <td>200</td>\n",
       "      <td>1</td>\n",
       "    </tr>\n",
       "    <tr>\n",
       "      <th>99</th>\n",
       "      <td>Jux Pux</td>\n",
       "      <td>Agra</td>\n",
       "      <td>200</td>\n",
       "      <td>1</td>\n",
       "    </tr>\n",
       "  </tbody>\n",
       "</table>\n",
       "<p>100 rows × 4 columns</p>\n",
       "</div>"
      ],
      "text/plain": [
       "                              name  city  average_cost_for_two  price_range\n",
       "0                      Bikanervala  Agra                   700            2\n",
       "1   Mama Chicken Mama Franky House  Agra                   600            2\n",
       "2                    Bhagat Halwai  Agra                   300            1\n",
       "3                    Bhagat Halwai  Agra                   300            1\n",
       "4      The Salt Cafe Kitchen & Bar  Agra                  1000            3\n",
       "..                             ...   ...                   ...          ...\n",
       "95      Culinary Junction By Udupi  Agra                   800            3\n",
       "96                        Chopstix  Agra                   600            2\n",
       "97                  Bhagwati Dhaba  Agra                   200            1\n",
       "98                        Chainess  Agra                   200            1\n",
       "99                         Jux Pux  Agra                   200            1\n",
       "\n",
       "[100 rows x 4 columns]"
      ]
     },
     "execution_count": 81,
     "metadata": {},
     "output_type": "execute_result"
    }
   ],
   "source": [
    "data[['name','city','average_cost_for_two','price_range']].head(100)"
   ]
  },
  {
   "cell_type": "markdown",
   "metadata": {
    "colab_type": "text",
    "id": "3ytNdir1CFFc"
   },
   "source": [
    "Inference- \n",
    "    \n",
    "    This shows getting the name of the restaurant, the city, the average cost, the price range"
   ]
  },
  {
   "cell_type": "code",
   "execution_count": 86,
   "metadata": {
    "colab": {
     "base_uri": "https://localhost:8080/",
     "height": 0
    },
    "colab_type": "code",
    "id": "hTcHNH1ACFFd",
    "outputId": "cd0077c4-ecc7-4856-e206-bd6b9a258c53",
    "scrolled": true
   },
   "outputs": [
    {
     "data": {
      "text/html": [
       "<div>\n",
       "<style scoped>\n",
       "    .dataframe tbody tr th:only-of-type {\n",
       "        vertical-align: middle;\n",
       "    }\n",
       "\n",
       "    .dataframe tbody tr th {\n",
       "        vertical-align: top;\n",
       "    }\n",
       "\n",
       "    .dataframe thead th {\n",
       "        text-align: right;\n",
       "    }\n",
       "</style>\n",
       "<table border=\"1\" class=\"dataframe\">\n",
       "  <thead>\n",
       "    <tr style=\"text-align: right;\">\n",
       "      <th></th>\n",
       "      <th>average_cost_for_two</th>\n",
       "      <th>city</th>\n",
       "    </tr>\n",
       "    <tr>\n",
       "      <th>city</th>\n",
       "      <th></th>\n",
       "      <th></th>\n",
       "    </tr>\n",
       "  </thead>\n",
       "  <tbody>\n",
       "    <tr>\n",
       "      <th>Mumbai</th>\n",
       "      <td>1388.994921</td>\n",
       "      <td>Mumbai</td>\n",
       "    </tr>\n",
       "    <tr>\n",
       "      <th>New Delhi</th>\n",
       "      <td>1379.698826</td>\n",
       "      <td>New Delhi</td>\n",
       "    </tr>\n",
       "    <tr>\n",
       "      <th>Gurgaon</th>\n",
       "      <td>1333.906977</td>\n",
       "      <td>Gurgaon</td>\n",
       "    </tr>\n",
       "    <tr>\n",
       "      <th>Bangalore</th>\n",
       "      <td>1036.187890</td>\n",
       "      <td>Bangalore</td>\n",
       "    </tr>\n",
       "    <tr>\n",
       "      <th>Pune</th>\n",
       "      <td>979.858904</td>\n",
       "      <td>Pune</td>\n",
       "    </tr>\n",
       "  </tbody>\n",
       "</table>\n",
       "</div>"
      ],
      "text/plain": [
       "           average_cost_for_two       city\n",
       "city                                      \n",
       "Mumbai              1388.994921     Mumbai\n",
       "New Delhi           1379.698826  New Delhi\n",
       "Gurgaon             1333.906977    Gurgaon\n",
       "Bangalore           1036.187890  Bangalore\n",
       "Pune                 979.858904       Pune"
      ]
     },
     "execution_count": 86,
     "metadata": {},
     "output_type": "execute_result"
    }
   ],
   "source": [
    "costliest_cities =data[['city','average_cost_for_two']].groupby(['city']).mean()\n",
    "\n",
    "top_5_costly_cites =costliest_cities.sort_values(by=['average_cost_for_two'],ascending=False).head(5)\n",
    "\n",
    "top_5_costly_cites['city']=top_5_costly_cites.index\n",
    "\n",
    "top_5_costly_cites"
   ]
  },
  {
   "cell_type": "markdown",
   "metadata": {
    "colab_type": "text",
    "id": "XtZQJyxQCFFf"
   },
   "source": [
    "Inference-\n",
    "\n",
    "        Obtaining the top5 cities having the highest avgerage cost for two people"
   ]
  },
  {
   "cell_type": "code",
   "execution_count": 98,
   "metadata": {
    "colab": {
     "base_uri": "https://localhost:8080/",
     "height": 0
    },
    "colab_type": "code",
    "id": "QmXQyiz8CFFf",
    "outputId": "dcf85759-5e7b-4752-8c91-3a1061147d4f"
   },
   "outputs": [
    {
     "data": {
      "text/plain": [
       "<AxesSubplot:xlabel='city'>"
      ]
     },
     "execution_count": 98,
     "metadata": {},
     "output_type": "execute_result"
    },
    {
     "data": {
      "image/png": "[encoded data removed]",
      "text/plain": [
       "<Figure size 432x288 with 1 Axes>"
      ]
     },
     "metadata": {
      "needs_background": "light"
     },
     "output_type": "display_data"
    }
   ],
   "source": [
    "top_5_costly_cites.plot(x='city',y='average_cost_for_two',kind='bar')"
   ]
  },
  {
   "cell_type": "markdown",
   "metadata": {
    "colab_type": "text",
    "id": "V7FqrcfsCFFj"
   },
   "source": [
    "Inference-\n",
    "\n",
    "        plotting a graph for better understanding"
   ]
  },
  {
   "cell_type": "markdown",
   "metadata": {
    "colab_type": "text",
    "id": "213gm0JWCFFk"
   },
   "source": [
    "### 2.  Comparing regions"
   ]
  },
  {
   "cell_type": "markdown",
   "metadata": {
    "colab_type": "text",
    "id": "vVrBol4LCFFk"
   },
   "source": [
    "### 2a. Highlights available in restaurants for different regions"
   ]
  },
  {
   "cell_type": "markdown",
   "metadata": {
    "colab_type": "text",
    "id": "2tPUNu0sCFFl"
   },
   "source": [
    "To cater our analysis we define the regions as nothern, eastern, western and southern."
   ]
  },
  {
   "cell_type": "markdown",
   "metadata": {
    "colab_type": "text",
    "id": "fDedI7ltCFFl"
   },
   "source": [
    "We first need to select the unique facilities available in each region and sort according to their frequencies."
   ]
  },
  {
   "cell_type": "markdown",
   "metadata": {
    "colab_type": "text",
    "id": "j3ttxS9ACFFl"
   },
   "source": [
    "**Highlights of the northern region**"
   ]
  },
  {
   "cell_type": "code",
   "execution_count": 99,
   "metadata": {
    "colab": {
     "base_uri": "https://localhost:8080/",
     "height": 0
    },
    "colab_type": "code",
    "id": "u-wxub0xCFFm",
    "outputId": "979f8031-c5e5-45b2-bd5b-781117cc335b"
   },
   "outputs": [
    {
     "data": {
      "text/html": [
       "<div>\n",
       "<style scoped>\n",
       "    .dataframe tbody tr th:only-of-type {\n",
       "        vertical-align: middle;\n",
       "    }\n",
       "\n",
       "    .dataframe tbody tr th {\n",
       "        vertical-align: top;\n",
       "    }\n",
       "\n",
       "    .dataframe thead th {\n",
       "        text-align: right;\n",
       "    }\n",
       "</style>\n",
       "<table border=\"1\" class=\"dataframe\">\n",
       "  <thead>\n",
       "    <tr style=\"text-align: right;\">\n",
       "      <th></th>\n",
       "      <th>Facility</th>\n",
       "      <th>frequency</th>\n",
       "    </tr>\n",
       "  </thead>\n",
       "  <tbody>\n",
       "    <tr>\n",
       "      <th>0</th>\n",
       "      <td>Cash</td>\n",
       "      <td>58515.0</td>\n",
       "    </tr>\n",
       "    <tr>\n",
       "      <th>1</th>\n",
       "      <td>Takeaway Available</td>\n",
       "      <td>53133.0</td>\n",
       "    </tr>\n",
       "    <tr>\n",
       "      <th>2</th>\n",
       "      <td>Indoor Seating</td>\n",
       "      <td>50291.0</td>\n",
       "    </tr>\n",
       "    <tr>\n",
       "      <th>3</th>\n",
       "      <td>Dinner</td>\n",
       "      <td>50027.0</td>\n",
       "    </tr>\n",
       "    <tr>\n",
       "      <th>4</th>\n",
       "      <td>Lunch</td>\n",
       "      <td>49720.0</td>\n",
       "    </tr>\n",
       "    <tr>\n",
       "      <th>...</th>\n",
       "      <td>...</td>\n",
       "      <td>...</td>\n",
       "    </tr>\n",
       "    <tr>\n",
       "      <th>91</th>\n",
       "      <td>Wine Tasting</td>\n",
       "      <td>6.0</td>\n",
       "    </tr>\n",
       "    <tr>\n",
       "      <th>92</th>\n",
       "      <td>Unlimited Pizza</td>\n",
       "      <td>5.0</td>\n",
       "    </tr>\n",
       "    <tr>\n",
       "      <th>93</th>\n",
       "      <td>Couple Entry Only</td>\n",
       "      <td>3.0</td>\n",
       "    </tr>\n",
       "    <tr>\n",
       "      <th>94</th>\n",
       "      <td>Members Only</td>\n",
       "      <td>2.0</td>\n",
       "    </tr>\n",
       "    <tr>\n",
       "      <th>95</th>\n",
       "      <td>nan</td>\n",
       "      <td>0.0</td>\n",
       "    </tr>\n",
       "  </tbody>\n",
       "</table>\n",
       "<p>96 rows × 2 columns</p>\n",
       "</div>"
      ],
      "text/plain": [
       "              Facility  frequency\n",
       "0                 Cash    58515.0\n",
       "1   Takeaway Available    53133.0\n",
       "2       Indoor Seating    50291.0\n",
       "3               Dinner    50027.0\n",
       "4                Lunch    49720.0\n",
       "..                 ...        ...\n",
       "91        Wine Tasting        6.0\n",
       "92     Unlimited Pizza        5.0\n",
       "93   Couple Entry Only        3.0\n",
       "94        Members Only        2.0\n",
       "95                 nan        0.0\n",
       "\n",
       "[96 rows x 2 columns]"
      ]
     },
     "execution_count": 99,
     "metadata": {},
     "output_type": "execute_result"
    }
   ],
   "source": [
    "data_high_north=(data[['highlights']][data.region=='north'])\n",
    "ans_north=(frequency_calculator(data_high_north.highlights))\n",
    "store_inter_north=[]\n",
    "\n",
    "df_highlights_north=pd.DataFrame(ans_north,columns=['Facility'])\n",
    "\n",
    "for i in ans_north:\n",
    "    store_inter_north.append(data_high_north['highlights'].str.count(i).sum())\n",
    "\n",
    "df_highlights_north['frequency']=store_inter_north\n",
    "df_highlights_north.sort_values(by=['frequency'],ascending=False).reset_index(drop=True)"
   ]
  },
  {
   "cell_type": "markdown",
   "metadata": {
    "colab_type": "text",
    "id": "e5xSfT1ECFFo"
   },
   "source": [
    "Inference-\n",
    "\n",
    "        Getting the highest frequency facility used in North region "
   ]
  },
  {
   "cell_type": "markdown",
   "metadata": {
    "colab_type": "text",
    "id": "IHSY0Xj_CFFx"
   },
   "source": [
    "#### Plot the barplot for different regions"
   ]
  },
  {
   "cell_type": "markdown",
   "metadata": {
    "colab_type": "text",
    "id": "PsLa1i1QCFFy"
   },
   "source": [
    "We shall now plot the graphs for top 10 highlights."
   ]
  },
  {
   "cell_type": "code",
   "execution_count": 149,
   "metadata": {
    "colab": {
     "base_uri": "https://localhost:8080/",
     "height": 0
    },
    "colab_type": "code",
    "id": "L_2JbARQCFFy",
    "outputId": "9ffc2c22-e027-4c04-8d64-589f210d8703"
   },
   "outputs": [
    {
     "data": {
      "text/plain": [
       "<AxesSubplot:xlabel='Facility', ylabel='frequency'>"
      ]
     },
     "execution_count": 149,
     "metadata": {},
     "output_type": "execute_result"
    },
    {
     "data": {
      "image/png": "[encoded data removed]",
      "text/plain": [
       "<Figure size 1152x864 with 1 Axes>"
      ]
     },
     "metadata": {},
     "output_type": "display_data"
    }
   ],
   "source": [
    "#for NORTH\n",
    "\n",
    "import seaborn as sns\n",
    "f, ax = plt.subplots(figsize=(16, 12))\n",
    "save_north=df_highlights_north.sort_values(by=['frequency'],ascending=False).head(10)\n",
    "sns.barplot(x='Facility',y='frequency',data=save_north)"
   ]
  },
  {
   "cell_type": "markdown",
   "metadata": {
    "colab_type": "text",
    "id": "-X31bTktCFF5"
   },
   "source": [
    "Inference-\n",
    "\n",
    "        Plotting the graphs for the respective regions namely - NORTH for top 10 facilities used in these regions"
   ]
  },
  {
   "cell_type": "markdown",
   "metadata": {
    "colab_type": "text",
    "id": "zk1d5j3nCFF5"
   },
   "source": [
    "\n",
    "### 2b. Cuisines available in restaurants for different regions"
   ]
  },
  {
   "cell_type": "markdown",
   "metadata": {
    "colab_type": "text",
    "id": "lIWdgQLMCFF6"
   },
   "source": [
    "**Cuisines in the northern region**"
   ]
  },
  {
   "cell_type": "code",
   "execution_count": 102,
   "metadata": {
    "colab": {
     "base_uri": "https://localhost:8080/",
     "height": 0
    },
    "colab_type": "code",
    "id": "esl3U2xTCFF6",
    "outputId": "c319da03-c381-4f0c-a57a-20037eb15072",
    "scrolled": true
   },
   "outputs": [
    {
     "data": {
      "text/html": [
       "<div>\n",
       "<style scoped>\n",
       "    .dataframe tbody tr th:only-of-type {\n",
       "        vertical-align: middle;\n",
       "    }\n",
       "\n",
       "    .dataframe tbody tr th {\n",
       "        vertical-align: top;\n",
       "    }\n",
       "\n",
       "    .dataframe thead th {\n",
       "        text-align: right;\n",
       "    }\n",
       "</style>\n",
       "<table border=\"1\" class=\"dataframe\">\n",
       "  <thead>\n",
       "    <tr style=\"text-align: right;\">\n",
       "      <th></th>\n",
       "      <th>cuisines</th>\n",
       "      <th>frequency</th>\n",
       "    </tr>\n",
       "  </thead>\n",
       "  <tbody>\n",
       "    <tr>\n",
       "      <th>0</th>\n",
       "      <td>Indian</td>\n",
       "      <td>34304.0</td>\n",
       "    </tr>\n",
       "    <tr>\n",
       "      <th>1</th>\n",
       "      <td>North Indian</td>\n",
       "      <td>28006.0</td>\n",
       "    </tr>\n",
       "    <tr>\n",
       "      <th>2</th>\n",
       "      <td>Chinese</td>\n",
       "      <td>16763.0</td>\n",
       "    </tr>\n",
       "    <tr>\n",
       "      <th>3</th>\n",
       "      <td>Fast Food</td>\n",
       "      <td>15757.0</td>\n",
       "    </tr>\n",
       "    <tr>\n",
       "      <th>4</th>\n",
       "      <td>Continental</td>\n",
       "      <td>7389.0</td>\n",
       "    </tr>\n",
       "    <tr>\n",
       "      <th>...</th>\n",
       "      <td>...</td>\n",
       "      <td>...</td>\n",
       "    </tr>\n",
       "    <tr>\n",
       "      <th>109</th>\n",
       "      <td>South American</td>\n",
       "      <td>2.0</td>\n",
       "    </tr>\n",
       "    <tr>\n",
       "      <th>110</th>\n",
       "      <td>Pan Asian</td>\n",
       "      <td>1.0</td>\n",
       "    </tr>\n",
       "    <tr>\n",
       "      <th>111</th>\n",
       "      <td>Cafe Food</td>\n",
       "      <td>1.0</td>\n",
       "    </tr>\n",
       "    <tr>\n",
       "      <th>112</th>\n",
       "      <td>Swedish</td>\n",
       "      <td>1.0</td>\n",
       "    </tr>\n",
       "    <tr>\n",
       "      <th>113</th>\n",
       "      <td>nan</td>\n",
       "      <td>0.0</td>\n",
       "    </tr>\n",
       "  </tbody>\n",
       "</table>\n",
       "<p>114 rows × 2 columns</p>\n",
       "</div>"
      ],
      "text/plain": [
       "           cuisines  frequency\n",
       "0            Indian    34304.0\n",
       "1      North Indian    28006.0\n",
       "2           Chinese    16763.0\n",
       "3         Fast Food    15757.0\n",
       "4       Continental     7389.0\n",
       "..              ...        ...\n",
       "109  South American        2.0\n",
       "110       Pan Asian        1.0\n",
       "111       Cafe Food        1.0\n",
       "112         Swedish        1.0\n",
       "113             nan        0.0\n",
       "\n",
       "[114 rows x 2 columns]"
      ]
     },
     "execution_count": 102,
     "metadata": {},
     "output_type": "execute_result"
    }
   ],
   "source": [
    "data_cui_north=(data[['cuisines']][data.region=='north'])\n",
    "ans_north=(frequency_calculator(data_cui_north.cuisines))\n",
    "store_inter_north=[]\n",
    "\n",
    "df_cui_north=pd.DataFrame(ans_north,columns=['cuisines'])\n",
    "\n",
    "for i in ans_north:\n",
    "    store_inter_north.append(data_cui_north['cuisines'].str.count(i).sum())\n",
    "\n",
    "df_cui_north['frequency']=store_inter_north\n",
    "df_cui_north.sort_values(by=['frequency'],ascending=False).reset_index(drop=True)"
   ]
  },
  {
   "cell_type": "markdown",
   "metadata": {
    "colab_type": "text",
    "id": "RJaYydP8CFF8"
   },
   "source": [
    "Inference-\n",
    "\n",
    "        Getting the highest frequency of cuisine in north region "
   ]
  },
  {
   "cell_type": "markdown",
   "metadata": {
    "colab_type": "text",
    "id": "6oVKRBjXCFGI"
   },
   "source": [
    "- Plot the barplot for top 10 cuisines served in the north region"
   ]
  },
  {
   "cell_type": "code",
   "execution_count": 103,
   "metadata": {
    "colab": {
     "base_uri": "https://localhost:8080/",
     "height": 0
    },
    "colab_type": "code",
    "id": "Nx1TNW3pCFGJ",
    "outputId": "7ce94222-4de4-4ac5-df70-45963b6ec209"
   },
   "outputs": [
    {
     "data": {
      "text/plain": [
       "<AxesSubplot:xlabel='cuisines', ylabel='frequency'>"
      ]
     },
     "execution_count": 103,
     "metadata": {},
     "output_type": "execute_result"
    },
    {
     "data": {
      "image/png": "[encoded data removed]",
      "text/plain": [
       "<Figure size 1152x864 with 1 Axes>"
      ]
     },
     "metadata": {
      "needs_background": "light"
     },
     "output_type": "display_data"
    }
   ],
   "source": [
    "#for NORTH\n",
    "import seaborn as sns\n",
    "f, ax = plt.subplots(figsize=(16, 12))\n",
    "save_north=df_cui_north.sort_values(by=['frequency'],ascending=False).head(10)\n",
    "sns.barplot(x='cuisines',y='frequency',data=save_north)"
   ]
  },
  {
   "cell_type": "markdown",
   "metadata": {
    "colab_type": "text",
    "id": "Djgyb1DoCFGV"
   },
   "source": [
    "Inference-\n",
    "\n",
    "        Plotting the graphs for the respective regions namely - NORTH for top 10 cuisines used in these regions"
   ]
  },
  {
   "cell_type": "markdown",
   "metadata": {
    "colab_type": "text",
    "id": "0urMxEMMCFGX"
   },
   "source": [
    "The top 10 cuisines served in Restaurants"
   ]
  },
  {
   "cell_type": "code",
   "execution_count": 104,
   "metadata": {
    "colab": {
     "base_uri": "https://localhost:8080/",
     "height": 359
    },
    "colab_type": "code",
    "id": "bhtFJAA6CFGX",
    "outputId": "5029c9bc-586b-41bc-9a66-8cb0b3b8f822"
   },
   "outputs": [
    {
     "data": {
      "text/html": [
       "<div>\n",
       "<style scoped>\n",
       "    .dataframe tbody tr th:only-of-type {\n",
       "        vertical-align: middle;\n",
       "    }\n",
       "\n",
       "    .dataframe tbody tr th {\n",
       "        vertical-align: top;\n",
       "    }\n",
       "\n",
       "    .dataframe thead th {\n",
       "        text-align: right;\n",
       "    }\n",
       "</style>\n",
       "<table border=\"1\" class=\"dataframe\">\n",
       "  <thead>\n",
       "    <tr style=\"text-align: right;\">\n",
       "      <th></th>\n",
       "      <th>cuisines</th>\n",
       "      <th>frequency</th>\n",
       "    </tr>\n",
       "  </thead>\n",
       "  <tbody>\n",
       "    <tr>\n",
       "      <th>0</th>\n",
       "      <td>Indian</td>\n",
       "      <td>34304.0</td>\n",
       "    </tr>\n",
       "    <tr>\n",
       "      <th>1</th>\n",
       "      <td>North Indian</td>\n",
       "      <td>28006.0</td>\n",
       "    </tr>\n",
       "    <tr>\n",
       "      <th>2</th>\n",
       "      <td>Chinese</td>\n",
       "      <td>16763.0</td>\n",
       "    </tr>\n",
       "    <tr>\n",
       "      <th>3</th>\n",
       "      <td>Fast Food</td>\n",
       "      <td>15757.0</td>\n",
       "    </tr>\n",
       "    <tr>\n",
       "      <th>4</th>\n",
       "      <td>Continental</td>\n",
       "      <td>7389.0</td>\n",
       "    </tr>\n",
       "    <tr>\n",
       "      <th>5</th>\n",
       "      <td>Cafe</td>\n",
       "      <td>7319.0</td>\n",
       "    </tr>\n",
       "    <tr>\n",
       "      <th>6</th>\n",
       "      <td>Italian</td>\n",
       "      <td>6167.0</td>\n",
       "    </tr>\n",
       "    <tr>\n",
       "      <th>7</th>\n",
       "      <td>Beverages</td>\n",
       "      <td>5927.0</td>\n",
       "    </tr>\n",
       "    <tr>\n",
       "      <th>8</th>\n",
       "      <td>Desserts</td>\n",
       "      <td>5183.0</td>\n",
       "    </tr>\n",
       "    <tr>\n",
       "      <th>9</th>\n",
       "      <td>South Indian</td>\n",
       "      <td>5093.0</td>\n",
       "    </tr>\n",
       "  </tbody>\n",
       "</table>\n",
       "</div>"
      ],
      "text/plain": [
       "       cuisines  frequency\n",
       "0        Indian    34304.0\n",
       "1  North Indian    28006.0\n",
       "2       Chinese    16763.0\n",
       "3     Fast Food    15757.0\n",
       "4   Continental     7389.0\n",
       "5          Cafe     7319.0\n",
       "6       Italian     6167.0\n",
       "7     Beverages     5927.0\n",
       "8      Desserts     5183.0\n",
       "9  South Indian     5093.0"
      ]
     },
     "execution_count": 104,
     "metadata": {},
     "output_type": "execute_result"
    }
   ],
   "source": [
    "df_cui_north.sort_values(by=['frequency'],ascending=False).reset_index(drop=True).head(10)"
   ]
  },
  {
   "cell_type": "markdown",
   "metadata": {
    "colab_type": "text",
    "id": "DyyipI6yCFGY"
   },
   "source": [
    "Inference-\n",
    "\n",
    "        Getting the highest frequency of cuisine in north region "
   ]
  },
  {
   "cell_type": "markdown",
   "metadata": {
    "colab_type": "text",
    "id": "knPA-HbSCFGa"
   },
   "source": [
    "**2. Do restaurants with more photo counts and votes have better rating?**"
   ]
  },
  {
   "cell_type": "code",
   "execution_count": 105,
   "metadata": {
    "colab": {
     "base_uri": "https://localhost:8080/",
     "height": 1000
    },
    "colab_type": "code",
    "id": "G2Qtl9nxCFGa",
    "outputId": "943a9987-a93d-4fd9-8e4f-8ab2ef22f18e"
   },
   "outputs": [
    {
     "data": {
      "text/html": [
       "<div>\n",
       "<style scoped>\n",
       "    .dataframe tbody tr th:only-of-type {\n",
       "        vertical-align: middle;\n",
       "    }\n",
       "\n",
       "    .dataframe tbody tr th {\n",
       "        vertical-align: top;\n",
       "    }\n",
       "\n",
       "    .dataframe thead th {\n",
       "        text-align: right;\n",
       "    }\n",
       "</style>\n",
       "<table border=\"1\" class=\"dataframe\">\n",
       "  <thead>\n",
       "    <tr style=\"text-align: right;\">\n",
       "      <th></th>\n",
       "      <th>aggregate_rating</th>\n",
       "      <th>rating_text</th>\n",
       "      <th>photo_count</th>\n",
       "      <th>votes</th>\n",
       "    </tr>\n",
       "  </thead>\n",
       "  <tbody>\n",
       "    <tr>\n",
       "      <th>0</th>\n",
       "      <td>4.2</td>\n",
       "      <td>Very Good</td>\n",
       "      <td>17702</td>\n",
       "      <td>4899</td>\n",
       "    </tr>\n",
       "    <tr>\n",
       "      <th>1</th>\n",
       "      <td>4.2</td>\n",
       "      <td>Very Good</td>\n",
       "      <td>17702</td>\n",
       "      <td>4899</td>\n",
       "    </tr>\n",
       "    <tr>\n",
       "      <th>2</th>\n",
       "      <td>4.2</td>\n",
       "      <td>Very Good</td>\n",
       "      <td>17702</td>\n",
       "      <td>4899</td>\n",
       "    </tr>\n",
       "    <tr>\n",
       "      <th>3</th>\n",
       "      <td>4.2</td>\n",
       "      <td>Very Good</td>\n",
       "      <td>17702</td>\n",
       "      <td>4899</td>\n",
       "    </tr>\n",
       "    <tr>\n",
       "      <th>4</th>\n",
       "      <td>4.2</td>\n",
       "      <td>Very Good</td>\n",
       "      <td>17702</td>\n",
       "      <td>4899</td>\n",
       "    </tr>\n",
       "    <tr>\n",
       "      <th>5</th>\n",
       "      <td>4.2</td>\n",
       "      <td>Very Good</td>\n",
       "      <td>17702</td>\n",
       "      <td>4899</td>\n",
       "    </tr>\n",
       "    <tr>\n",
       "      <th>6</th>\n",
       "      <td>4.2</td>\n",
       "      <td>Very Good</td>\n",
       "      <td>17702</td>\n",
       "      <td>4899</td>\n",
       "    </tr>\n",
       "    <tr>\n",
       "      <th>7</th>\n",
       "      <td>4.2</td>\n",
       "      <td>Very Good</td>\n",
       "      <td>17702</td>\n",
       "      <td>4899</td>\n",
       "    </tr>\n",
       "    <tr>\n",
       "      <th>8</th>\n",
       "      <td>4.7</td>\n",
       "      <td>Excellent</td>\n",
       "      <td>15545</td>\n",
       "      <td>3322</td>\n",
       "    </tr>\n",
       "    <tr>\n",
       "      <th>9</th>\n",
       "      <td>4.7</td>\n",
       "      <td>Excellent</td>\n",
       "      <td>15545</td>\n",
       "      <td>3322</td>\n",
       "    </tr>\n",
       "    <tr>\n",
       "      <th>10</th>\n",
       "      <td>4.7</td>\n",
       "      <td>Excellent</td>\n",
       "      <td>15545</td>\n",
       "      <td>3322</td>\n",
       "    </tr>\n",
       "    <tr>\n",
       "      <th>11</th>\n",
       "      <td>4.7</td>\n",
       "      <td>Excellent</td>\n",
       "      <td>15545</td>\n",
       "      <td>3322</td>\n",
       "    </tr>\n",
       "    <tr>\n",
       "      <th>12</th>\n",
       "      <td>4.7</td>\n",
       "      <td>Excellent</td>\n",
       "      <td>15545</td>\n",
       "      <td>3322</td>\n",
       "    </tr>\n",
       "    <tr>\n",
       "      <th>13</th>\n",
       "      <td>4.7</td>\n",
       "      <td>Excellent</td>\n",
       "      <td>15545</td>\n",
       "      <td>3322</td>\n",
       "    </tr>\n",
       "    <tr>\n",
       "      <th>14</th>\n",
       "      <td>4.7</td>\n",
       "      <td>Excellent</td>\n",
       "      <td>15545</td>\n",
       "      <td>3322</td>\n",
       "    </tr>\n",
       "    <tr>\n",
       "      <th>15</th>\n",
       "      <td>4.7</td>\n",
       "      <td>Excellent</td>\n",
       "      <td>15545</td>\n",
       "      <td>3322</td>\n",
       "    </tr>\n",
       "    <tr>\n",
       "      <th>16</th>\n",
       "      <td>4.7</td>\n",
       "      <td>Excellent</td>\n",
       "      <td>15545</td>\n",
       "      <td>3322</td>\n",
       "    </tr>\n",
       "    <tr>\n",
       "      <th>17</th>\n",
       "      <td>4.8</td>\n",
       "      <td>Excellent</td>\n",
       "      <td>11914</td>\n",
       "      <td>14751</td>\n",
       "    </tr>\n",
       "    <tr>\n",
       "      <th>18</th>\n",
       "      <td>4.8</td>\n",
       "      <td>Excellent</td>\n",
       "      <td>11914</td>\n",
       "      <td>14751</td>\n",
       "    </tr>\n",
       "    <tr>\n",
       "      <th>19</th>\n",
       "      <td>4.8</td>\n",
       "      <td>Excellent</td>\n",
       "      <td>11914</td>\n",
       "      <td>14751</td>\n",
       "    </tr>\n",
       "    <tr>\n",
       "      <th>20</th>\n",
       "      <td>4.8</td>\n",
       "      <td>Excellent</td>\n",
       "      <td>11914</td>\n",
       "      <td>14751</td>\n",
       "    </tr>\n",
       "    <tr>\n",
       "      <th>21</th>\n",
       "      <td>4.8</td>\n",
       "      <td>Excellent</td>\n",
       "      <td>11914</td>\n",
       "      <td>14751</td>\n",
       "    </tr>\n",
       "    <tr>\n",
       "      <th>22</th>\n",
       "      <td>4.8</td>\n",
       "      <td>Excellent</td>\n",
       "      <td>11914</td>\n",
       "      <td>14751</td>\n",
       "    </tr>\n",
       "    <tr>\n",
       "      <th>23</th>\n",
       "      <td>4.8</td>\n",
       "      <td>Excellent</td>\n",
       "      <td>11914</td>\n",
       "      <td>14751</td>\n",
       "    </tr>\n",
       "    <tr>\n",
       "      <th>24</th>\n",
       "      <td>4.8</td>\n",
       "      <td>Excellent</td>\n",
       "      <td>11914</td>\n",
       "      <td>14751</td>\n",
       "    </tr>\n",
       "    <tr>\n",
       "      <th>25</th>\n",
       "      <td>4.8</td>\n",
       "      <td>Excellent</td>\n",
       "      <td>11914</td>\n",
       "      <td>14751</td>\n",
       "    </tr>\n",
       "    <tr>\n",
       "      <th>26</th>\n",
       "      <td>4.8</td>\n",
       "      <td>Excellent</td>\n",
       "      <td>11914</td>\n",
       "      <td>14751</td>\n",
       "    </tr>\n",
       "    <tr>\n",
       "      <th>27</th>\n",
       "      <td>4.8</td>\n",
       "      <td>Excellent</td>\n",
       "      <td>11914</td>\n",
       "      <td>14751</td>\n",
       "    </tr>\n",
       "    <tr>\n",
       "      <th>28</th>\n",
       "      <td>4.8</td>\n",
       "      <td>Excellent</td>\n",
       "      <td>11914</td>\n",
       "      <td>14751</td>\n",
       "    </tr>\n",
       "    <tr>\n",
       "      <th>29</th>\n",
       "      <td>4.8</td>\n",
       "      <td>Excellent</td>\n",
       "      <td>11914</td>\n",
       "      <td>14751</td>\n",
       "    </tr>\n",
       "  </tbody>\n",
       "</table>\n",
       "</div>"
      ],
      "text/plain": [
       "    aggregate_rating rating_text  photo_count  votes\n",
       "0                4.2   Very Good        17702   4899\n",
       "1                4.2   Very Good        17702   4899\n",
       "2                4.2   Very Good        17702   4899\n",
       "3                4.2   Very Good        17702   4899\n",
       "4                4.2   Very Good        17702   4899\n",
       "5                4.2   Very Good        17702   4899\n",
       "6                4.2   Very Good        17702   4899\n",
       "7                4.2   Very Good        17702   4899\n",
       "8                4.7   Excellent        15545   3322\n",
       "9                4.7   Excellent        15545   3322\n",
       "10               4.7   Excellent        15545   3322\n",
       "11               4.7   Excellent        15545   3322\n",
       "12               4.7   Excellent        15545   3322\n",
       "13               4.7   Excellent        15545   3322\n",
       "14               4.7   Excellent        15545   3322\n",
       "15               4.7   Excellent        15545   3322\n",
       "16               4.7   Excellent        15545   3322\n",
       "17               4.8   Excellent        11914  14751\n",
       "18               4.8   Excellent        11914  14751\n",
       "19               4.8   Excellent        11914  14751\n",
       "20               4.8   Excellent        11914  14751\n",
       "21               4.8   Excellent        11914  14751\n",
       "22               4.8   Excellent        11914  14751\n",
       "23               4.8   Excellent        11914  14751\n",
       "24               4.8   Excellent        11914  14751\n",
       "25               4.8   Excellent        11914  14751\n",
       "26               4.8   Excellent        11914  14751\n",
       "27               4.8   Excellent        11914  14751\n",
       "28               4.8   Excellent        11914  14751\n",
       "29               4.8   Excellent        11914  14751"
      ]
     },
     "execution_count": 105,
     "metadata": {},
     "output_type": "execute_result"
    }
   ],
   "source": [
    "data_north=data[data.region=='north']\n",
    "data_north.head(5)\n",
    "\n",
    "data_north[['aggregate_rating','rating_text','photo_count','votes']].sort_values(by=['photo_count','votes'],ascending=False).reset_index(drop=True).head(30)"
   ]
  },
  {
   "cell_type": "markdown",
   "metadata": {
    "colab_type": "text",
    "id": "sH56FA9iCFGc"
   },
   "source": [
    "Inference- \n",
    "            \n",
    "            By observing the table above one can understand that if the photo counts and votes are higher than the rating text is either - \"Very good\" or \"Excellent\" and also the rating is above 4.2 which is a high rating.\n",
    "\n",
    "    Hence,it is safe to say restaurants with more photo counts and votes have better rating."
   ]
  },
  {
   "cell_type": "markdown",
   "metadata": {
    "colab_type": "text",
    "id": "ADt3de4_CFGc"
   },
   "source": [
    "- Plot a boxplots for the above table"
   ]
  },
  {
   "cell_type": "code",
   "execution_count": 108,
   "metadata": {},
   "outputs": [],
   "source": [
    "data_for_boxplot=data_north[['aggregate_rating','photo_count','votes']]"
   ]
  },
  {
   "cell_type": "code",
   "execution_count": 109,
   "metadata": {
    "colab": {
     "base_uri": "https://localhost:8080/",
     "height": 297
    },
    "colab_type": "code",
    "id": "f1ysw8noCFGe",
    "outputId": "950dcec4-8ea9-48b9-da8f-f7b6f2ae3361"
   },
   "outputs": [
    {
     "data": {
      "text/plain": [
       "<AxesSubplot:xlabel='photo_count', ylabel='aggregate_rating'>"
      ]
     },
     "execution_count": 109,
     "metadata": {},
     "output_type": "execute_result"
    },
    {
     "data": {
      "image/png": "[encoded data removed]",
      "text/plain": [
       "<Figure size 432x288 with 1 Axes>"
      ]
     },
     "metadata": {
      "needs_background": "light"
     },
     "output_type": "display_data"
    }
   ],
   "source": [
    "sns.boxplot(x='photo_count',y='aggregate_rating',data=data_for_boxplot)"
   ]
  },
  {
   "cell_type": "code",
   "execution_count": 110,
   "metadata": {
    "colab": {
     "base_uri": "https://localhost:8080/",
     "height": 296
    },
    "colab_type": "code",
    "id": "pugTPilSCFGh",
    "outputId": "379b0bfe-6abc-4ff7-e66a-c56cd4ed1a4f"
   },
   "outputs": [
    {
     "data": {
      "text/plain": [
       "<AxesSubplot:xlabel='votes', ylabel='aggregate_rating'>"
      ]
     },
     "execution_count": 110,
     "metadata": {},
     "output_type": "execute_result"
    },
    {
     "data": {
      "image/png": "[encoded data removed]",
      "text/plain": [
       "<Figure size 432x288 with 1 Axes>"
      ]
     },
     "metadata": {
      "needs_background": "light"
     },
     "output_type": "display_data"
    }
   ],
   "source": [
    "sns.boxplot(x='votes',y='aggregate_rating',data=data_for_boxplot)"
   ]
  },
  {
   "cell_type": "markdown",
   "metadata": {
    "colab_type": "text",
    "id": "k3qeCQJbCFGj"
   },
   "source": [
    "Inference- \n",
    "        \n",
    "    plotting the various boxplot to understand the relationship between the photo count, votes and their individual influence on the aggregate rating of the restaurant"
   ]
  },
  {
   "cell_type": "markdown",
   "metadata": {
    "colab_type": "text",
    "id": "af8VpZABCFGj"
   },
   "source": [
    "### 4. The Mumbai city"
   ]
  },
  {
   "cell_type": "markdown",
   "metadata": {
    "colab_type": "text",
    "id": "frior_hLCFGk"
   },
   "source": [
    "consider the city mumbai and get a better insights of restuarants in Mumbai."
   ]
  },
  {
   "cell_type": "code",
   "execution_count": 111,
   "metadata": {
    "colab": {
     "base_uri": "https://localhost:8080/",
     "height": 649
    },
    "colab_type": "code",
    "id": "Y9fAkzsfCFGk",
    "outputId": "b053aa89-a6ce-4bb0-dff7-2748bf4c7de4"
   },
   "outputs": [
    {
     "data": {
      "text/html": [
       "<div>\n",
       "<style scoped>\n",
       "    .dataframe tbody tr th:only-of-type {\n",
       "        vertical-align: middle;\n",
       "    }\n",
       "\n",
       "    .dataframe tbody tr th {\n",
       "        vertical-align: top;\n",
       "    }\n",
       "\n",
       "    .dataframe thead th {\n",
       "        text-align: right;\n",
       "    }\n",
       "</style>\n",
       "<table border=\"1\" class=\"dataframe\">\n",
       "  <thead>\n",
       "    <tr style=\"text-align: right;\">\n",
       "      <th></th>\n",
       "      <th>res_id</th>\n",
       "      <th>name</th>\n",
       "      <th>establishment</th>\n",
       "      <th>url</th>\n",
       "      <th>address</th>\n",
       "      <th>city</th>\n",
       "      <th>city_id</th>\n",
       "      <th>locality</th>\n",
       "      <th>latitude</th>\n",
       "      <th>longitude</th>\n",
       "      <th>...</th>\n",
       "      <th>highlights</th>\n",
       "      <th>aggregate_rating</th>\n",
       "      <th>rating_text</th>\n",
       "      <th>votes</th>\n",
       "      <th>photo_count</th>\n",
       "      <th>delivery</th>\n",
       "      <th>takeaway</th>\n",
       "      <th>geometry</th>\n",
       "      <th>rating_text_new</th>\n",
       "      <th>region</th>\n",
       "    </tr>\n",
       "  </thead>\n",
       "  <tbody>\n",
       "    <tr>\n",
       "      <th>134852</th>\n",
       "      <td>18562340</td>\n",
       "      <td>Drinkery 51</td>\n",
       "      <td>Casual Dining</td>\n",
       "      <td>https://www.zomato.com/mumbai/drinkery-51-band...</td>\n",
       "      <td>1st Floor, Vibgyor Towers, Bandra Kurla Comple...</td>\n",
       "      <td>Mumbai</td>\n",
       "      <td>3</td>\n",
       "      <td>Bandra Kurla Complex</td>\n",
       "      <td>19.067176</td>\n",
       "      <td>72.867493</td>\n",
       "      <td>...</td>\n",
       "      <td>Dinner, Debit Card, Lunch, Serves Alcohol, Cas...</td>\n",
       "      <td>4.4</td>\n",
       "      <td>Very Good</td>\n",
       "      <td>3796</td>\n",
       "      <td>1897</td>\n",
       "      <td>1</td>\n",
       "      <td>-1</td>\n",
       "      <td>POINT (72.86749 19.06718)</td>\n",
       "      <td>excellent</td>\n",
       "      <td>west</td>\n",
       "    </tr>\n",
       "    <tr>\n",
       "      <th>134853</th>\n",
       "      <td>34757</td>\n",
       "      <td>Joeys Pizza</td>\n",
       "      <td>Quick Bites</td>\n",
       "      <td>https://www.zomato.com/mumbai/joeys-pizza-mala...</td>\n",
       "      <td>Shop 1, Plot D, Samruddhi Complex, Chincholi B...</td>\n",
       "      <td>Mumbai</td>\n",
       "      <td>3</td>\n",
       "      <td>Malad West</td>\n",
       "      <td>19.178188</td>\n",
       "      <td>72.834666</td>\n",
       "      <td>...</td>\n",
       "      <td>Lunch, Cash, Takeaway Available, Debit Card, D...</td>\n",
       "      <td>4.5</td>\n",
       "      <td>Excellent</td>\n",
       "      <td>7932</td>\n",
       "      <td>4960</td>\n",
       "      <td>-1</td>\n",
       "      <td>-1</td>\n",
       "      <td>POINT (72.83467 19.17819)</td>\n",
       "      <td>excellent</td>\n",
       "      <td>west</td>\n",
       "    </tr>\n",
       "    <tr>\n",
       "      <th>134854</th>\n",
       "      <td>18548172</td>\n",
       "      <td>Hitchki</td>\n",
       "      <td>Bar</td>\n",
       "      <td>https://www.zomato.com/mumbai/hitchki-powai?ut...</td>\n",
       "      <td>5, Transocean, Hiranandani Business Park, Lake...</td>\n",
       "      <td>Mumbai</td>\n",
       "      <td>3</td>\n",
       "      <td>Powai</td>\n",
       "      <td>19.119930</td>\n",
       "      <td>72.907331</td>\n",
       "      <td>...</td>\n",
       "      <td>Lunch, Serves Alcohol, Cash, Credit Card, Dinn...</td>\n",
       "      <td>4.7</td>\n",
       "      <td>Excellent</td>\n",
       "      <td>3762</td>\n",
       "      <td>12979</td>\n",
       "      <td>1</td>\n",
       "      <td>-1</td>\n",
       "      <td>POINT (72.90733 19.11993)</td>\n",
       "      <td>excellent</td>\n",
       "      <td>west</td>\n",
       "    </tr>\n",
       "    <tr>\n",
       "      <th>134855</th>\n",
       "      <td>18392725</td>\n",
       "      <td>Tamasha</td>\n",
       "      <td>Lounge</td>\n",
       "      <td>https://www.zomato.com/mumbai/tamasha-lower-pa...</td>\n",
       "      <td>Ground Floor, Victoria House, E.B Marg, Lower ...</td>\n",
       "      <td>Mumbai</td>\n",
       "      <td>3</td>\n",
       "      <td>Lower Parel</td>\n",
       "      <td>19.006060</td>\n",
       "      <td>72.827496</td>\n",
       "      <td>...</td>\n",
       "      <td>Dinner, Cash, Takeaway Available, Credit Card,...</td>\n",
       "      <td>4.7</td>\n",
       "      <td>Excellent</td>\n",
       "      <td>4979</td>\n",
       "      <td>16595</td>\n",
       "      <td>-1</td>\n",
       "      <td>-1</td>\n",
       "      <td>POINT (72.82750 19.00606)</td>\n",
       "      <td>excellent</td>\n",
       "      <td>west</td>\n",
       "    </tr>\n",
       "    <tr>\n",
       "      <th>134856</th>\n",
       "      <td>18962112</td>\n",
       "      <td>Bayroute</td>\n",
       "      <td>Fine Dining</td>\n",
       "      <td>https://www.zomato.com/mumbai/bayroute-juhu?ut...</td>\n",
       "      <td>14, Silver Beach Estate, A.B. Nair Road, Oppos...</td>\n",
       "      <td>Mumbai</td>\n",
       "      <td>3</td>\n",
       "      <td>Juhu</td>\n",
       "      <td>19.110684</td>\n",
       "      <td>72.825368</td>\n",
       "      <td>...</td>\n",
       "      <td>Dinner, Cash, Takeaway Available, Debit Card, ...</td>\n",
       "      <td>4.9</td>\n",
       "      <td>Excellent</td>\n",
       "      <td>706</td>\n",
       "      <td>2484</td>\n",
       "      <td>-1</td>\n",
       "      <td>-1</td>\n",
       "      <td>POINT (72.82537 19.11068)</td>\n",
       "      <td>excellent</td>\n",
       "      <td>west</td>\n",
       "    </tr>\n",
       "  </tbody>\n",
       "</table>\n",
       "<p>5 rows × 25 columns</p>\n",
       "</div>"
      ],
      "text/plain": [
       "          res_id         name  establishment  \\\n",
       "134852  18562340  Drinkery 51  Casual Dining   \n",
       "134853     34757  Joeys Pizza    Quick Bites   \n",
       "134854  18548172      Hitchki            Bar   \n",
       "134855  18392725      Tamasha         Lounge   \n",
       "134856  18962112     Bayroute    Fine Dining   \n",
       "\n",
       "                                                      url  \\\n",
       "134852  https://www.zomato.com/mumbai/drinkery-51-band...   \n",
       "134853  https://www.zomato.com/mumbai/joeys-pizza-mala...   \n",
       "134854  https://www.zomato.com/mumbai/hitchki-powai?ut...   \n",
       "134855  https://www.zomato.com/mumbai/tamasha-lower-pa...   \n",
       "134856  https://www.zomato.com/mumbai/bayroute-juhu?ut...   \n",
       "\n",
       "                                                  address    city  city_id  \\\n",
       "134852  1st Floor, Vibgyor Towers, Bandra Kurla Comple...  Mumbai        3   \n",
       "134853  Shop 1, Plot D, Samruddhi Complex, Chincholi B...  Mumbai        3   \n",
       "134854  5, Transocean, Hiranandani Business Park, Lake...  Mumbai        3   \n",
       "134855  Ground Floor, Victoria House, E.B Marg, Lower ...  Mumbai        3   \n",
       "134856  14, Silver Beach Estate, A.B. Nair Road, Oppos...  Mumbai        3   \n",
       "\n",
       "                    locality   latitude  longitude  ...  \\\n",
       "134852  Bandra Kurla Complex  19.067176  72.867493  ...   \n",
       "134853            Malad West  19.178188  72.834666  ...   \n",
       "134854                 Powai  19.119930  72.907331  ...   \n",
       "134855           Lower Parel  19.006060  72.827496  ...   \n",
       "134856                  Juhu  19.110684  72.825368  ...   \n",
       "\n",
       "                                               highlights aggregate_rating  \\\n",
       "134852  Dinner, Debit Card, Lunch, Serves Alcohol, Cas...              4.4   \n",
       "134853  Lunch, Cash, Takeaway Available, Debit Card, D...              4.5   \n",
       "134854  Lunch, Serves Alcohol, Cash, Credit Card, Dinn...              4.7   \n",
       "134855  Dinner, Cash, Takeaway Available, Credit Card,...              4.7   \n",
       "134856  Dinner, Cash, Takeaway Available, Debit Card, ...              4.9   \n",
       "\n",
       "       rating_text  votes  photo_count delivery  takeaway  \\\n",
       "134852   Very Good   3796         1897        1        -1   \n",
       "134853   Excellent   7932         4960       -1        -1   \n",
       "134854   Excellent   3762        12979        1        -1   \n",
       "134855   Excellent   4979        16595       -1        -1   \n",
       "134856   Excellent    706         2484       -1        -1   \n",
       "\n",
       "                         geometry  rating_text_new  region  \n",
       "134852  POINT (72.86749 19.06718)        excellent    west  \n",
       "134853  POINT (72.83467 19.17819)        excellent    west  \n",
       "134854  POINT (72.90733 19.11993)        excellent    west  \n",
       "134855  POINT (72.82750 19.00606)        excellent    west  \n",
       "134856  POINT (72.82537 19.11068)        excellent    west  \n",
       "\n",
       "[5 rows x 25 columns]"
      ]
     },
     "execution_count": 111,
     "metadata": {},
     "output_type": "execute_result"
    }
   ],
   "source": [
    "df_mum=data[data.city=='Mumbai']\n",
    "df_mum.head()"
   ]
  },
  {
   "cell_type": "markdown",
   "metadata": {
    "colab_type": "text",
    "id": "sbmy0Zb3CFGn"
   },
   "source": [
    "Inference-\n",
    "\n",
    "        Getting data only related to mumbai"
   ]
  },
  {
   "cell_type": "markdown",
   "metadata": {
    "colab_type": "text",
    "id": "_Ju79DA-CFGn"
   },
   "source": [
    "**1. Expensive restaurants in Mumbai**\n",
    "\n",
    "-  Define the costliest restaurants whose average cost of two people exceeds Rs.5000 .\n",
    "-  Plot the restaurants which are costliest based on their average cost for two .\n",
    "\n",
    "\n"
   ]
  },
  {
   "cell_type": "code",
   "execution_count": 112,
   "metadata": {
    "colab": {
     "base_uri": "https://localhost:8080/",
     "height": 153
    },
    "colab_type": "code",
    "id": "kcgAyvm_CFGn",
    "outputId": "9f0a85b5-8a67-4ec6-b3f6-2318a5ffe567"
   },
   "outputs": [
    {
     "data": {
      "text/plain": [
       "0                             Vista - Taj Lands End\n",
       "1                       Souk - The Taj Mahal Palace\n",
       "2         Wasabi By Morimoto - The Taj Mahal Palace\n",
       "3                              Celini - Grand Hyatt\n",
       "4               Masala Kraft - The Taj Mahal Palace\n",
       "5                             San-Qi - Four Seasons\n",
       "6                         Bombay High - ITC Maratha\n",
       "7     Ocean - The Private Dining Room - Sahara Star\n",
       "8         Wasabi By Morimoto - The Taj Mahal Palace\n",
       "9                      Yuuka - The St. Regis Mumbai\n",
       "10              Masala Kraft - The Taj Mahal Palace\n",
       "11                             Celini - Grand Hyatt\n",
       "12           Le Cirque Signature - The Leela Mumbai\n",
       "13                            Vista - Taj Lands End\n",
       "14                      Souk - The Taj Mahal Palace\n",
       "Name: name, dtype: category\n",
       "Categories (40965, object): ['# Wednesday', '#1, Culinary Avenue - The Red Maple', '#788 Avenue', '#BC', ..., 'ट 4 Tasty', 'द Vege टेबल', 'स्पेस Bar', 'ह-tea The Tea Hut']"
      ]
     },
     "execution_count": 112,
     "metadata": {},
     "output_type": "execute_result"
    }
   ],
   "source": [
    "#costliest restaurants in Mumbai City\n",
    "df_mum['name'][df_mum.average_cost_for_two>5000].reset_index(drop=True).head(15)"
   ]
  },
  {
   "cell_type": "code",
   "execution_count": 113,
   "metadata": {
    "colab": {
     "base_uri": "https://localhost:8080/",
     "height": 204
    },
    "colab_type": "code",
    "id": "OK3xj7J7CFGq",
    "outputId": "8c49fa36-d427-4fe9-9b44-bccc662d26f3"
   },
   "outputs": [
    {
     "data": {
      "text/html": [
       "<div>\n",
       "<style scoped>\n",
       "    .dataframe tbody tr th:only-of-type {\n",
       "        vertical-align: middle;\n",
       "    }\n",
       "\n",
       "    .dataframe tbody tr th {\n",
       "        vertical-align: top;\n",
       "    }\n",
       "\n",
       "    .dataframe thead th {\n",
       "        text-align: right;\n",
       "    }\n",
       "</style>\n",
       "<table border=\"1\" class=\"dataframe\">\n",
       "  <thead>\n",
       "    <tr style=\"text-align: right;\">\n",
       "      <th></th>\n",
       "      <th>name</th>\n",
       "      <th>average_cost_for_two</th>\n",
       "    </tr>\n",
       "  </thead>\n",
       "  <tbody>\n",
       "    <tr>\n",
       "      <th>0</th>\n",
       "      <td>Ocean - The Private Dining Room - Sahara Star</td>\n",
       "      <td>30000</td>\n",
       "    </tr>\n",
       "    <tr>\n",
       "      <th>1</th>\n",
       "      <td>Wasabi By Morimoto - The Taj Mahal Palace</td>\n",
       "      <td>10000</td>\n",
       "    </tr>\n",
       "    <tr>\n",
       "      <th>2</th>\n",
       "      <td>Yuuka - The St. Regis Mumbai</td>\n",
       "      <td>8000</td>\n",
       "    </tr>\n",
       "    <tr>\n",
       "      <th>3</th>\n",
       "      <td>Masala Kraft - The Taj Mahal Palace</td>\n",
       "      <td>6500</td>\n",
       "    </tr>\n",
       "    <tr>\n",
       "      <th>4</th>\n",
       "      <td>Celini - Grand Hyatt</td>\n",
       "      <td>6000</td>\n",
       "    </tr>\n",
       "  </tbody>\n",
       "</table>\n",
       "</div>"
      ],
      "text/plain": [
       "                                            name  average_cost_for_two\n",
       "0  Ocean - The Private Dining Room - Sahara Star                 30000\n",
       "1      Wasabi By Morimoto - The Taj Mahal Palace                 10000\n",
       "2                   Yuuka - The St. Regis Mumbai                  8000\n",
       "3            Masala Kraft - The Taj Mahal Palace                  6500\n",
       "4                           Celini - Grand Hyatt                  6000"
      ]
     },
     "execution_count": 113,
     "metadata": {},
     "output_type": "execute_result"
    }
   ],
   "source": [
    "#top 5 costliest restaurants in mumbai\n",
    "top5_rest_in_mumbai=df_mum[['name','average_cost_for_two']].sort_values(by=['average_cost_for_two'],ascending=False).drop_duplicates().reset_index(drop=True).head(5)\n",
    "top5_rest_in_mumbai"
   ]
  },
  {
   "cell_type": "markdown",
   "metadata": {
    "colab_type": "text",
    "id": "1q9VGlf6CFGt"
   },
   "source": [
    "Inference-\n",
    "\n",
    "        getting the costliest  restaurants whose average cost of two people exceeds Rs.5000 ."
   ]
  },
  {
   "cell_type": "code",
   "execution_count": 114,
   "metadata": {
    "colab": {
     "base_uri": "https://localhost:8080/",
     "height": 898
    },
    "colab_type": "code",
    "id": "w3W-TU02CFGt",
    "outputId": "9c66897b-4410-47c2-962a-cd312c274b1c"
   },
   "outputs": [
    {
     "data": {
      "text/plain": [
       "<AxesSubplot:xlabel='name'>"
      ]
     },
     "execution_count": 114,
     "metadata": {},
     "output_type": "execute_result"
    },
    {
     "data": {
      "image/png": "[encoded data removed]",
      "text/plain": [
       "<Figure size 432x288 with 1 Axes>"
      ]
     },
     "metadata": {
      "needs_background": "light"
     },
     "output_type": "display_data"
    }
   ],
   "source": [
    "#plotting the graph\n",
    "top5_rest_in_mumbai.plot.bar(x='name',y='average_cost_for_two')"
   ]
  },
  {
   "cell_type": "markdown",
   "metadata": {
    "colab_type": "text",
    "id": "WFf7-aSACFGz"
   },
   "source": [
    "Inference-\n",
    "\n",
    "        plotting the values on graph for better understanding"
   ]
  },
  {
   "cell_type": "markdown",
   "metadata": {
    "colab_type": "text",
    "id": "mXs7WPUhCFG0"
   },
   "source": [
    "**2.To find the top 20 cuisines of Mumbai**"
   ]
  },
  {
   "cell_type": "markdown",
   "metadata": {
    "colab_type": "text",
    "id": "u9z3ALVbCFG1"
   },
   "source": [
    "- select unique cuisines available at restaurants in Mumbai\n",
    "\n",
    "\n",
    "- sort cuisines based on frequency\n"
   ]
  },
  {
   "cell_type": "code",
   "execution_count": 115,
   "metadata": {
    "colab": {
     "base_uri": "https://localhost:8080/",
     "height": 54
    },
    "colab_type": "code",
    "id": "qM47fYtiCFG1",
    "outputId": "8cf4294f-e47e-413a-b24f-29ddc9622b2d"
   },
   "outputs": [],
   "source": [
    "mumbai_cuisines=frequency_calculator(df_mum['cuisines'])"
   ]
  },
  {
   "cell_type": "markdown",
   "metadata": {
    "colab_type": "text",
    "id": "9AseicyQCFG3"
   },
   "source": [
    "Inference-\n",
    "\n",
    "        getting the unique cuisine in Mumbai region"
   ]
  },
  {
   "cell_type": "code",
   "execution_count": 116,
   "metadata": {
    "colab": {
     "base_uri": "https://localhost:8080/",
     "height": 669
    },
    "colab_type": "code",
    "id": "6uaO2a13CFG3",
    "outputId": "8915e3f4-1fdb-4dec-b023-d353939e43a0"
   },
   "outputs": [
    {
     "data": {
      "text/html": [
       "<div>\n",
       "<style scoped>\n",
       "    .dataframe tbody tr th:only-of-type {\n",
       "        vertical-align: middle;\n",
       "    }\n",
       "\n",
       "    .dataframe tbody tr th {\n",
       "        vertical-align: top;\n",
       "    }\n",
       "\n",
       "    .dataframe thead th {\n",
       "        text-align: right;\n",
       "    }\n",
       "</style>\n",
       "<table border=\"1\" class=\"dataframe\">\n",
       "  <thead>\n",
       "    <tr style=\"text-align: right;\">\n",
       "      <th></th>\n",
       "      <th>Cuisines_Of_Mumbai</th>\n",
       "      <th>frequency</th>\n",
       "    </tr>\n",
       "  </thead>\n",
       "  <tbody>\n",
       "    <tr>\n",
       "      <th>0</th>\n",
       "      <td>Indian</td>\n",
       "      <td>2956</td>\n",
       "    </tr>\n",
       "    <tr>\n",
       "      <th>1</th>\n",
       "      <td>North Indian</td>\n",
       "      <td>2444</td>\n",
       "    </tr>\n",
       "    <tr>\n",
       "      <th>2</th>\n",
       "      <td>Chinese</td>\n",
       "      <td>1735</td>\n",
       "    </tr>\n",
       "    <tr>\n",
       "      <th>3</th>\n",
       "      <td>Continental</td>\n",
       "      <td>1516</td>\n",
       "    </tr>\n",
       "    <tr>\n",
       "      <th>4</th>\n",
       "      <td>Italian</td>\n",
       "      <td>1372</td>\n",
       "    </tr>\n",
       "    <tr>\n",
       "      <th>5</th>\n",
       "      <td>Fast Food</td>\n",
       "      <td>1271</td>\n",
       "    </tr>\n",
       "    <tr>\n",
       "      <th>6</th>\n",
       "      <td>Desserts</td>\n",
       "      <td>1207</td>\n",
       "    </tr>\n",
       "    <tr>\n",
       "      <th>7</th>\n",
       "      <td>Beverages</td>\n",
       "      <td>885</td>\n",
       "    </tr>\n",
       "    <tr>\n",
       "      <th>8</th>\n",
       "      <td>Asian</td>\n",
       "      <td>814</td>\n",
       "    </tr>\n",
       "    <tr>\n",
       "      <th>9</th>\n",
       "      <td>American</td>\n",
       "      <td>656</td>\n",
       "    </tr>\n",
       "    <tr>\n",
       "      <th>10</th>\n",
       "      <td>Cafe</td>\n",
       "      <td>552</td>\n",
       "    </tr>\n",
       "    <tr>\n",
       "      <th>11</th>\n",
       "      <td>European</td>\n",
       "      <td>529</td>\n",
       "    </tr>\n",
       "    <tr>\n",
       "      <th>12</th>\n",
       "      <td>Mexican</td>\n",
       "      <td>497</td>\n",
       "    </tr>\n",
       "    <tr>\n",
       "      <th>13</th>\n",
       "      <td>Mughlai</td>\n",
       "      <td>472</td>\n",
       "    </tr>\n",
       "    <tr>\n",
       "      <th>14</th>\n",
       "      <td>Pizza</td>\n",
       "      <td>418</td>\n",
       "    </tr>\n",
       "    <tr>\n",
       "      <th>15</th>\n",
       "      <td>Finger Food</td>\n",
       "      <td>409</td>\n",
       "    </tr>\n",
       "    <tr>\n",
       "      <th>16</th>\n",
       "      <td>Street Food</td>\n",
       "      <td>370</td>\n",
       "    </tr>\n",
       "    <tr>\n",
       "      <th>17</th>\n",
       "      <td>Bakery</td>\n",
       "      <td>361</td>\n",
       "    </tr>\n",
       "    <tr>\n",
       "      <th>18</th>\n",
       "      <td>Biryani</td>\n",
       "      <td>328</td>\n",
       "    </tr>\n",
       "    <tr>\n",
       "      <th>19</th>\n",
       "      <td>Seafood</td>\n",
       "      <td>328</td>\n",
       "    </tr>\n",
       "  </tbody>\n",
       "</table>\n",
       "</div>"
      ],
      "text/plain": [
       "   Cuisines_Of_Mumbai  frequency\n",
       "0              Indian       2956\n",
       "1        North Indian       2444\n",
       "2             Chinese       1735\n",
       "3         Continental       1516\n",
       "4             Italian       1372\n",
       "5           Fast Food       1271\n",
       "6            Desserts       1207\n",
       "7           Beverages        885\n",
       "8               Asian        814\n",
       "9            American        656\n",
       "10               Cafe        552\n",
       "11           European        529\n",
       "12            Mexican        497\n",
       "13            Mughlai        472\n",
       "14              Pizza        418\n",
       "15        Finger Food        409\n",
       "16        Street Food        370\n",
       "17             Bakery        361\n",
       "18            Biryani        328\n",
       "19            Seafood        328"
      ]
     },
     "execution_count": 116,
     "metadata": {},
     "output_type": "execute_result"
    }
   ],
   "source": [
    "store_cuisine_inter_mum=[]\n",
    "\n",
    "df_cuisine_mumbai=pd.DataFrame(mumbai_cuisines,columns=['Cuisines_Of_Mumbai'])\n",
    "for i in mumbai_cuisines:\n",
    "    store_cuisine_inter_mum.append(df_mum['cuisines'].str.count(i).sum())\n",
    "\n",
    "df_cuisine_mumbai['frequency']=store_cuisine_inter_mum\n",
    "df_cuisine_mumbai.sort_values(by=['frequency'],ascending=False).reset_index(drop=True).head(20)"
   ]
  },
  {
   "cell_type": "markdown",
   "metadata": {
    "colab_type": "text",
    "id": "KTLbAChSCFG5"
   },
   "source": [
    "Inference-\n",
    "\n",
    "        getting the frequency of the top 10 cuisines in the mumbai region"
   ]
  },
  {
   "cell_type": "markdown",
   "metadata": {
    "colab_type": "text",
    "id": "Di3iu3qSCFG5"
   },
   "source": [
    "**3. To find the popular localities in Mumbai**"
   ]
  },
  {
   "cell_type": "code",
   "execution_count": 117,
   "metadata": {
    "colab": {
     "base_uri": "https://localhost:8080/",
     "height": 119
    },
    "colab_type": "code",
    "id": "GTqI_ybACFG5",
    "outputId": "f4e59fe8-132b-4fb3-d4a5-a53cdb2ab542"
   },
   "outputs": [
    {
     "data": {
      "text/plain": [
       "Powai                                297\n",
       "Andheri Lokhandwala, Andheri West    292\n",
       "Malad West                           209\n",
       "Borivali West                        202\n",
       "Bandra Kurla Complex                 184\n",
       "Name: locality, dtype: int64"
      ]
     },
     "execution_count": 117,
     "metadata": {},
     "output_type": "execute_result"
    }
   ],
   "source": [
    "df_mum_local=df_mum[['locality']]\n",
    "df_mum_local['locality'].value_counts().head(5)"
   ]
  },
  {
   "cell_type": "markdown",
   "metadata": {
    "colab_type": "text",
    "id": "3BfCENHeCFG7"
   },
   "source": [
    "Inference-\n",
    "\n",
    "        getting the top5 popular localities in mumbai "
   ]
  },
  {
   "cell_type": "markdown",
   "metadata": {
    "colab_type": "text",
    "id": "62dP8mfpCFHA"
   },
   "source": [
    "**4. Multiple box plot for photo_counts based on establishment type.**\n",
    "\n"
   ]
  },
  {
   "cell_type": "code",
   "execution_count": 130,
   "metadata": {
    "colab": {
     "base_uri": "https://localhost:8080/",
     "height": 502
    },
    "colab_type": "code",
    "id": "aiF5w4ucCFHA",
    "outputId": "7a117d25-2309-47ed-f59b-a0b4d6cbe76c"
   },
   "outputs": [
    {
     "data": {
      "image/png": "[encoded data removed]",
      "text/plain": [
       "<Figure size 3960x2160 with 1 Axes>"
      ]
     },
     "metadata": {},
     "output_type": "display_data"
    }
   ],
   "source": [
    "sns.barplot(x='photo_count',y='establishment',data=data)\n",
    "sns.set(rc={'figure.figsize':(55,20)})"
   ]
  },
  {
   "cell_type": "markdown",
   "metadata": {
    "colab_type": "text",
    "id": "yWNMWb81CFHC"
   },
   "source": [
    "Inference-\n",
    "\n",
    "        plotting bar plot for the photo counts and the type of establishment"
   ]
  },
  {
   "cell_type": "code",
   "execution_count": 143,
   "metadata": {},
   "outputs": [
    {
     "data": {
      "text/html": [
       "<div>\n",
       "<style scoped>\n",
       "    .dataframe tbody tr th:only-of-type {\n",
       "        vertical-align: middle;\n",
       "    }\n",
       "\n",
       "    .dataframe tbody tr th {\n",
       "        vertical-align: top;\n",
       "    }\n",
       "\n",
       "    .dataframe thead th {\n",
       "        text-align: right;\n",
       "    }\n",
       "</style>\n",
       "<table border=\"1\" class=\"dataframe\">\n",
       "  <thead>\n",
       "    <tr style=\"text-align: right;\">\n",
       "      <th></th>\n",
       "      <th>Facility_Provided</th>\n",
       "      <th>Frequency</th>\n",
       "    </tr>\n",
       "  </thead>\n",
       "  <tbody>\n",
       "    <tr>\n",
       "      <th>100</th>\n",
       "      <td>Cash</td>\n",
       "      <td>203036.0</td>\n",
       "    </tr>\n",
       "    <tr>\n",
       "      <th>93</th>\n",
       "      <td>Takeaway Available</td>\n",
       "      <td>180942.0</td>\n",
       "    </tr>\n",
       "    <tr>\n",
       "      <th>102</th>\n",
       "      <td>Indoor Seating</td>\n",
       "      <td>175396.0</td>\n",
       "    </tr>\n",
       "    <tr>\n",
       "      <th>50</th>\n",
       "      <td>Dinner</td>\n",
       "      <td>169291.0</td>\n",
       "    </tr>\n",
       "    <tr>\n",
       "      <th>31</th>\n",
       "      <td>Lunch</td>\n",
       "      <td>165545.0</td>\n",
       "    </tr>\n",
       "    <tr>\n",
       "      <th>...</th>\n",
       "      <td>...</td>\n",
       "      <td>...</td>\n",
       "    </tr>\n",
       "    <tr>\n",
       "      <th>29</th>\n",
       "      <td>Members Only</td>\n",
       "      <td>4.0</td>\n",
       "    </tr>\n",
       "    <tr>\n",
       "      <th>77</th>\n",
       "      <td>Subscription Available</td>\n",
       "      <td>3.0</td>\n",
       "    </tr>\n",
       "    <tr>\n",
       "      <th>39</th>\n",
       "      <td>Subscription Required</td>\n",
       "      <td>3.0</td>\n",
       "    </tr>\n",
       "    <tr>\n",
       "      <th>8</th>\n",
       "      <td>Bira 91 Beer</td>\n",
       "      <td>2.0</td>\n",
       "    </tr>\n",
       "    <tr>\n",
       "      <th>64</th>\n",
       "      <td>nan</td>\n",
       "      <td>0.0</td>\n",
       "    </tr>\n",
       "  </tbody>\n",
       "</table>\n",
       "<p>104 rows × 2 columns</p>\n",
       "</div>"
      ],
      "text/plain": [
       "          Facility_Provided  Frequency\n",
       "100                    Cash   203036.0\n",
       "93       Takeaway Available   180942.0\n",
       "102          Indoor Seating   175396.0\n",
       "50                   Dinner   169291.0\n",
       "31                    Lunch   165545.0\n",
       "..                      ...        ...\n",
       "29             Members Only        4.0\n",
       "77   Subscription Available        3.0\n",
       "39    Subscription Required        3.0\n",
       "8              Bira 91 Beer        2.0\n",
       "64                      nan        0.0\n",
       "\n",
       "[104 rows x 2 columns]"
      ]
     },
     "execution_count": 143,
     "metadata": {},
     "output_type": "execute_result"
    }
   ],
   "source": [
    "df_highlights.sort_values(by='Frequency',ascending=False)"
   ]
  },
  {
   "cell_type": "code",
   "execution_count": 145,
   "metadata": {
    "colab": {
     "base_uri": "https://localhost:8080/",
     "height": 145
    },
    "colab_type": "code",
    "id": "PojJYG88CFHI",
    "outputId": "cba24844-e7b0-4240-dd39-ae79467d43d3"
   },
   "outputs": [
    {
     "data": {
      "image/png": "[encoded data removed]",
      "text/plain": [
       "<Figure size 2160x720 with 1 Axes>"
      ]
     },
     "metadata": {},
     "output_type": "display_data"
    }
   ],
   "source": [
    "sns.barplot(x='Frequency',y='Facility_Provided',data=df_highlights.sort_values(by='Frequency',ascending=False).head(10))\n",
    "sns.set(rc={'figure.figsize':(30,10)})"
   ]
  },
  {
   "cell_type": "markdown",
   "metadata": {
    "colab_type": "text",
    "id": "G-L8qoe-CFHJ"
   },
   "source": [
    "Inference-\n",
    "\n",
    "        getting the unique facilities in the western region  \n",
    "        sorting it wrt the frequency by which they are used\n"
   ]
  },
  {
   "cell_type": "markdown",
   "metadata": {
    "colab_type": "text",
    "id": "peyF7azlCFHK"
   },
   "source": [
    "# THANK YOU\n",
    "\n",
    "# - DARSHAN GANDHI\n",
    "\n"
   ]
  },
  {
   "cell_type": "code",
   "execution_count": null,
   "metadata": {},
   "outputs": [],
   "source": []
  }
 ],
 "metadata": {
  "colab": {
   "name": "DarshanGandhi-4.ipynb",
   "provenance": []
  },
  "kernelspec": {
   "display_name": "Python 3",
   "language": "python",
   "name": "python3"
  },
  "language_info": {
   "codemirror_mode": {
    "name": "ipython",
    "version": 3
   },
   "file_extension": ".py",
   "mimetype": "text/x-python",
   "name": "python",
   "nbconvert_exporter": "python",
   "pygments_lexer": "ipython3",
   "version": "3.8.5"
  }
 },
 "nbformat": 4,
 "nbformat_minor": 1
}
